{
 "cells": [
  {
   "cell_type": "code",
   "execution_count": 2,
   "metadata": {},
   "outputs": [],
   "source": [
    "import pandas as pd\n",
    "import re\n",
    "from lxml import etree"
   ]
  },
  {
   "cell_type": "code",
   "execution_count": 6,
   "metadata": {},
   "outputs": [
    {
     "name": "stdout",
     "output_type": "stream",
     "text": [
      "Wall time: 3.76 s\n"
     ]
    }
   ],
   "source": [
    "%%time\n",
    "# get all <text> element\n",
    "tree = etree.parse(\"enwiki-20190520-pages-articles-multistream1.xml\")\n",
    "root = tree.getroot()\n",
    "text_elem = root.findall('.//page//text', root.nsmap)"
   ]
  },
  {
   "cell_type": "code",
   "execution_count": 8,
   "metadata": {},
   "outputs": [
    {
     "data": {
      "text/plain": [
       "19821"
      ]
     },
     "execution_count": 8,
     "metadata": {},
     "output_type": "execute_result"
    }
   ],
   "source": [
    "len(text_elem)"
   ]
  },
  {
   "cell_type": "markdown",
   "metadata": {},
   "source": [
    "Query `declare default element namespace \"http://www.mediawiki.org/xml/export-0.10/\";//page//text` in BaseX, got:\n",
    "```\n",
    "Result:\n",
    "- Hit(s): 19821 Items\n",
    "```\n",
    "Count checked."
   ]
  },
  {
   "cell_type": "code",
   "execution_count": null,
   "metadata": {},
   "outputs": [],
   "source": [
    "tar_infoboxes = []"
   ]
  },
  {
   "cell_type": "code",
   "execution_count": 14,
   "metadata": {},
   "outputs": [
    {
     "data": {
      "text/plain": [
       "6602"
      ]
     },
     "execution_count": 14,
     "metadata": {},
     "output_type": "execute_result"
    }
   ],
   "source": [
    "text_with_infobox = [e.text for e in text_elem if '{{Infobox' in e.text]\n",
    "len(text_with_infobox)"
   ]
  },
  {
   "cell_type": "code",
   "execution_count": 10,
   "metadata": {},
   "outputs": [
    {
     "data": {
      "text/plain": [
       "6602"
      ]
     },
     "execution_count": 10,
     "metadata": {},
     "output_type": "execute_result"
    }
   ],
   "source": [
    "def extract_infoboxes(lines):\n",
    "    infoboxes = []\n",
    "    infobox = []\n",
    "    bracket_stack = 0\n",
    "    cur_line_is_infobox = False\n",
    "    \n",
    "    for l in lines:\n",
    "        l = l.strip()\n",
    "        if not cur_line_is_infobox and l.strip()[:9] == '{{Infobox' and l[2:].strip() in all_infobox_types:\n",
    "            cur_line_is_infobox = True\n",
    "        if cur_line_is_infobox:\n",
    "            bracket_stack = bracket_stack + len(re.findall('{{', l)) - len(re.findall('}}', l))\n",
    "            infobox.append(l)\n",
    "            if bracket_stack <= 0:\n",
    "                cur_line_is_infobox = False\n",
    "                infoboxes.append(infobox)\n",
    "                infobox = []\n",
    "                bracket_stack = 0\n",
    "    return infoboxes"
   ]
  },
  {
   "cell_type": "code",
   "execution_count": 15,
   "metadata": {},
   "outputs": [],
   "source": [
    "tmp = text_with_infobox[0]"
   ]
  },
  {
   "cell_type": "code",
   "execution_count": 18,
   "metadata": {},
   "outputs": [],
   "source": [
    "tmp_lines = tmp.splitlines()"
   ]
  },
  {
   "cell_type": "code",
   "execution_count": 19,
   "metadata": {},
   "outputs": [
    {
     "data": {
      "text/plain": [
       "272"
      ]
     },
     "execution_count": 19,
     "metadata": {},
     "output_type": "execute_result"
    }
   ],
   "source": [
    "len(tmp_lines)"
   ]
  },
  {
   "cell_type": "code",
   "execution_count": 22,
   "metadata": {},
   "outputs": [],
   "source": [
    "def extract_infoboxes(lines):\n",
    "    infoboxes = []\n",
    "    infobox = []\n",
    "    bracket_stack = 0\n",
    "    cur_line_is_infobox = False\n",
    "    \n",
    "    for l in lines:\n",
    "        l = l.strip()\n",
    "        if not cur_line_is_infobox and l.strip()[:9] == '{{Infobox':\n",
    "            cur_line_is_infobox = True\n",
    "        if cur_line_is_infobox:\n",
    "            bracket_stack = bracket_stack + len(re.findall('{{', l)) - len(re.findall('}}', l))\n",
    "            infobox.append(l)\n",
    "            if bracket_stack <= 0:\n",
    "                cur_line_is_infobox = False\n",
    "                infoboxes.append(infobox)\n",
    "                infobox = []\n",
    "                bracket_stack = 0\n",
    "    return infoboxes"
   ]
  },
  {
   "cell_type": "code",
   "execution_count": 23,
   "metadata": {},
   "outputs": [
    {
     "data": {
      "text/plain": [
       "[['{{Infobox medical condition (new)',\n",
       "  '| name            = Autism',\n",
       "  '| image           = Autism-stacking-cans 2nd edit.jpg',\n",
       "  '| alt             = Boy stacking cans',\n",
       "  '| caption         = Repetitively stacking or lining up objects is associated with autism.',\n",
       "  '| field           = [[Psychiatry]]',\n",
       "  '| symptoms        = Trouble with [[Interpersonal relationship|social interaction]], impaired [[communication]], restricted interests, repetitive behavior<ref name=Land2008/>',\n",
       "  '| complications   =',\n",
       "  '| onset           = By age two or three<ref name=NIH2016>{{cite web |title= NIMH \" Autism Spectrum Disorder |url= https://www.nimh.nih.gov/health/topics/autism-spectrum-disorders-asd/index.shtml |website= nimh.nih.gov |accessdate= 20 April 2017 |language=en |date= October 2016}}</ref><ref name=DSM5/>',\n",
       "  '| duration        = Long-term<ref name=NIH2016/>',\n",
       "  '| causes          = [[Heritability of autism|Genetic]] and environmental factors<ref name=Ch2012/>',\n",
       "  '| risks           =',\n",
       "  '| diagnosis       = Based on behavior and developmental history<ref name=NIH2016/>',\n",
       "  '| differential    = [[Reactive attachment disorder]], [[intellectual disability]], [[schizophrenia]]<ref>{{cite book |vauthors=Corcoran J, Walsh J |title=Clinical Assessment and Diagnosis in Social Work Practice |url={{Google books|y28kokLoe78C|page=72|plainurl=yes}} |publisher=Oxford University Press, New York |date=9 February 2006 |isbn=978-0-19-516830-3 |oclc=466433183 |lccn=2005027740 |via=Google Books |page=72 }}</ref>',\n",
       "  '| prevention      =',\n",
       "  '| treatment       = [[Behavioral therapy]], [[speech therapy]], [[psychotropic medication]]<ref name=CCD2007/><ref name=San2016/><ref>{{cite journal |last1=Sukhodolsky |first1=DG |last2=Bloch |first2=MH |last3=Panza |first3=KE |last4=Reichow |first4=B |title=Cognitive-behavioral therapy for anxiety in children with high-functioning autism: a meta-analysis. |journal=Pediatrics |date=November 2013 |volume=132 |issue=5 |pages=e1341–50 |doi=10.1542/peds.2013-1193 |pmid=24167175|pmc=3813396 }}</ref>',\n",
       "  '| medication      =  [[Atypical antipsychotics|Antipsychotics]], [[antidepressants]], [[stimulants]] (associated symptoms)<ref name=Ji2015/><ref name=\"Oswald DP 2006\"/><ref name=\"ReferenceA\"/>',\n",
       "  '| prognosis       = Frequently poor<ref name=Ste106/>',\n",
       "  '| frequency       = 24.8 million (2015)<ref name=GBD2015Pre/>',\n",
       "  '| deaths          =',\n",
       "  '}}']]"
      ]
     },
     "execution_count": 23,
     "metadata": {},
     "output_type": "execute_result"
    }
   ],
   "source": [
    "extract_infoboxes(tmp_lines)"
   ]
  },
  {
   "cell_type": "code",
   "execution_count": 13,
   "metadata": {},
   "outputs": [
    {
     "name": "stdout",
     "output_type": "stream",
     "text": [
      "{{about|the classic autistic disorder|other conditions sometimes called \"autism\"|Autism spectrum|the journal|Autism (journal)}}\n",
      "{{pp-semi-indef}}\n",
      "{{pp-move-indef}}\n",
      "{{short description|neurodevelopmental disorder involving problems with social interaction, communication, and repetitive behaviors}}\n",
      "{{bots|deny=Monkbot}} <!-- keep Monkbot from visiting this page -->\n",
      "{{Use dmy dates|date=August 2018}}\n",
      "{{Use American English|date=August 2016}}\n",
      "{{Infobox medical condition (new)\n",
      "| name            = Autism\n",
      "| image           = Autism-stacking-cans 2nd edit.jpg\n",
      "| alt             = Boy stacking cans\n",
      "| caption         = Repetitively stacking or lining up objects is associated with autism.\n",
      "| field           = [[Psychiatry]]\n",
      "| symptoms        = Trouble with [[Interpersonal relationship|social interaction]], impaired [[communication]], restricted interests, repetitive behavior<ref name=Land2008/>\n",
      "| complications   =\n",
      "| onset           = By age two or three<ref name=NIH2016>{{cite web |title= NIMH \" Autism Spectrum Disorder |url= https://www.nimh.nih.gov/health/topics/autism-spectrum-disorders-asd/index.shtml |website= nimh.nih.gov |accessdate= 20 April 2017 |language=en |date= October 2016}}</ref><ref name=DSM5/>\n",
      "| duration        = Long-term<ref name=NIH2016/>\n",
      "| causes          = [[Heritability of autism|Genetic]] and environmental factors<ref name=Ch2012/>\n",
      "| risks           = \n",
      "| diagnosis       = Based on behavior and developmental history<ref name=NIH2016/>\n",
      "| differential    = [[Reactive attachment disorder]], [[intellectual disability]], [[schizophrenia]]<ref>{{cite book |vauthors=Corcoran J, Walsh J |title=Clinical Assessment and Diagnosis in Social Work Practice |url={{Google books|y28kokLoe78C|page=72|plainurl=yes}} |publisher=Oxford University Press, New York |date=9 February 2006 |isbn=978-0-19-516830-3 |oclc=466433183 |lccn=2005027740 |via=Google Books |page=72 }}</ref>\n",
      "| prevention      =\n",
      "| treatment       = [[Behavioral therapy]], [[speech therapy]], [[psychotropic medication]]<ref name=CCD2007/><ref name=San2016/><ref>{{cite journal |last1=Sukhodolsky |first1=DG |last2=Bloch |first2=MH |last3=Panza |first3=KE |last4=Reichow |first4=B |title=Cognitive-behavioral therapy for anxiety in children with high-functioning autism: a meta-analysis. |journal=Pediatrics |date=November 2013 |volume=132 |issue=5 |pages=e1341–50 |doi=10.1542/peds.2013-1193 |pmid=24167175|pmc=3813396 }}</ref>\n",
      "| medication      =  [[Atypical antipsychotics|Antipsychotics]], [[antidepressants]], [[stimulants]] (associated symptoms)<ref name=Ji2015/><ref name=\"Oswald DP 2006\"/><ref name=\"ReferenceA\"/>\n",
      "| prognosis       = Frequently poor<ref name=Ste106/>\n",
      "| frequency       = 24.8 million (2015)<ref name=GBD2015Pre/>\n",
      "| deaths          = \n",
      "}}\n",
      "<!-- Definition and symptoms -->\n",
      "'''Autism''' is a [[developmental disorder]] characterized by difficulties with [[social interaction]] and [[communication]], and by restricted and repetitive [[behavior]].<ref name=DSM5 /> Parents usually notice signs during the first three years of their child's life.<ref name=\"Land2008\">{{cite journal |vauthors= Landa RJ |title= Diagnosis of autism spectrum disorders in the first 3 years of life |journal= Nat Clin Pract Neurol | volume= 4 |issue=3 |pages=138–47 |year=2008 |pmid= 18253102 |doi= 10.1038/ncpneuro0731 | doi-access= free}}</ref><ref name=DSM5>{{vcite book | title = Diagnostic and Statistical Manual of Mental Disorders, Fifth Edition | chapter = Autism Spectrum Disorder, 299.00 (F84.0) | editor = American Psychiatric Association | year = 2013 | publisher = American Psychiatric Publishing | pagex = 50–59}}</ref> These signs often develop gradually, though some children with autism reach their [[developmental milestones]] at a normal pace before [[Regressive autism|worsening]].<ref name=Stef2008>{{Cite journal | vauthors = Stefanatos GA | title = Regression in autistic spectrum disorders | journal = Neuropsychol Rev | volume = 18 | issue = 4 | pages = 305–19 | year = 2008 | pmid = 18956241 | doi = 10.1007/s11065-008-9073-y}}</ref>\n",
      "\n",
      "<!-- Associations and diagnosis -->\n",
      "Autism is associated with a combination of [[Heritability of autism|genetic]] and [[environmental factors]].<ref name=Ch2012>{{cite journal |vauthors=Chaste P, Leboyer M |title=Autism risk factors: genes, environment, and gene-environment interactions |journal=Dialogues in Clinical Neuroscience |volume=14 |issue=3 |pages=281–92 |year=2012 |pmid=23226953 |pmc=3513682}}</ref> Risk factors during pregnancy include certain [[infection]]s, such as [[rubella]], toxins including [[valproic acid]], [[Alcohol (drug)|alcohol]], [[cocaine]], [[pesticides]] and [[air pollution]], [[fetal growth restriction]],<!-- <ref name=\"VohrPoggiDavis2017\" /> --> and [[autoimmune disease]]s.<ref>{{Cite journal |title=Prenatal factors associated with autism spectrum disorder (ASD)|vauthors=Ornoy A, Weinstein-Fudim L, Ergaz Z|journal=Reproductive Toxicology|volume=56|year=2015|pages=155–69|doi=10.1016/j.reprotox.2015.05.007|pmid=26021712}}</ref><ref name=\"VohrPoggiDavis2017\" /><ref name=SamsamAhangari2014 /> [[Controversies in autism|Controversies]] surround other proposed environmental [[Causes of autism|causes]]; for example, the [[MMR vaccine controversy|vaccine hypothesis]], which has been disproven.<ref name=Rut2005>{{cite journal | vauthors = Rutter M | title = Incidence of autism spectrum disorders: changes over time and their meaning | journal = Acta Paediatr | volume = 94 | issue = 1 | pages = 2–15 | year = 2005 | pmid = 15858952 | doi = 10.1111/j.1651-2227.2005.tb01779.x}}</ref> Autism affects information processing in the [[brain]] by altering connections and organization of [[nerve cell]]s and their [[synapse]]s.<ref name=\"Lev2009\"/> How this occurs is not well understood.<ref name=\"Lev2009\">{{cite journal | vauthors = Levy SE, Mandell DS, Schultz RT | title = Autism | journal = Lancet | volume = 374 | issue = 9701 | pages = 1627–38 | year = 2009 | pmid = 19819542 | pmc = 2863325 | doi = 10.1016/S0140-6736(09)61376-3}}</ref> In the [[DSM-5]], autism and less severe forms of the condition, including [[Asperger syndrome]] and [[pervasive developmental disorder not otherwise specified]] (PDD-NOS), have been combined into the diagnosis of [[autism spectrum disorder]] (ASD).<ref name=DSM5/><ref name=\"John2007\">{{cite journal | vauthors = Johnson CP, Myers SM | title = Identification and evaluation of children with autism spectrum disorders | journal = Pediatrics | volume = 120 | issue = 5 | pages = 1183–215 | year = 2007 | pmid = 17967920 | doi = 10.1542/peds.2007-2361 | url = http://pediatrics.aappublications.org/cgi/content/full/120/5/1183 | archiveurl = https://web.archive.org/web/20090208013449/http://pediatrics.aappublications.org/cgi/content/full/120/5/1183 | archivedate = 8 February 2009 | doi-access = free}}</ref>\n",
      "\n",
      "<!-- Treatment -->\n",
      "Early [[speech therapy]] or [[Applied behavior analysis|behavioral interventions]] can help children with autism gain [[self-care]], social, and communication skills.<ref name=\"CCD2007\">{{cite journal | url= https://pediatrics.aappublications.org/content/120/5/1162 | vauthors = Myers SM, Johnson CP | title = Management of children with autism spectrum disorders | journal = Pediatrics | volume = 120 | issue = 5 | pages = 1162–82 | date = November 2007 | pmid = 17967921 | doi = 10.1542/peds.2007-2362 | doi-access = free }}</ref><ref name=San2016>{{cite journal |last1=Sanchack |first1=KE |last2=Thomas |first2=CA |title=Autism Spectrum Disorder: Primary Care Principles. |journal=American Family Physician |date=15 December 2016 |volume=94 |issue=12 |pages=972–79 |pmid=28075089}}</ref> Although there is no known [[cure]],<ref name=CCD2007 /> there have been cases of children who recovered.<ref name=Helt2008>{{cite journal | vauthors = Helt M, Kelley E, Kinsbourne M, Pandey J, Boorstein H, Herbert M, Fein D | title = Can children with autism recover? If so, how? | journal = Neuropsychology Review | volume = 18 | issue = 4 | pages = 339–66 | date = December 2008 | pmid = 19009353 | doi = 10.1007/s11065-008-9075-9 | url = https://www.academia.edu/16961306 | citeseerx = 10.1.1.695.2995 }}</ref> Not many children with autism live independently after reaching adulthood, though some are successful.<ref name=Ste106>{{cite journal | vauthors = Steinhausen HC, Mohr Jensen C, Lauritsen MB | title = A systematic review and meta-analysis of the long-term overall outcome of autism spectrum disorders in adolescence and adulthood | journal = Acta Psychiatrica Scandinavica | volume = 133 | issue = 6 | pages = 445–52 | date = June 2016 | pmid = 26763353 | doi = 10.1111/acps.12559 }}</ref> An [[Societal and cultural aspects of autism|autistic culture]] has developed, with some individuals seeking a cure and others believing autism should be [[Autism rights movement|accepted as a difference and not treated as a disorder]].<ref name=Sil2008>{{cite journal |journal=BioSocieties |year=2008 |volume=3 |issue=3 |pages=325–41 |title=Fieldwork on another planet: social science perspectives on the autism spectrum | vauthors = Silverman C |doi=10.1017/S1745855208006236}}</ref><ref name=Frith2014>{{cite news |last=Frith |first=Uta | name-list-format = vanc |title=Autism – are we any closer to explaining the enigma? |url=https://thepsychologist.bps.org.uk/volume-27/edition-10/autism-are-we-any-closer-explaining-enigma |work=[[The Psychologist (magazine)|The Psychologist]] |publisher=[[British Psychological Society]] |date=October 2014 |volume=27 |pages=744–45}}</ref>\n",
      "\n",
      "<!-- Epidemiology -->\n",
      "Globally, autism is estimated to affect 24.8 million people {{as of|2015|lc=y}}.<ref name=GBD2015Pre>{{cite journal|last1=GBD 2015 Disease and Injury Incidence and Prevalence|first1=Collaborators.|title=Global, regional, and national incidence, prevalence, and years lived with disability for 310 diseases and injuries, 1990–2015: a systematic analysis for the Global Burden of Disease Study 2015|journal=Lancet|date=8 October 2016|volume=388|issue=10053|pages=1545–602|pmid=27733282|doi=10.1016/S0140-6736(16)31678-6|pmc=5055577}}</ref> In the 2000s, the number of people affected was estimated at 1–2 per 1,000 people worldwide.<ref name=News2007 /> In the [[developed countries]], about 1.5% of children are diagnosed with ASD {{as of|2017|lc=y}},<ref>{{cite journal | vauthors = Lyall K, Croen L, Daniels J, Fallin MD, Ladd-Acosta C, Lee BK, Park BY, Snyder NW, Schendel D, Volk H, Windham GC, Newschaffer C | title = The Changing Epidemiology of Autism Spectrum Disorders | journal = Annual Review of Public Health | volume = 38 | pages = 81–102 | date = March 2017 | pmid = 28068486 | doi = 10.1146/annurev-publhealth-031816-044318 }}</ref> from 0.7% in 2000 in the United States.<ref name=ASD2016>{{cite web |url = https://www.cdc.gov/ncbddd/autism/data.html |title = ASD Data and Statistics |publisher = CDC.gov |access-date= 11 July 2016 |archive-url = https://web.archive.org/web/20140418153648/http://www.cdc.gov/ncbddd/autism/data.html |archive-date = 18 April 2014}}</ref> It occurs four-to-five times more often in males than females.<ref name=ASD2016 /> The number of people diagnosed has increased dramatically since the 1960s, partly due to changes in diagnostic practice.<ref name=News2007/> The question of whether actual rates have increased is unresolved.<ref name=News2007>{{cite journal | vauthors = Newschaffer CJ, Croen LA, Daniels J, Giarelli E, Grether JK, Levy SE, Mandell DS, Miller LA, Pinto-Martin J, Reaven J, Reynolds AM, Rice CE, Schendel D, Windham GC | title = The epidemiology of autism spectrum disorders | journal = Annual Review of Public Health | volume = 28 | pages = 235–58 | year = 2007 | pmid = 17367287 | doi = 10.1146/annurev.publhealth.28.021406.144007 }}</ref>\n",
      "\n",
      "==Characteristics==\n",
      "Autism is a highly variable [[neurodevelopmental disorder]]<ref name=Geschwind /> that first appears during [[Infant|infancy]] or [[childhood]], and generally follows a steady course without [[Remission (medicine)|remission]].<ref name=ICD-10-F84.0 /> People with autism may be severely impaired in some respects but normal, or even superior, in others.<ref>{{cite book |vauthors=Pinel JP |title=Biopsychology |year=2011 |publisher=Pearson |location=Boston, Massachusetts |edition=8th |isbn=978-0-205-03099-6 |oclc=1085798897 |page=235 }}</ref> Overt symptoms gradually begin after the age of six months, become established by age two or three years<ref>{{cite journal | vauthors = Rogers SJ | title = What are infant siblings teaching us about autism in infancy? | journal = Autism Res | volume = 2 | issue = 3 | pages = 125–37 | year = 2009 | pmid = 19582867 | pmc = 2791538 | doi = 10.1002/aur.81}}</ref> and tend to continue through adulthood, although often in more muted form.<ref name=Rapin /> It is distinguished not by a single symptom but by a characteristic triad of symptoms: impairments in social interaction; impairments in communication; and restricted interests and repetitive behavior. Other aspects, such as atypical eating, are also common but are not essential for diagnosis.<ref name=Filipek /> Individual symptoms of autism occur in the general population and appear not to associate highly, without a sharp line separating pathologically severe from common traits.<ref name=London />\n",
      "\n",
      "===Social development===\n",
      "Social deficits distinguish autism and the related [[autism spectrum disorder]]s (ASD; see [[#Classification|Classification]]) from other developmental disorders.<ref name=Rapin /> People with autism have social impairments and often lack the intuition about others that many people take for granted. Noted autistic [[Temple Grandin]] described her inability to understand the [[social communication]] of [[neurotypical]]s, or people with normal [[neural development]], as leaving her feeling \"like an anthropologist on Mars\".<ref>{{cite book |vauthors=Sacks O |author-link=Oliver Sacks |title=An Anthropologist on Mars: Seven Paradoxical Tales |year=1995 |publisher=[[Alfred A. Knopf|Knopf]] |location=New York |isbn=978-0-679-43785-7 |oclc=34359253 |lccn=94026733 |title-link=An Anthropologist on Mars }}</ref>\n",
      "\n",
      "Unusual social development becomes apparent early in childhood.<!-- ref name=Volkmar/ --> Autistic infants show less attention to social stimuli, smile and look at others less often, and respond less to their own name. Autistic [[toddler]]s differ more strikingly from [[social norms]]; for example, they have less [[eye contact]] and [[turn-taking]], and do not have the ability to use simple movements to express themselves, such as pointing at things.<ref name=Volkmar /> Three- to five-year-old children with autism are less likely to exhibit social understanding, approach others spontaneously, imitate and respond to emotions, communicate [[nonverbal autism|nonverbal]]ly, and take turns with others. However, they do form [[Attachment (psychology)|attachments]] to their primary caregivers.<ref>{{cite journal | vauthors = Sigman M, Dijamco A, Gratier M, Rozga A | title = Early detection of core deficits in autism | journal = Mental Retardation and Developmental Disabilities Research Reviews | volume = 10 | issue = 4 | pages = 221–33 | year = 2004 | pmid = 15666338 | doi = 10.1002/mrdd.20046 | citeseerx = 10.1.1.492.9930 }}</ref> Most children with autism display moderately less [[Attachment in children#Secure attachment|attachment security]] than neurotypical children, although this difference disappears in children with higher mental development or less severe ASD.<ref>{{cite journal | vauthors = Rutgers AH, Bakermans-Kranenburg MJ, van Ijzendoorn MH, van Berckelaer-Onnes IA | title = Autism and attachment: a meta-analytic review | journal = Journal of Child Psychology and Psychiatry, and Allied Disciplines | volume = 45 | issue = 6 | pages = 1123–34 | date = September 2004 | pmid = 15257669 | doi = 10.1111/j.1469-7610.2004.t01-1-00305.x }}</ref> Older children and adults with ASD [[Face perception#Face perception in individuals with autism|perform worse on tests of face and emotion recognition]]<ref name=\"Sigman\">{{cite journal | vauthors = Sigman M, Spence SJ, Wang AT | title = Autism from developmental and neuropsychological perspectives | journal = Annual Review of Clinical Psychology | volume = 2 | pages = 327–55 | year = 2006 | pmid = 17716073 | doi = 10.1146/annurev.clinpsy.2.022305.095210 }}</ref> although this may be partly due to a lower ability to define a person's own emotions.<ref>{{cite journal | vauthors = Bird G, Cook R | title = Mixed emotions: the contribution of alexithymia to the emotional symptoms of autism | journal = Translational Psychiatry | volume = 3 | issue = 7 | pages = e285 | date = July 2013 | pmid = 23880881 | pmc = 3731793 | doi = 10.1038/tp.2013.61 }}</ref>\n",
      "\n",
      "Children with high-functioning autism suffer from more intense and frequent loneliness compared to non-autistic peers, despite the common belief that children with autism prefer to be alone. Making and maintaining friendships often proves to be difficult for those with autism. For them, the quality of friendships, not the number of friends, predicts how lonely they feel. Functional friendships, such as those resulting in invitations to parties, may affect the quality of life more deeply.<ref name=Burgess />\n",
      "\n",
      "There are many anecdotal reports, but few systematic studies, of aggression and violence in individuals with ASD. The limited data suggest that, in children with intellectual disability, autism is associated with aggression, destruction of property, and meltdowns.<ref>{{cite journal |vauthors= Matson JL, Nebel-Schwalm M |title= Assessing challenging behaviors in children with autism spectrum disorders: A review |journal= Research in Developmental Disabilities |volume= 28 |issue=6 |pages= 567–79 |date= November 2007 |pmid= 16973329 |doi= 10.1016/j.ridd.2006.08.001 }}</ref>\n",
      "\n",
      "===Communication===\n",
      "About a third to a half of individuals with autism do not develop enough natural speech to meet their daily communication needs.<ref>{{cite journal |vauthors= Noens I, van Berckelaer-Onnes I, Verpoorten R, van Duijn G |title= The ComFor: an instrument for the indication of augmentative communication in people with autism and intellectual disability |journal= J Intellect Disabil Res |volume= 50 |issue=9 |pages= 621–32 |year = 2006 |pmid= 16901289 |doi= 10.1111/j.1365-2788.2006.00807.x |url= https://lirias.kuleuven.be/handle/123456789/216355}}</ref> Differences in communication may be present from the first year of life, and may include delayed onset of [[babbling]], unusual gestures, diminished responsiveness, and vocal patterns that are not synchronized with the caregiver. In the second and third years, children with autism have less frequent and less diverse babbling, consonants, words, and word combinations; their gestures are less often integrated with words. Children with autism are less likely to make requests or share experiences, and are more likely to simply repeat others' words ([[echolalia]])<ref name=Landa /><ref name=Tager-Flusberg /> or [[Pronoun reversal|reverse pronouns]].<ref name=Kanner1943 /> [[Joint attention]] seems to be necessary for functional speech, and deficits in joint attention seem to distinguish infants with ASD.<ref name=John2007 /> For example, they may look at a pointing hand instead of the pointed-at object,<ref name=Volkmar /><ref name=Tager-Flusberg /> and they consistently fail to point at objects in order to comment on or share an experience.<ref name=John2007 /> Children with autism may have difficulty with imaginative play and with developing symbols into language.<ref name=\"Landa\">{{cite journal | vauthors = Landa R | title = Early communication development and intervention for children with autism | journal = Ment Retard Dev Disabil Res Rev | volume = 13 | issue = 1 | pages = 16–25 | year = 2007 | pmid = 17326115 | doi = 10.1002/mrdd.20134}}</ref><ref name=\"Tager-Flusberg\">{{cite journal | vauthors = Tager-Flusberg H, Caronna E | title = Language disorders: autism and other pervasive developmental disorders | journal = Pediatr Clin North Am | volume = 54 | issue = 3 | pages = 469–81 | year = 2007 | pmid = 17543905 | doi = 10.1016/j.pcl.2007.02.011 | url = https://www.academia.edu/19351942}}</ref>\n",
      "\n",
      "In a pair of studies, high-functioning children with autism aged 8–15 performed equally well as, and as adults better than, individually matched controls at basic language tasks involving vocabulary and spelling. Both autistic groups performed worse than controls at complex language tasks such as figurative language, comprehension and inference. As people are often sized up initially from their basic language skills, these studies suggest that people speaking to autistic individuals are more likely to overestimate what their audience comprehends.<ref name=\"Williams\">{{cite journal | vauthors = Williams DL, Goldstein G, Minshew NJ | title = Neuropsychologic functioning in children with autism: further evidence for disordered complex information-processing | journal = Child Neuropsychol | volume = 12 | issue = 4–5 | pages = 279–98 | year = 2006 | pmid = 16911973 | pmc = 1803025 | doi = 10.1080/09297040600681190}}</ref>\n",
      "\n",
      "===Repetitive behavior===\n",
      "[[File:Autistic-sweetiepie-boy-with-ducksinarow.jpg|thumb|alt=Sleeping boy beside a dozen or so toys arranged in a line|A young boy with autism who has arranged his toys in a row]]\n",
      "Autistic individuals can display many forms of repetitive or restricted behavior, which the Repetitive Behavior Scale-Revised (RBS-R) categorizes as follows.<ref name=Lam-Aman />\n",
      "\n",
      "* [[Stereotypy|Stereotyped behaviors]]: Repetitive movements, such as hand flapping, head rolling, or body rocking.\n",
      "* [[Compulsive behavior]]s: Time-consuming behaviors intended to reduce anxiety that an individual feels compelled to perform repeatedly or according to rigid rules, such as placing objects in a specific order, checking things, or hand washing.\n",
      "* [[Sameness]]: Resistance to change; for example, insisting that the furniture not be moved or refusing to be interrupted.\n",
      "* [[Ritual#Psychology|Ritualistic behavior]]: Unvarying pattern of daily activities, such as an unchanging menu or a dressing ritual. This is closely associated with sameness and an independent validation has suggested combining the two factors.<ref name=\"Lam-Aman\">{{cite journal | vauthors = Lam KS, Aman MG | title = The Repetitive Behavior Scale-Revised: independent validation in individuals with autism spectrum disorders | journal = J Autism Dev Disord | volume = 37 | issue = 5 | pages = 855–66 | year = 2007 | pmid = 17048092 | doi = 10.1007/s10803-006-0213-z | url = https://www.academia.edu/14013119}}</ref>\n",
      "* Restricted interests: Interests or fixations that are abnormal in theme or intensity of focus, such as preoccupation with a single television program, toy, or game.\n",
      "* [[Self-injury]]: Behaviors such as eye-poking, [[Dermatillomania|skin-picking]], hand-biting and head-banging.<ref name=John2007 />\n",
      "\n",
      "No single repetitive or self-injurious behavior seems to be specific to autism, but autism appears to have an elevated pattern of occurrence and severity of these behaviors.<ref>{{cite journal | vauthors = Bodfish JW, Symons FJ, Parker DE, Lewis MH | title = Varieties of repetitive behavior in autism: comparisons to mental retardation | journal = J Autism Dev Disord | volume = 30 | issue = 3 | pages = 237–43 | year = 2000 | pmid = 11055459 | doi = 10.1023/A:1005596502855}}</ref>\n",
      "\n",
      "===Other symptoms===\n",
      "Autistic individuals may have symptoms that are independent of the diagnosis, but that can affect the individual or the family.<ref name=\"Filipek\">{{cite journal | vauthors = Filipek PA, Accardo PJ, Baranek GT, Cook EH, Dawson G, Gordon B, Gravel JS, Johnson CP, Kallen RJ, Levy SE, Minshew NJ, Ozonoff S, Prizant BM, Rapin I, Rogers SJ, Stone WL, Teplin S, Tuchman RF, Volkmar FR | title = The screening and diagnosis of autistic spectrum disorders | journal = J Autism Dev Disord | volume = 29 | issue = 6 | pages = 439–84 | year = 1999 | pmid = 10638459 | doi = 10.1023/A:1021943802493 }} This paper represents a consensus of representatives from nine professional and four parent organizations in the US.</ref>\n",
      "An estimated 0.5% to 10% of individuals with ASD show unusual abilities, ranging from [[splinter skill]]s such as the memorization of trivia to the extraordinarily rare talents of prodigious [[Savant syndrome|autistic savants]].<ref>{{cite journal | vauthors = Treffert DA | title = The savant syndrome: an extraordinary condition. A synopsis: past, present, future | journal = Philosophical Transactions of the Royal Society B | volume = 364 | issue = 1522 | pages = 1351–57 | year = 2009 | pmid = 19528017 | pmc = 2677584 | doi = 10.1098/rstb.2008.0326 | laysummary = https://www.wisconsinmedicalsociety.org/professional/savant-syndrome/savant-syndrome-overview/ | laysource = Wisconsin Medical Society}}</ref> Many individuals with ASD show superior skills in perception and attention, relative to the general population.<ref>{{cite journal | vauthors = Plaisted Grant K, Davis G | title = Perception and apperception in autism: rejecting the inverse assumption | journal = Philosophical Transactions of the Royal Society B | volume = 364 | issue = 1522 | pages = 1393–98 | year = 2009 | pmid = 19528022 | pmc = 2677593 | doi = 10.1098/rstb.2009.0001 }}</ref> [[Sensory system|Sensory]] abnormalities are found in over 90% of those with autism, and are considered core features by some,<ref name=\"Geschwind-2009\">{{cite journal | vauthors = Geschwind DH | title = Advances in autism | journal = Annu Rev Med | volume = 60 | pages = 367–80 | year = 2009 | pmid = 19630577 | pmc = 3645857 | doi = 10.1146/annurev.med.60.053107.121225}}</ref> although there is no good evidence that sensory symptoms differentiate autism from other developmental disorders.<ref>{{cite journal | vauthors = Rogers SJ, Ozonoff S | title = Annotation: what do we know about sensory dysfunction in autism? A critical review of the empirical evidence | journal = J Child Psychol Psychiatry | volume = 46 | issue = 12 | pages = 1255–68 | year = 2005 | pmid = 16313426 | doi = 10.1111/j.1469-7610.2005.01431.x}}</ref> Differences are greater for under-responsivity (for example, walking into things) than for over-responsivity (for example, distress from loud noises) or for sensation seeking (for example, rhythmic movements).<ref>{{cite journal | vauthors = Ben-Sasson A, Hen L, Fluss R, Cermak SA, Engel-Yeger B, Gal E | title = A meta-analysis of sensory modulation symptoms in individuals with autism spectrum disorders | journal = J Autism Dev Disord | volume = 39 | issue = 1 | pages = 1–11 | year = 2009 | pmid = 18512135 | doi = 10.1007/s10803-008-0593-3 }}</ref> An estimated 60–80% of autistic people have motor signs that include [[Hypotonia|poor muscle tone]], [[Apraxia|poor motor planning]], and [[toe walking]];<ref name=Geschwind-2009 /> deficits in motor coordination are pervasive across ASD and are greater in autism proper.<ref>{{cite journal | vauthors = Fournier KA, Hass CJ, Naik SK, Lodha N, Cauraugh JH | title = Motor coordination in autism spectrum disorders: a synthesis and meta-analysis | journal = J Autism Dev Disord | volume = 40| issue = 10 | year = 2010 | pmid = 20195737 | doi = 10.1007/s10803-010-0981-3 | pages=1227–40}}</ref>  Unusual eating behavior occurs in about three-quarters of children with ASD, to the extent that it was formerly a diagnostic indicator. Selectivity is the most common problem, although eating rituals and food refusal also occur.<ref name=\"Dominick\">{{cite journal | vauthors = Dominick KC, Davis NO, Lainhart J, Tager-Flusberg H, Folstein S | title = Atypical behaviors in children with autism and children with a history of language impairment | journal = Res Dev Disabil | volume = 28 | issue = 2 | pages = 145–62 | year = 2007 | pmid = 16581226 | doi = 10.1016/j.ridd.2006.02.003 | url = https://www.academia.edu/19351952}}</ref>\n",
      "\n",
      "Parents of children with ASD have higher levels of [[stress (psychological)|stress]].<ref name=\"Volkmar\">{{cite book |veditors=Volkmar FR, Paul R, Pelphrey KA, Rogers SJ |title=Handbook of Autism and Pervasive Developmental Disorders: Volume Two: Assessment, Interventions, and Policy |volume=2 |edition=4th |year=2014 |publisher=[[John Wiley & Sons]] |location=Hoboken, New Jersey |url={{Google books|4yzqAgAAQBAJ|page=301|plainurl=yes}} |isbn=978-1-118-28220-5 |oclc=946133861 |lccn=2013034363 |page=301 |access-date=1 March 2019 |via=Google Books}}</ref> Siblings of children with ASD report greater admiration of and less conflict with the affected sibling than siblings of unaffected children and were similar to siblings of children with [[Down syndrome]] in these aspects of the sibling relationship. However, they reported lower levels of closeness and intimacy than siblings of children with [[Down syndrome]]; siblings of individuals with ASD have greater risk of negative well-being and poorer sibling relationships as adults.<ref>{{cite journal | vauthors = Orsmond GI, Seltzer MM | title = Siblings of individuals with autism spectrum disorders across the life course | journal = Ment Retard Dev Disabil Res Rev | volume = 13 | issue = 4 | pages = 313–20 | year = 2007 | pmid = 17979200 | doi = 10.1002/mrdd.20171 | url = http://www.waisman.wisc.edu/family/pubs/Autism/2007%20siblings_autism_life-course.pdf | archiveurl = https://web.archive.org/web/20130530100939/http://www.waisman.wisc.edu/family/pubs/Autism/2007%20siblings_autism_life-course.pdf | archivedate = 30 May 2013| citeseerx = 10.1.1.359.7273 }}</ref> There is tentative evidence that autism occurs more frequently in people with [[gender dysphoria]].<ref>{{cite journal |last1=Van Der Miesen |first1=AI |last2=Hurley |first2=H |last3=De Vries |first3=AL |title=Gender dysphoria and autism spectrum disorder: A narrative review |journal=International Review of Psychiatry |date=2016 |volume=28 |issue=1 |pages=70–80 |doi=10.3109/09540261.2015.1111199 |pmid=26753812}}</ref><ref>{{cite journal |last1=Glidden |first1=D |last2=Bouman |first2=WP |last3=Jones |first3=BA |last4=Arcelus |first4=J |title=Gender Dysphoria and Autism Spectrum Disorder: A Systematic Review of the Literature. |journal=Sexual Medicine Reviews |date=January 2016 |volume=4 |issue=1 |pages=3–14 |doi=10.1016/j.sxmr.2015.10.003 |pmid=27872002|url=https://dspace.lboro.ac.uk/2134/20811 }}</ref>\n",
      "\n",
      "[[Gastrointestinal diseases|Gastrointestinal problems]] are one of the most commonly [[comorbidity|associated medical disorders]] in people with autism.<ref name=\"IsraelyanMargolis2018\"/> These are linked to greater social impairment, irritability, behavior and sleep problems, language impairments and mood changes.<ref name=\"IsraelyanMargolis2018\">{{cite journal| vauthors=Israelyan N, Margolis KG| title=Serotonin as a link between the gut-brain-microbiome axis in autism spectrum disorders. | journal=Pharmacol Res | year= 2018 | volume= 132 | issue=  | pages= 1–6 | pmid=29614380 | doi=10.1016/j.phrs.2018.03.020 | pmc=6368356 | type=Review }}</ref><ref name=\"WasilewskaKlukowski2015\">{{cite journal| vauthors=Wasilewska J, Klukowski M| title=Gastrointestinal symptoms and autism spectrum disorder: links and risks - a possible new overlap syndrome. | journal=Pediatric Health Med Ther | year= 2015 | volume= 6 | issue=  | pages= 153–166 | pmid=29388597 | doi=10.2147/PHMT.S85717 | pmc=5683266 | type=Review }}</ref>\n",
      "\n",
      "==Causes==\n",
      "{{Main|Causes of autism}}\n",
      "\n",
      "It has long been presumed that there is a common cause at the genetic, cognitive, and neural levels for autism's characteristic triad of symptoms.<ref name=\"Fractionable\" /> However, there is increasing suspicion that autism is instead a complex disorder whose core aspects have distinct causes that often co-occur.<ref name=\"Fractionable\">{{cite journal|vauthors=Happé F, Ronald A |title=The 'fractionable autism triad': a review of evidence from behavioural, genetic, cognitive and neural research |journal=[[Neuropsychol Rev]] |volume=18 |issue=4 |pages=287–304 |year=2008 |pmid=18956240 |doi=10.1007/s11065-008-9076-8}}</ref><ref name=\"HappeTime\">{{cite journal | vauthors = Happé F, Ronald A, Plomin R | title = Time to give up on a single explanation for autism | journal = Nature Neuroscience | volume = 9 | issue = 10 | pages = 1218–20 | year = 2006 | pmid = 17001340 | doi = 10.1038/nn1770 | doi-access = free}}</ref>\n",
      "\n",
      "[[File:Single Chromosome Mutations.svg|thumb|alt=Three diagrams of chromosome pairs A, B that are nearly identical. 1: B is missing a segment of A. 2: B has two adjacent copies of a segment of A. 3: B's copy of A's segment is in reverse order.|Deletion (1), duplication (2) and inversion (3) are all [[chromosome abnormalities]] that have been implicated in autism.<ref name=\"Beaudet\" />]]\n",
      "Autism has a strong genetic basis, although the [[Heritability of autism|genetics of autism]] are complex and it is unclear whether ASD is explained more by rare [[mutation]]s with major effects, or by rare multigene interactions of common genetic variants.<ref name=\"Abrahams\">{{cite journal | vauthors = Abrahams BS, Geschwind DH | title = Advances in autism genetics: on the threshold of a new neurobiology | journal = Nature Reviews. Genetics | volume = 9 | issue = 5 | pages = 341–55 | date = May 2008 | pmid = 18414403 | pmc = 2756414 | doi = 10.1038/nrg2346 }}</ref><ref>{{cite journal | vauthors = Buxbaum JD | title = Multiple rare variants in the etiology of autism spectrum disorders | journal = Dialogues in Clinical Neuroscience | volume = 11 | issue = 1 | pages = 35–43 | year = 2009 | pmid = 19432386 | pmc = 3181906 }}</ref> Complexity arises due to interactions among multiple genes, the environment, and [[epigenetic]] factors which do not change [[DNA]] sequencing but are heritable and influence [[gene expression]].<ref name=\"Rapin\">{{cite journal | vauthors = Rapin I, Tuchman RF | title = Autism: definition, neurobiology, screening, diagnosis | journal = Pediatric Clinics of North America | volume = 55 | issue = 5 | pages = 1129–46, viii | date = October 2008 | pmid = 18929056 | doi = 10.1016/j.pcl.2008.07.005 }}</ref> Many genes have been associated with autism through sequencing the genomes of affected individuals and their parents.<ref name=\"SandersHe2015\">{{cite journal | vauthors = Sanders SJ, He X, Willsey AJ, Ercan-Sencicek AG, Samocha KE, Cicek AE, Murtha MT, Bal VH, Bishop SL, Dong S, Goldberg AP, Jinlu C, Keaney JF, Klei L, Mandell JD, Moreno-De-Luca D, Poultney CS, Robinson EB, Smith L, Solli-Nowlan T, Su MY, Teran NA, Walker MF, Werling DM, Beaudet AL, Cantor RM, Fombonne E, Geschwind DH, Grice DE, Lord C, Lowe JK, Mane SM, Martin DM, Morrow EM, Talkowski ME, Sutcliffe JS, Walsh CA, Yu TW, Ledbetter DH, Martin CL, Cook EH, Buxbaum JD, Daly MJ, Devlin B, Roeder K, State MW | display-authors = 6 | title = Insights into Autism Spectrum Disorder Genomic Architecture and Biology from 71 Risk Loci | journal = Neuron | volume = 87 | issue = 6 | pages = 1215–33 | date = September 2015 | pmid = 26402605 | pmc = 4624267 | doi = 10.1016/j.neuron.2015.09.016 | author45-link = Kathryn Roeder }}</ref> Studies of twins suggest that [[heritability]] is 0.7 for autism and as high as 0.9 for ASD, and siblings of those with autism are about 25 times more likely to be autistic than the general population.<ref name=\"Geschwind-2009\" /> However, most of the mutations that increase autism risk have not been identified. Typically, autism cannot be traced to a [[Mendelian]] (single-gene) mutation or to a single [[chromosome abnormality]], and none of the genetic syndromes associated with ASDs have been shown to selectively cause ASD.<ref name=\"Abrahams\" /> Numerous candidate genes have been located, with only small effects attributable to any particular gene.<ref name=Abrahams /> Most loci individually explain less than 1% of cases of autism.<ref>{{cite journal | vauthors = Persico AM, Napolioni V | title = Autism genetics | journal = Behavioural Brain Research | volume = 251 | pages = 95–112 | date = August 2013 | pmid = 23769996 | doi = 10.1016/j.bbr.2013.06.012 | url = https://www.academia.edu/27774685 }}</ref> The large number of autistic individuals with unaffected family members may result from spontaneous [[structural variation]]&nbsp;— such as [[Deletion (genetics)|deletions]], [[Gene duplication|duplications]] or [[Chromosomal inversion|inversions]] in genetic material during [[meiosis]].<ref>{{cite journal | vauthors = Cook EH, Scherer SW | title = Copy-number variations associated with neuropsychiatric conditions | journal = Nature | volume = 455 | issue = 7215 | pages = 919–23 | date = October 2008 | pmid = 18923514 | doi = 10.1038/nature07458 | url = https://www.academia.edu/12729917 | bibcode = 2008Natur.455..919C }}</ref><ref>{{cite journal | vauthors = Brandler WM, Antaki D, Gujral M, Noor A, Rosanio G, Chapman TR, Barrera DJ, Lin GN, Malhotra D, Watts AC, Wong LC, Estabillo JA, Gadomski TE, Hong O, Fajardo KV, Bhandari A, Owen R, Baughn M, Yuan J, Solomon T, Moyzis AG, Maile MS, Sanders SJ, Reiner GE, Vaux KK, Strom CM, Zhang K, Muotri AR, Akshoomoff N, Leal SM, Pierce K, Courchesne E, Iakoucheva LM, Corsello C, Sebat J | display-authors = 6 | title = Frequency and Complexity of De Novo Structural Mutation in Autism | journal = American Journal of Human Genetics | volume = 98 | issue = 4 | pages = 667–79 | date = April 2016 | pmid = 27018473 | pmc = 4833290 | doi = 10.1016/j.ajhg.2016.02.018 }}</ref> Hence, a substantial fraction of autism cases may be traceable to genetic causes that are highly heritable but not inherited: that is, the mutation that causes the autism is not present in the parental genome.<ref name=\"Beaudet\">{{cite journal | vauthors = Beaudet AL | title = Autism: highly heritable but not inherited | journal = Nature Medicine | volume = 13 | issue = 5 | pages = 534–36 | date = May 2007 | pmid = 17479094 | doi = 10.1038/nm0507-534 }}</ref> Autism may be underdiagnosed in women and girls due to an assumption that it is primarily a male condition.<ref>[https://www.theguardian.com/society/2018/sep/14/thousands-of-autistic-girls-and-women-going-undiagnosed-due-to-gender-bias Thousands of autistic girls and women 'going undiagnosed' due to gender bias] ''[[The Guardian]]''</ref>\n",
      "\n",
      "Maternal nutrition and inflammation during preconception and pregnancy influences fetal neurodevelopment. [[Intrauterine growth restriction]] is associated with ASD, in both term and preterm infants.<ref name=\"VohrPoggiDavis2017\">{{cite journal| vauthors=Vohr BR, Poggi Davis E, Wanke CA, Krebs NF| title=Neurodevelopment: The Impact of Nutrition and Inflammation During Preconception and Pregnancy in Low-Resource Settings | journal=Pediatrics | year= 2017 | volume= 139 | issue= Suppl 1 | pages= S38–S49 | pmid=28562247 | doi=10.1542/peds.2016-2828F | type=Review }}</ref> Maternal inflammatory and [[autoimmune disease]]s may damage fetal tissues, aggravating a genetic problem or damaging the nervous system.<ref name=SamsamAhangari2014>{{cite journal| vauthors=Samsam M, Ahangari R, Naser SA| title=Pathophysiology of autism spectrum disorders: revisiting gastrointestinal involvement and immune imbalance. | journal=World J Gastroenterol | year= 2014 | volume= 20 | issue= 29 | pages= 9942–51 | pmid=25110424 | doi=10.3748/wjg.v20.i29.9942 | pmc=4123375 | type=Review }}</ref>\n",
      "\n",
      "Exposure to [[air pollution]] during pregnancy, especially [[heavy metal (chemistry)|heavy metals]] and particulates, may increase the risk of autism.<ref>{{cite journal |vauthors=Lyall K, Schmidt RJ, Hertz-Picciotto I |title=Maternal lifestyle and environmental risk factors for autism spectrum disorders |journal=Int J Epidemiol |volume=43 |issue=2 |pages=443–64 |date=April 2014 |pmid=24518932 |doi=10.1093/ije/dyt282|doi-access=free |pmc=3997376}}</ref> [[Environmental factor]]s that have been claimed without evidence to contribute to or exacerbate autism include certain foods, [[infectious disease]]s, [[solvent]]s, [[PCBs]], [[phthalates]] and [[phenols]] used in plastic products, [[pesticide]]s, [[brominated flame retardant]]s, [[Ethanol|alcohol]], smoking, [[illicit drug]]s, [[vaccine]]s,<ref name=News2007 /> and [[prenatal stress]]. Some, such as the MMR vaccine, have been completely disproven.<ref>{{cite journal |vauthors=Kinney DK, Munir KM, Crowley DJ, Miller AM |title=Prenatal stress and risk for autism |journal=[[Neurosci Biobehav Rev]] |volume=32 |issue=8 |pages=1519–32 |year=2008 |pmid=18598714 |pmc=2632594 |doi=10.1016/j.neubiorev.2008.06.004}}</ref><ref>{{cite journal |last1=Hussain |first1=A |last2=Ali |first2=S |last3=Ahmed |first3=M |last4=Hussain |first4=S |title=The Anti-vaccination Movement: A Regression in Modern Medicine |journal=Cureus |date=3 July 2018 |volume=10 |issue=7 |pages=e2919 |doi=10.7759/cureus.2919 |pmid=30186724|pmc=6122668 }}</ref><ref name=AFP2017>{{cite journal |last1=Spencer |first1=JP |last2=Trondsen Pawlowski |first2=RH |last3=Thomas |first3=S |title=Vaccine Adverse Events: Separating Myth from Reality |journal=American Family Physician |date=15 June 2017 |volume=95 |issue=12 |pages=786–794 |pmid=28671426}}</ref>\n",
      "\n",
      "Parents may first become aware of autistic symptoms in their child around the time of a routine vaccination. This has led to unsupported theories blaming [[Vaccine controversy#Vaccine overload|vaccine \"overload\"]], a [[Thiomersal controversy|vaccine preservative]], or the [[MMR vaccine controversy|MMR vaccine]] for causing autism.<ref name=\"GerberOffit2009\">{{cite journal |vauthors=Gerber JS, Offit PA |title=Vaccines and autism: a tale of shifting hypotheses |journal=Clin Infect Dis |volume=48 |issue=4 |pages=456–61 |year=2009 |pmid=19128068 |pmc=2908388 |doi=10.1086/596476 |url=http://cid.oxfordjournals.org/content/48/4/456.full |archiveurl=https://web.archive.org/web/20131031043545/http://cid.oxfordjournals.org/content/48/4/456.full |archivedate=31 October 2013}}</ref> The latter theory was supported by a litigation-funded study that has since been shown to have been \"an elaborate fraud\".<ref name=\"WakefieldarticleBMJ\">{{cite journal |vauthors=Godlee F, Smith J, Marcovitch H |title=Wakefield's article linking MMR vaccine and autism was fraudulent |journal=[[BMJ]] |volume=342 |pages=c7452 |year=2011 |pmid=21209060 |doi=10.1136/bmj.c7452 |url=http://www.bmj.com/content/342/bmj.c7452.full |archiveurl=https://web.archive.org/web/20131111093448/http://www.bmj.com/content/342/bmj.c7452.full |archivedate=11 November 2013}}</ref> Although these theories lack convincing scientific evidence and are biologically implausible,<ref name=\"GerberOffit2009\" /> parental concern about a potential vaccine link with autism has led to lower rates of [[childhood immunizations]], [[MMR vaccine controversy#Disease outbreaks|outbreaks of previously controlled childhood diseases]] in some countries, and the preventable deaths of several children.<ref name=\"vaccines\">Vaccines and autism:\n",
      "\n",
      "*{{cite journal |vauthors=Doja A, Roberts W |title=Immunizations and autism: a review of the literature |journal=[[Can J Neurol Sci]] |volume=33 |issue=4 |pages=341–46 |year=2006 |pmid=17168158 |doi=10.1017/s031716710000528x|doi-access=free}}\n",
      "*{{cite journal|vauthors=Gerber JS, Offit PA |title=Vaccines and autism: a tale of shifting hypotheses |journal=[[Clin Infect Dis]] |volume=48 |issue=4 |pages=456–61 |year=2009 |pmid=19128068 |pmc=2908388 |doi=10.1086/596476 |url=http://cid.oxfordjournals.org/content/48/4/456.full |archiveurl=https://web.archive.org/web/20131031043545/http://cid.oxfordjournals.org/content/48/4/456.full |archivedate=31 October 2013 |deadurl=yes |df=}}\n",
      "*{{cite journal |vauthors=Gross L |title=A broken trust: lessons from the vaccine–autism wars |journal=PLoS Biol |volume=7 |issue=5 |pages=e1000114 |year=2009 |pmid=19478850 |pmc=2682483 |doi=10.1371/journal.pbio.1000114}}\n",
      "*{{cite journal|vauthors=Paul R |title=Parents ask: am I risking autism if I vaccinate my children? |journal=[[J Autism Dev Disord]] |volume=39 |issue=6 |pages=962–3 |year=2009 |pmid=19363650 |doi=10.1007/s10803-009-0739-y |url=http://works.bepress.com/rhea_paul/50}}\n",
      "*{{cite journal|vauthors=Poland GA, Jacobson RM |title=The Age-Old Struggle against the Antivaccinationists |journal=N Engl J Med |volume=364 |issue=2 |pages=97–99 |date=13 January 2011 |pmid=21226573 |doi=10.1056/NEJMp1010594 |doi-access=free}}</ref><ref name=\"dublin\">{{cite journal |vauthors=McBrien J, Murphy J, Gill D, Cronin M, O'Donovan C, Cafferkey MT |title=Measles outbreak in Dublin, 2000 |journal=Pediatr. Infect. Dis. J. |volume=22 |issue=7 |pages=580–84 |year=2003 |pmid=12867830 |doi=10.1097/00006454-200307000-00002}}</ref>\n",
      "\n",
      "==Mechanism==\n",
      "{{Main|Mechanism of autism}}\n",
      "Autism's symptoms result from maturation-related changes in various systems of the brain.<!-- ref name=Penn/ --> How autism occurs is not well understood. Its mechanism can be divided into two areas: the [[pathophysiology]] of brain structures and processes associated with autism, and the [[neuropsychological]] linkages between brain structures and behaviors.<ref name=\"Penn\">{{cite journal | vauthors = Penn HE | title = Neurobiological correlates of autism: a review of recent research | journal = Child Neuropsychol | volume = 12 | issue = 1 | pages = 57–79 | year = 2006 | pmid = 16484102 | doi = 10.1080/09297040500253546}}</ref> The behaviors appear to have multiple pathophysiologies.<ref name=London />\n",
      "\n",
      "There is evidence that [[gut–brain axis]] abnormalities may be involved.<ref name=\"WasilewskaKlukowski2015\" /><ref name=RaoGershon2016 /><ref name=IsraelyanMargolis2018 /> A 2015 review proposed that immune dysregulation, [[gastrointestinal tract|gastrointestinal]] inflammation, malfunction of the [[autonomic nervous system]], [[gut flora]] alterations, and food [[metabolite]]s may cause brain neuroinflammation and dysfunction.<ref name=\"WasilewskaKlukowski2015\" /><!-- Quote = immune dysregulation, GI inflammation, malfunction of the ANS, genetic and metabolic activity of the microbiome, and dietary metabolites may contribute to brain dysfunction and neuroinflammation depending upon individual genetic vulnerability --> A 2016 review concludes that [[enteric nervous system]] abnormalities might play a role in neurological disorders such as autism. Neural connections and the immune system are a pathway that may allow diseases originated in the intestine to spread to the brain.<ref name=RaoGershon2016>{{cite journal|vauthors=Rao M, Gershon MD |title= The bowel and beyond: the enteric nervous system in neurological disorders |journal= Nat Rev Gastroenterol Hepatol |volume= 13|issue= 9|pages= 517–28|date=September 2016 |pmid=27435372 |pmc=5005185 |doi= 10.1038/nrgastro.2016.107|url= |type=Review}}</ref>\n",
      "\n",
      "Several lines of evidence point to [[Synapse|synaptic]] dysfunction as a cause of autism.<ref name=Lev2009 /> Some rare mutations may lead to autism by disrupting some synaptic pathways, such as those involved with [[cell adhesion]].<ref name=\"Betancur\">{{cite journal |vauthors=Betancur C, Sakurai T, Buxbaum JD |title=The emerging role of synaptic cell-adhesion pathways in the pathogenesis of autism spectrum disorders |journal=[[Trends Neurosci]] |volume=32 |issue=7 |pages=402–12 |year=2009 |pmid=19541375 |doi=10.1016/j.tins.2009.04.003|url=http://www.hal.inserm.fr/inserm-00401195/en/}}</ref> Gene replacement studies in mice suggest that autistic symptoms are closely related to later developmental steps that depend on activity in synapses and on activity-dependent changes.<ref name=\"Walsh\">{{cite journal |vauthors=Walsh CA, Morrow EM, Rubenstein JL |title=Autism and brain development |journal=[[Cell (journal)|Cell]] |volume=135 |issue=3 |pages=396–400 |year=2008 |pmid=18984148 |pmc=2701104 |doi=10.1016/j.cell.2008.10.015}}</ref> All known [[teratogen]]s (agents that cause [[birth defect]]s) related to the risk of autism appear to act during the first eight weeks from [[Human fertilization|conception]], and though this does not exclude the possibility that autism can be initiated or affected later, there is strong evidence that autism arises very early in development.<ref name=\"Arndt\">{{cite journal |vauthors=Arndt TL, Stodgell CJ, Rodier PM |title=The teratology of autism |journal=[[Int J Dev Neurosci]] |volume=23 |issue=2–3 |pages=189–99 |year=2005 |pmid=15749245 |doi=10.1016/j.ijdevneu.2004.11.001}}</ref>\n",
      "\n",
      "==Diagnosis==\n",
      "[[Medical diagnosis|Diagnosis]] is based on behavior, not cause or mechanism.<ref name=\"London\">{{cite journal | vauthors = London E | title = The role of the neurobiologist in redefining the diagnosis of autism | journal = Brain Pathol | volume = 17 | issue = 4 | pages = 408–11 | year = 2007 | pmid = 17919126 | doi = 10.1111/j.1750-3639.2007.00103.x}}</ref><ref>{{cite journal | vauthors = Baird G, Cass H, Slonims V | title = Diagnosis of autism | journal = BMJ | volume = 327 | issue = 7413 | pages = 488–93 | year = 2003 | pmid = 12946972 | pmc = 188387 | doi = 10.1136/bmj.327.7413.488 }}</ref> Under the [[DSM-5]], autism is characterized by persistent deficits in social communication and interaction across multiple contexts, as well as restricted, repetitive patterns of behavior, interests, or activities. These deficits are present in early childhood, typically before age three, and lead to clinically significant functional impairment.<ref name=DSM5 /> Sample symptoms include lack of social or emotional reciprocity, stereotyped and repetitive use of language or [[Idiosyncrasy#Psychiatry and psychology|idiosyncratic language]], and persistent preoccupation with unusual objects. The disturbance must not be better accounted for by [[Rett syndrome]], [[intellectual disability]] or global developmental delay.<ref name=DSM5 /> [[ICD-10]] uses essentially the same definition.<ref name=\"ICD-10-F84.0\">{{cite web|url=http://apps.who.int/classifications/apps/icd/icd10online/?gf80.htm+f84 |year=2007 |access-date=10 October 2009 |website=ICD-10: International Statistical Classification of Diseases and Related Health Problems: Tenth Revision |publisher=World Health Organization |title=F84. Pervasive developmental disorders |archiveurl=https://web.archive.org/web/20130421042448/http://apps.who.int/classifications/apps/icd/icd10online/?gf80.htm%20f84 |archivedate=21 April 2013 |deadurl=yes |df=}}</ref>\n",
      "\n",
      "Several diagnostic instruments are available. Two are commonly used in autism research: the [[Autism Diagnostic Interview-Revised]] (ADI-R) is a semistructured parent interview, and the [[Autism Diagnostic Observation Schedule]] (ADOS)<ref>{{cite journal | vauthors = Gotham K, Risi S, Dawson G, Tager-Flusberg H, Joseph R, Carter A, Hepburn S, McMahon W, Rodier P, Hyman SL, Sigman M, Rogers S, Landa R, Spence MA, Osann K, Flodman P, Volkmar F, Hollander E, Buxbaum J, Pickles A, Lord C | title = A replication of the Autism Diagnostic Observation Schedule (ADOS) revised algorithms | journal = Journal of the American Academy of Child and Adolescent Psychiatry | volume = 47 | issue = 6 | pages = 642–51 | date = June 2008 | pmid = 18434924 | pmc = 3057666 | doi = 10.1097/CHI.0b013e31816bffb7 }}</ref> uses observation and interaction with the child. The [[Childhood Autism Rating Scale]] (CARS) is used widely in clinical environments to assess severity of autism based on observation of children.<ref name=Volkmar /> The Diagnostic interview for social and communication disorders (DISCO) may also be used.<ref>{{cite journal | vauthors = Kan CC, Buitelaar JK, van der Gaag RJ | title = [Autism spectrum disorders in adults] | journal = Nederlands Tijdschrift voor Geneeskunde | volume = 152 | issue = 24 | pages = 1365–9 | date = June 2008 | pmid = 18664213 }}</ref>\n",
      "\n",
      "A [[pediatrician]] commonly performs a preliminary investigation by taking developmental history and physically examining the child. If warranted, diagnosis and evaluations are conducted with help from ASD specialists, observing and assessing cognitive, communication, family, and other factors using standardized tools, and taking into account any associated [[medical conditions]].<ref name=Dover /> A pediatric [[neuropsychologist]] is often asked to assess behavior and cognitive skills, both to aid diagnosis and to help recommend educational interventions.<ref name=\"Kanne\">{{cite journal | vauthors = Kanne SM, Randolph JK, Farmer JE | title = Diagnostic and assessment findings: a bridge to academic planning for children with autism spectrum disorders | journal = Neuropsychol Rev | volume = 18 | issue = 4 | pages = 367–84 | year = 2008 | pmid = 18855144 | doi = 10.1007/s11065-008-9072-z | url = https://www.academia.edu/14769718}}</ref> A [[differential diagnosis]] for ASD at this stage might also consider [[intellectual disability]], [[hearing impairment]], and a [[specific language impairment]]<ref name=Dover /> such as [[Landau–Kleffner syndrome]].<ref>{{cite journal | vauthors = Mantovani JF | title = Autistic regression and Landau–Kleffner syndrome: progress or confusion? | journal = Dev Med Child Neurol | volume = 42 | issue = 5 | pages = 349–53 | year = 2000 | pmid = 10855658 | doi = 10.1017/S0012162200210621 }}</ref> The presence of autism can make it harder to diagnose coexisting psychiatric disorders such as [[Major depressive disorder|depression]].<ref>{{cite journal | vauthors = Matson JL, Neal D | title = Cormorbidity: diagnosing comorbid psychiatric conditions | journal = Psychiatr Times | volume = 26 |issue=4 |year=2009|url=http://www.psychiatrictimes.com/display/article/10168/1403043 | archiveurl = https://web.archive.org/web/20130403062215/http://www.psychiatrictimes.com/display/article/10168/1403043 | archivedate = 3 April 2013}}</ref>\n",
      "\n",
      "[[Clinical genetics]] evaluations are often done once ASD is diagnosed, particularly when other symptoms already suggest a genetic cause.<ref name=Caronna /> Although genetic technology allows clinical geneticists to link an estimated 40% of cases to genetic causes,<ref>{{Cite journal|vauthors=Schaefer GB, Mendelsohn NJ |title=Genetics evaluation for the etiologic diagnosis of autism spectrum disorders |journal=Genet Med |volume=10 |issue=1 |pages=4–12 |year=2008 |pmid=18197051 |doi=10.1097/GIM.0b013e31815efdd7 |laysummary=http://www.medicalnewstoday.com/articles/96448.php |laydate=7 February 2008 |laysource=Medical News Today |url=http://www.medicalnewstoday.com/articles/96448.php |access-date=7 February 2008 |deadurl=yes |archiveurl=https://web.archive.org/web/20100901151333/http://www.medicalnewstoday.com/articles/96448.php |archivedate=1 September 2010 }}</ref> consensus guidelines in the US and UK are limited to high-resolution chromosome and [[fragile X]] testing.<ref name=Caronna /> A [[Genotype-first approach|genotype-first]] model of diagnosis has been proposed, which would routinely assess the genome's copy number variations.<ref>{{cite journal | vauthors = Ledbetter DH | title = Cytogenetic technology—genotype and phenotype | journal = N Engl J Med | volume = 359 | issue = 16 | pages = 1728–30 | year = 2008 | pmid = 18784093 | doi = 10.1056/NEJMe0806570}}</ref> As new genetic tests are developed several ethical, legal, and social issues will emerge. Commercial availability of tests may precede adequate understanding of how to use test results, given the complexity of autism's genetics.<ref>{{cite journal | vauthors = McMahon WM, Baty BJ, Botkin J | title = Genetic counseling and ethical issues for autism | journal = American Journal of Medical Genetics | volume = 142C | issue = 1 | pages = 52–7 | year = 2006 | pmid = 16419100 | doi = 10.1002/ajmg.c.30082 | citeseerx = 10.1.1.590.4821 }}</ref> [[Metabolic]] and [[neuroimaging]] tests are sometimes helpful, but are not routine.<ref name=Caronna />\n",
      "\n",
      "ASD can sometimes be diagnosed by age 14 months, although diagnosis becomes increasingly stable over the first three years of life: for example, a one-year-old who meets diagnostic criteria for ASD is less likely than a three-year-old to continue to do so a few years later.<ref name=Land2008 /> In the UK the National Autism Plan for Children recommends at most 30 weeks from first concern to completed diagnosis and assessment, though few cases are handled that quickly in practice.<ref name=\"Dover\">{{cite journal | vauthors = Dover CJ, Le Couteur A | title = How to diagnose autism | journal = Arch Dis Child | volume = 92 | issue = 6 | pages = 540–5 | year = 2007 | pmid = 17515625 | doi = 10.1136/adc.2005.086280 | pmc=2066173}}</ref> Although the symptoms of autism and ASD begin early in childhood, they are sometimes missed; years later, adults may seek diagnoses to help them or their friends and family understand themselves, to help their employers make adjustments, or in some locations to claim disability living allowances or other benefits. Girls are often diagnosed later than boys.<ref>{{cite report|title=Why Many Autistic Girls are Overlooked|publisher=Child Mind Institute|url=https://childmind.org/article/autistic-girls-overlooked-undiagnosed-autism|access-date=13 February 2018}}</ref>\n",
      "\n",
      "Underdiagnosis and overdiagnosis are problems in marginal cases, and much of the recent increase in the number of reported ASD cases is likely due to changes in diagnostic practices. The increasing popularity of drug treatment options and the expansion of benefits has given providers incentives to diagnose ASD, resulting in some overdiagnosis of children with uncertain symptoms. Conversely, the cost of screening and diagnosis and the challenge of obtaining payment can inhibit or delay diagnosis.<ref>{{cite journal | vauthors = Shattuck PT, Grosse SD | title = Issues related to the diagnosis and treatment of autism spectrum disorders | journal = Ment Retard Dev Disabil Res Rev | volume = 13 | issue = 2 | pages = 129–35 | year = 2007 | pmid = 17563895 | doi = 10.1002/mrdd.20143 }}</ref> It is particularly hard to diagnose autism among the [[visually impaired]], partly because some of its diagnostic criteria depend on vision, and partly because autistic symptoms overlap with those of common blindness syndromes or [[blindism]]s.<ref>{{cite journal | title = Visual impairment and autism: current questions and future research | vauthors = Cass H |journal=Autism |year=1998 |volume=2 |issue=2 |pages=117–38|doi=10.1177/1362361398022002}}</ref>\n",
      "\n",
      "===Classification===\n",
      "Autism is one of the five [[pervasive developmental disorder]]s (PDD), which are characterized by widespread abnormalities of social interactions and communication, and severely restricted interests and highly repetitive behavior.<ref name=ICD-10-F84.0 /> These symptoms do not imply sickness, fragility, or emotional disturbance.<ref name=Rapin />\n",
      "\n",
      "Of the five PDD forms, [[Asperger syndrome]] is closest to autism in signs and likely causes; [[Rett syndrome]] and [[childhood disintegrative disorder]] share several signs with autism, but may have unrelated causes; [[PDD not otherwise specified]] (PDD-NOS; also called ''atypical autism'') is diagnosed when the criteria are not met for a more specific disorder.<ref>{{cite journal | vauthors = Volkmar FR, State M, Klin A | title = Autism and autism spectrum disorders: diagnostic issues for the coming decade | journal = J Child Psychol Psychiatry | volume = 50 | issue = 1–2 | pages = 108–15 | year = 2009 | pmid = 19220594 | doi = 10.1111/j.1469-7610.2008.02010.x}}</ref> Unlike with autism, people with Asperger syndrome have no substantial delay in [[language development]].<ref name=\"DSM-IV-TR-299.00\">{{cite book |title=Diagnostic and statistical manual of mental disorders: DSM-IV |chapter=Diagnostic criteria for 299.00 Autistic Disorder |publisher=American Psychiatric Association |year=2000 |edition=4th |location=Washington, DC |isbn=978-0-89042-025-6 |oclc=768475353 |lccn=00024852 |chapter-url=http://cdc.gov/ncbddd/autism/hcp-dsm.html |archiveurl= https://web.archive.org/web/20131029080544/http://www.cdc.gov/ncbddd/autism/hcp-dsm.html |archivedate=29 October 2013 |via=Centers for Disease Control}}</ref> The terminology of autism can be bewildering, with autism, Asperger syndrome and PDD-NOS often called the ''autism spectrum disorders'' (ASD)<ref name=CCD2007 /> or sometimes the ''autistic disorders'',<ref>{{cite journal | vauthors = Freitag CM | title = The genetics of autistic disorders and its clinical relevance: a review of the literature | journal = Molecular Psychiatry | volume = 12 | issue = 1 | pages = 2–22 | date = January 2007 | pmid = 17033636 | doi = 10.1038/sj.mp.4001896 | doi-access = free }}</ref> whereas autism itself is often called ''autistic disorder'', ''childhood autism'', or ''infantile autism''. In this article, ''autism'' refers to the classic autistic disorder; in clinical practice, though, ''autism'', ''ASD'', and ''PDD'' are often used interchangeably.<ref name=\"Caronna\">{{cite journal |vauthors= Caronna EB, Milunsky JM, Tager-Flusberg H |title= Autism spectrum disorders: clinical and research frontiers | journal= Arch Dis Child | volume = 93 | issue = 6 | pages = 518–23 | year = 2008 | pmid = 18305076 | doi = 10.1136/adc.2006.115337}}</ref> ASD, in turn, is a subset of the broader autism [[phenotype]], which describes individuals who may not have ASD but do have autistic-like [[Trait (biology)|traits]], such as avoiding eye contact.<ref>{{cite journal | vauthors = Piven J, Palmer P, Jacobi D, Childress D, Arndt S | title = Broader autism phenotype: evidence from a family history study of multiple-incidence autism families | journal = Am J Psychiatry | volume = 154 | issue = 2 | pages = 185–90 | year = 1997 | pmid = 9016266 | doi=10.1176/ajp.154.2.185 }}</ref>\n",
      "\n",
      "The manifestations of autism cover a wide [[Spectrum disorder|spectrum]], ranging from individuals with severe impairments—who may be silent, [[developmentally disabled]], and locked into hand flapping and rocking—to high functioning individuals who may have active but distinctly odd social approaches, narrowly focused interests, and verbose, [[pedantic]] communication.<ref>{{cite journal | vauthors = Happé F | title = Understanding assets and deficits in autism: why success is more interesting than failure | journal = Psychologist | volume = 12 | issue = 11 | pages = 540–7 | year = 1999 | url = http://www.thepsychologist.org.uk/archive/archive_home.cfm/volumeID_12-editionID_46-ArticleID_133-getfile_getPDF/thepsychologist/psy_11_99_p540-547_happe.pdf | archiveurl = https://web.archive.org/web/20120517162434/http://www.thepsychologist.org.uk/archive/archive_home.cfm/volumeID_12-editionID_46-ArticleID_133-getfile_getPDF/thepsychologist/psy_11_99_p540-547_happe.pdf |archivedate=17 May 2012}}</ref> Because the behavior spectrum is continuous, boundaries between diagnostic categories are necessarily somewhat arbitrary.<ref name=Geschwind-2009 /> Sometimes the syndrome is divided into low-, medium- or [[high-functioning autism]] (LFA, MFA, and HFA), based on [[IQ]] thresholds,<ref>{{cite journal | vauthors = Baron-Cohen S | title = The hyper-systemizing, assortative mating theory of autism | journal = Prog Neuropsychopharmacol Biol Psychiatry | volume = 30 | issue = 5 | pages = 865–72 | year = 2006 | pmid = 16519981 | doi = 10.1016/j.pnpbp.2006.01.010 | url = http://autismresearchcentre.com/docs/papers/2006_BC_Neuropsychophamacology.pdf | archiveurl = https://web.archive.org/web/20120513020615/http://autismresearchcentre.com/docs/papers/2006_BC_Neuropsychophamacology.pdf | archivedate=13 May 2012}}</ref> or on how much support the individual requires in daily life; these subdivisions are not standardized and are controversial. Autism can also be divided into [[Syndrome|syndromal]] and non-syndromal autism; the syndromal autism is associated with severe or profound [[intellectual disability]] or a congenital syndrome with physical symptoms, such as [[tuberous sclerosis]].<ref>{{cite journal | vauthors = Cohen D, Pichard N, Tordjman S, Baumann C, Burglen L, Excoffier E, Lazar G, Mazet P, Pinquier C, Verloes A, Héron D | title = Specific genetic disorders and autism: clinical contribution towards their identification | journal = J Autism Dev Disord | volume = 35 | issue = 1 | pages = 103–16 | year = 2005 | pmid = 15796126 | doi = 10.1007/s10803-004-1038-2 }}</ref> Although individuals with Asperger syndrome tend to perform better cognitively than those with autism, the extent of the [[Diagnosis of Asperger syndrome#Differences from high-functioning autism|overlap between Asperger syndrome, HFA, and non-syndromal autism]] is unclear.<ref>Validity of ASD subtypes:\n",
      "\n",
      "*{{cite journal | vauthors = Klin A | title = Autism and Asperger syndrome: an overview | journal = Rev Bras Psiquiatr | volume = 28 | issue = suppl 1 | pages = S3–S11 | year = 2006 | pmid = 16791390 | doi = 10.1590/S1516-44462006000500002 | doi-access = free}}\n",
      "*{{cite journal | vauthors = Witwer AN, Lecavalier L | title = Examining the validity of autism spectrum disorder subtypes | journal = J Autism Dev Disord | volume = 38 | issue = 9 | pages = 1611–24 | year = 2008 | pmid = 18327636 | doi = 10.1007/s10803-008-0541-2}}</ref>\n",
      "\n",
      "Some studies have reported diagnoses of autism in children due to a loss of language or social skills, as opposed to a failure to make progress, typically from 15 to 30 months of age. The validity of this distinction remains controversial; it is possible that [[regressive autism]] is a specific subtype,<ref name=Stef2008 /><ref name=Landa /><ref name=Land2008 /><ref>{{cite journal | vauthors = Volkmar F, Chawarska K, Klin A | title = Autism in infancy and early childhood | journal = Annu Rev Psychol | volume = 56 | pages = 315–36 | year = 2005 | pmid = 15709938 | doi = 10.1146/annurev.psych.56.091103.070159}} A partial update is in: {{cite journal | vauthors = Volkmar FR, Chawarska K | title = Autism in infants: an update | journal = World Psychiatry | volume = 7 | issue = 1 | pages = 19–21 | year = 2008 | pmid = 18458791 | pmc = 2366821| doi = 10.1002/j.2051-5545.2008.tb00141.x }}</ref> or that there is a continuum of behaviors between autism with and without regression.<ref>{{cite journal | vauthors = Ozonoff S, Heung K, Byrd R, Hansen R, Hertz-Picciotto I | title = The onset of autism: patterns of symptom emergence in the first years of life | journal = Autism Res | volume = 1 | issue = 6 | pages = 320–328 | year = 2008 | pmid = 19360687 | pmc = 2857525 | doi = 10.1002/aur.53}}</ref>\n",
      "\n",
      "Research into causes has been hampered by the inability to identify biologically meaningful subgroups within the autistic population<ref>{{cite journal | vauthors = Altevogt BM, Hanson SL, Leshner AI | title = Autism and the environment: challenges and opportunities for research | journal = Pediatrics | volume = 121 | issue = 6 | pages = 1225–9 | year = 2008 | pmid = 18519493 | doi = 10.1542/peds.2007-3000 | url = http://pediatrics.aappublications.org/cgi/content/full/121/6/1225 | archiveurl = https://web.archive.org/web/20100115140620/http://pediatrics.aappublications.org/cgi/content/full/121/6/1225 | archivedate = 15 January 2010}}</ref> and by the traditional boundaries between the disciplines of [[psychiatry]], [[psychology]], [[neurology]] and [[pediatrics]].<ref>{{cite journal | vauthors = Reiss AL | title = Childhood developmental disorders: an academic and clinical convergence point for psychiatry, neurology, psychology and pediatrics | journal = J Child Psychol Psychiatry | volume = 50 | issue = 1–2 | pages = 87–98 | year = 2009 | pmid = 19220592 | pmc = 5756732 | doi = 10.1111/j.1469-7610.2008.02046.x}}</ref> Newer technologies such as [[fMRI]] and [[diffusion tensor imaging]] can help identify biologically relevant [[phenotype]]s (observable traits) that can be viewed on [[brain scan]]s, to help further [[neurogenetic]] studies of autism;<ref>{{cite journal | vauthors = Piggot J, Shirinyan D, Shemmassian S, Vazirian S, Alarcón M | title = Neural systems approaches to the neurogenetics of autism spectrum disorders | journal = Neuroscience | volume = 164 | issue = 1 | pages = 247–56 | year = 2009 | pmid = 19482063 | doi = 10.1016/j.neuroscience.2009.05.054}}</ref> one example is lowered activity in the [[fusiform face area]] of the brain, which is associated with impaired perception of people versus objects.<ref name=Lev2009 /> It has been proposed to classify autism using genetics as well as behavior.<ref>{{cite journal | vauthors = Stephan DA | title = Unraveling autism | journal = American Journal of Human Genetics | volume = 82 | issue = 1 | pages = 7–9 | year = 2008 | pmid = 18179879 | pmc = 2253980 | doi = 10.1016/j.ajhg.2007.12.003}}</ref>\n",
      "\n",
      "==Screening==\n",
      "About half of parents of children with ASD notice their child's unusual behaviors by age 18 months, and about four-fifths notice by age 24 months.<ref name=Land2008 /> According to an article, failure to meet any of the following milestones \"is an absolute indication to proceed with further evaluations. Delay in referral for such testing may delay early diagnosis and treatment and affect the long-term outcome\".<ref name=Filipek />\n",
      "* No [[babbling]] by 12 months.\n",
      "* No [[Gesture|gesturing]] (pointing, waving, etc.) by 12 months.\n",
      "* No single words by 16 months.\n",
      "* No two-word (spontaneous, not just [[echolalia|echolalic]]) phrases by 24 months.\n",
      "* Loss of any language or social skills, at any age.\n",
      "\n",
      "The [[United States Preventive Services Task Force]] in 2016 found it was unclear if screening was beneficial or harmful among children in whom there is no concerns.<ref>{{cite journal | vauthors = Siu AL, Bibbins-Domingo K, Grossman DC, Baumann LC, Davidson KW, Ebell M, García FA, Gillman M, Herzstein J, Kemper AR, Krist AH, Kurth AE, Owens DK, Phillips WR, Phipps MG, Pignone MP | title = Screening for Autism Spectrum Disorder in Young Children: US Preventive Services Task Force Recommendation Statement | journal = JAMA | volume = 315 | issue = 7 | pages = 691–96 | date = February 2016 | pmid = 26881372 | doi = 10.1001/jama.2016.0018 }}</ref> The Japanese practice is to [[Screening (medicine)|screen]] all children for ASD at 18 and 24 months, using autism-specific formal screening tests. In contrast, in the UK, children whose families or doctors recognize possible signs of autism are screened. It is not known which approach is more effective.<ref name=Lev2009 /> Screening tools include the [[Modified Checklist for Autism in Toddlers]] (M-CHAT), the Early Screening of Autistic Traits Questionnaire, and the First Year Inventory; initial data on [[Modified Checklist for Autism in Toddlers|M-CHAT]] and its predecessor, the [[Checklist for Autism in Toddlers]] (CHAT), on children aged 18–30 months suggests that it is best used in a clinical setting and that it has low [[Sensitivity (tests)|sensitivity]] (many false-negatives) but good [[Specificity (tests)|specificity]] (few false-positives).<ref name=Land2008 /> It may be more accurate to precede these tests with a broadband screener that does not distinguish ASD from other developmental disorders.<ref>{{cite journal | vauthors = Wetherby AM, Brosnan-Maddox S, Peace V, Newton L | title = Validation of the Infant-Toddler Checklist as a broadband screener for autism spectrum disorders from 9 to 24 months of age | journal = Autism | volume = 12 | issue = 5 | pages = 487–511 | date = September 2008 | pmid = 18805944 | pmc = 2663025 | doi = 10.1177/1362361308094501 }}</ref> Screening tools designed for one culture's norms for behaviors like eye contact may be inappropriate for a different culture.<ref>{{cite journal | vauthors = Wallis KE, Pinto-Martin J | title = The challenge of screening for autism spectrum disorder in a culturally diverse society | journal = Acta Paediatrica | volume = 97 | issue = 5 | pages = 539–40 | date = May 2008 | pmid = 18373717 | doi = 10.1111/j.1651-2227.2008.00720.x }}</ref> Although [[genetic screening]] for autism is generally still impractical, it can be considered in some cases, such as children with neurological symptoms and [[dysmorphic feature]]s.<ref>{{cite journal | vauthors = Lintas C, Persico AM | title = Autistic phenotypes and genetic testing: state-of-the-art for the clinical geneticist | journal = Journal of Medical Genetics | volume = 46 | issue = 1 | pages = 1–8 | date = January 2009 | pmid = 18728070 | pmc = 2603481 | doi = 10.1136/jmg.2008.060871 }}</ref>\n",
      "\n",
      "==Prevention==\n",
      "While infection with [[rubella]] during [[pregnancy]] causes fewer than 1% of cases of autism,<ref name=Duchan /> [[rubella vaccine|vaccination against rubella]] can prevent many of those cases.<ref name=\"Lancet2015\">{{cite journal|vauthors=Lambert N, Strebel P, Orenstein W, Icenogle J, Poland GA |title=Rubella|journal=Lancet|date=7 January 2015|doi=10.1016/S0140-6736(14)60539-0|pmid=25576992|volume=385|issue=9984|pages=2297–307|pmc=4514442}}</ref>\n",
      "\n",
      "==Management==\n",
      "{{Main|Autism therapies}}\n",
      "[[File:Opening a window to the autistic brain.jpg|thumb|alt=A young child points, in front of a woman who smiles and points in the same direction.|A three-year-old with autism points to fish in an aquarium, as part of an experiment on the effect of intensive shared-attention training on language development.<ref name=\"Powell\">{{cite journal|vauthors=Powell K |title=Opening a window to the autistic brain |journal=PLoS Biol |volume=2 |issue=8 |pages=E267 |year=2004 |pmid=15314667 |pmc=509312 |doi=10.1371/journal.pbio.0020267 |df=}}</ref>]]\n",
      "The main goals when treating children with autism are to lessen associated deficits and family distress, and to increase quality of life and functional independence. In general, higher IQs are correlated with greater responsiveness to treatment and improved treatment outcomes.<ref name=\":0\" /><ref>{{cite journal | vauthors = Eldevik S, Hastings RP, Hughes JC, Jahr E, Eikeseth S, Cross S | title = Meta-analysis of Early Intensive Behavioral Intervention for children with autism | journal = Journal of Clinical Child and Adolescent Psychology | volume = 38 | issue = 3 | pages = 439–50 | date = May 2009 | pmid = 19437303 | doi = 10.1080/15374410902851739 | citeseerx = 10.1.1.607.9620 }}</ref> No single treatment is best and treatment is typically tailored to the child's needs.<ref name=CCD2007 /> Families and the educational system are the main resources for treatment.<ref name=Lev2009 /> Services should be carried out by [[Professional practice of behavior analysis|behavior analysts]], [[special education]] [[teachers]], [[speech-language pathology|speech pathologists]], and licensed [[psychologists]]. Studies of interventions have methodological problems that prevent definitive conclusions about [[efficacy]].<ref>{{cite journal | vauthors = Ospina MB, Krebs Seida J, Clark B, Karkhaneh M, Hartling L, Tjosvold L, Vandermeer B, Smith V | title = Behavioural and developmental interventions for autism spectrum disorder: a clinical systematic review | journal = PLOS One | volume = 3 | issue = 11 | pages = e3755 | year = 2008 | pmid = 19015734 | pmc = 2582449 | doi = 10.1371/journal.pone.0003755 | df =  | bibcode = 2008PLoSO...3.3755O }}</ref> However, the development of evidence-based interventions has advanced in recent years.<ref name=\":0\">{{cite journal | vauthors = Smith T, Iadarola S | title = Evidence Base Update for Autism Spectrum Disorder | journal = Journal of Clinical Child and Adolescent Psychology | volume = 44 | issue = 6 | pages = 897–922 | date = 2 November 2015 | pmid = 26430947 | doi = 10.1080/15374416.2015.1077448 | doi-access = free }}</ref> Although many [[psychosocial]] interventions have some positive evidence, suggesting that some form of treatment is preferable to no treatment, the methodological quality of [[systematic review]]s of these studies has generally been poor, their clinical results are mostly tentative, and there is little evidence for the relative effectiveness of treatment options.<ref>{{cite journal | vauthors = Seida JK, Ospina MB, Karkhaneh M, Hartling L, Smith V, Clark B | title = Systematic reviews of psychosocial interventions for autism: an umbrella review | journal = Developmental Medicine and Child Neurology | volume = 51 | issue = 2 | pages = 95–104 | date = February 2009 | pmid = 19191842 | doi = 10.1111/j.1469-8749.2008.03211.x }}</ref> Intensive, sustained [[special education]] programs and behavior therapy early in life can help children acquire self-care, communication, and job skills,<ref name=CCD2007 /> and often improve functioning and decrease symptom severity and maladaptive behaviors;<ref name=\"Rogers\">{{cite journal | vauthors = Rogers SJ, Vismara LA | title = Evidence-based comprehensive treatments for early autism | journal = Journal of Clinical Child and Adolescent Psychology | volume = 37 | issue = 1 | pages = 8–38 | date = January 2008 | pmid = 18444052 | pmc = 2943764 | doi = 10.1080/15374410701817808 }}</ref> claims that intervention by around age three years is crucial are not substantiated.<ref name=\"HowlinCharman\">{{cite journal | vauthors = Howlin P, Magiati I, Charman T | title = Systematic review of early intensive behavioral interventions for children with autism | journal = American Journal on Intellectual and Developmental Disabilities | volume = 114 | issue = 1 | pages = 23–41 | date = January 2009 | pmid = 19143460 | doi = 10.1352/2009.114:23-41 }}</ref> While medications have not been found to help with core symptoms, they may be used for associated symptoms, such as irritability, inattention, or repetitive behavior patterns.<ref name=Ji2015>{{cite journal | vauthors = Ji N, Findling RL | title = An update on pharmacotherapy for autism spectrum disorder in children and adolescents | journal = Current Opinion in Psychiatry | volume = 28 | issue = 2 | pages = 91–101 | date = March 2015 | pmid = 25602248 | doi = 10.1097/YCO.0000000000000132 }}</ref>\n",
      "\n",
      "===Education===\n",
      "Educational interventions often used include [[applied behavior analysis]] (ABA), developmental models, structured teaching, [[speech and language therapy]], [[social skills]] therapy, and [[occupational therapy]].<ref name=CCD2007 /> Among these approaches, interventions either treat autistic features comprehensively, or focalize treatment on a specific area of deficit.<ref name=\":0\" /> The quality of research for early intensive behavioral intervention (EIBI)&mdash;a treatment procedure encompassing over thirty hours per week of the [[Discrete trial training|structured type of ABA]] that is carried out with very young children&mdash;is currently low, and more vigorous research designs with larger sample sizes are needed.<ref>{{cite journal | vauthors = Reichow B, Hume K, Barton EE, Boyd BA | title = Early intensive behavioral intervention (EIBI) for young children with autism spectrum disorders (ASD) | journal = The Cochrane Database of Systematic Reviews | volume = 5 | pages = CD009260 | date = May 2018 | pmid = 29742275 | doi = 10.1002/14651858.CD009260.pub3 }}</ref> Two theoretical frameworks outlined for early childhood intervention include [[Discrete trial training|structured]] and [[Pivotal response treatment|naturalistic]] ABA interventions, and developmental social pragmatic models (DSP).<ref name=\":0\" /> One interventional strategy utilizes a parent training model, which teaches parents how to implement various ABA and DSP techniques, allowing for parents to disseminate interventions themselves.<ref name=\":0\" /> Various DSP programs have been developed to explicitly deliver intervention systems through at-home parent implementation. Despite the recent development of parent training models, these interventions have demonstrated effectiveness in numerous studies, being evaluated as a probable efficacious mode of treatment.<ref name=\":0\" />\n",
      "\n",
      "[[Discrete trial training|Early, intensive ABA therapy]] has demonstrated effectiveness in enhancing global functioning in preschool children,<ref name=\"Eikeseth\">{{cite journal | vauthors = Eikeseth S | title = Outcome of comprehensive psycho-educational interventions for young children with autism | journal = Res Dev Disabil | volume = 30 | issue = 1 | pages = 158–78 | year = 2009 | pmid = 18385012 | doi = 10.1016/j.ridd.2008.02.003 | citeseerx = 10.1.1.615.3336}}</ref> and is well-established for improving the intellectual performance of that age group.<ref name=Rogers /> Similarly, a teacher-implemented intervention that utilizes a more [[Pivotal response treatment|naturalistic form of ABA]] combined with a developmental social pragmatic approach has been found to be beneficial in improving social-communication skills in young children, although there is less evidence in its treatment of global symptoms.<ref name=\":0\" /> Neuropsychological reports are often poorly communicated to educators, resulting in a gap between what a report recommends and what education is provided.<ref name=Kanne /> It is not known whether treatment programs for children lead to significant improvements after the children grow up,<ref name=Rogers /> and the limited research on the effectiveness of adult residential programs shows mixed results.<ref>{{cite journal | vauthors = Van Bourgondien ME, Reichle NC, Schopler E | title = Effects of a model treatment approach on adults with autism | journal = J Autism Dev Disord | volume = 33 | issue = 2 | pages = 131–40 | year = 2003 | pmid = 12757352 | doi = 10.1023/A:1022931224934}}</ref> The appropriateness of including children with varying severity of autism spectrum disorders in the general education population is a subject of current debate among educators and researchers.<ref>{{cite journal |journal=Topics in Language Disorders |year=2003 |volume=23 |issue=2 |pages=116–33 |title=Inclusion of Learners with Autism Spectrum Disorders in General Education Settings | vauthors = Simpson RL, de Boer-Ott SR, Smith-Myles B|url=http://www.nursingcenter.com/pdf.asp?AID=520301 |archiveurl=https://web.archive.org/web/20110714215923/http://www.nursingcenter.com/pdf.asp?AID=520301 |archivedate=14 July 2011 |doi=10.1097/00011363-200304000-00005}}</ref>\n",
      "\n",
      "===Medication===\n",
      "Medications may be used to treat ASD symptoms that interfere with integrating a child into home or school when behavioral treatment fails.<ref name=San2016/> They may also be used for associated health problems, such as [[ADHD]] or [[anxiety disorder|anxiety]].<ref name=San2016/> More than half of US children diagnosed with ASD are prescribed [[psychoactive drug]]s or [[anticonvulsant]]s, with the most common drug classes being [[antidepressant]]s, [[stimulant]]s, and [[antipsychotic]]s.<ref name=\"Oswald DP 2006\">{{cite journal | vauthors = Oswald DP, Sonenklar NA | title = Medication use among children with autism spectrum disorders | journal = Journal of Child and Adolescent Psychopharmacology | volume = 17 | issue = 3 | pages = 348–55 | date = June 2007 | pmid = 17630868 | doi = 10.1089/cap.2006.17303 }}</ref><ref name=\"ReferenceA\">{{cite journal | vauthors = Doyle CA, McDougle CJ | title = Pharmacologic treatments for the behavioral symptoms associated with autism spectrum disorders across the lifespan | journal = Dialogues in Clinical Neuroscience | volume = 14 | issue = 3 | pages = 263–79 | date = September 2012 | pmid = 23226952 | pmc = 3513681 }}</ref> The [[atypical antipsychotic]] drugs [[risperidone]] and [[aripiprazole]] are [[Food and drug administration|FDA]]-approved for treating associated aggressive and self-injurious behaviors.<ref name=Ji2015/><ref name=Rapin /><ref>{{cite journal | vauthors = Leskovec TJ, Rowles BM, Findling RL | title = Pharmacological treatment options for autism spectrum disorders in children and adolescents | journal = Harvard Review of Psychiatry | volume = 16 | issue = 2 | pages = 97–112 | year = 2008 | pmid = 18415882 | doi = 10.1080/10673220802075852 }}</ref> However, their side effects must be weighed against their potential benefits, and people with autism may respond atypically.<ref name=Ji2015/> Side effects, for example, may include weight gain, tiredness, drooling, and aggression.<ref name=Ji2015/> [[SSRI antidepressants]], such as [[fluoxetine]] and [[fluvoxamine]], have been shown to be effective in reducing repetitive and ritualistic behaviors, while the stimulant medication [[methylphenidate]] is beneficial for some children with co-morbid inattentiveness or hyperactivity.<ref name=CCD2007/> There is scant reliable research about the effectiveness or safety of drug treatments for adolescents and adults with ASD.<ref>Lack of research on drug treatments:\n",
      "* {{cite journal | vauthors = Angley M, Young R, Ellis D, Chan W, McKinnon R | title = Children and autism—part 1—recognition and pharmacological management | journal = Aust Fam Physician | volume = 36 | issue = 9 | pages = 741–44 | year = 2007 | pmid = 17915375 | url = http://www.racgp.org.au/afp/200709/200709angley.pdf | archiveurl = https://web.archive.org/web/20130407205054/http://www.racgp.org.au/afp/200709/200709angley.pdf | archivedate = 7 April 2013}}\n",
      "* {{cite journal | vauthors = Broadstock M, Doughty C, Eggleston M | title = Systematic review of the effectiveness of pharmacological treatments for adolescents and adults with autism spectrum disorder | journal = Autism | volume = 11 | issue = 4 | pages = 335–48 | year = 2007 | pmid = 17656398 | doi = 10.1177/1362361307078132}}</ref> No known medication relieves autism's core symptoms of social and communication impairments.<ref>{{Cite book |vauthors=Buitelaar JK |title=Why have drug treatments been so disappointing? |journal=Novartis Found Symp |volume=251 |pages=235–44; discussion 245–49, 281–97 |year=2003 |pmid=14521196 |doi=10.1002/0470869380.ch14 |series=Novartis Foundation Symposia |publisher=[[Wiley (publisher)|John Wiley & Sons]] |location=Chichester |isbn=978-0-470-86938-3 |oclc=474242860 }}</ref> Experiments in mice have reversed or reduced some symptoms related to autism by replacing or modulating gene function,<ref name=Walsh /><ref name=\"pmid18093519\">{{cite journal | vauthors = Dölen G, Osterweil E, Rao BS, Smith GB, Auerbach BD, Chattarji S, Bear MF | title = Correction of fragile X syndrome in mice | journal = Neuron | volume = 56 | issue = 6 | pages = 955–62 | year = 2007 | pmid = 18093519 | pmc = 2199268 | doi = 10.1016/j.neuron.2007.12.001}}</ref> suggesting the possibility of targeting therapies to specific rare mutations known to cause autism.<ref name=Betancur /><ref name=\"pmid20303363\">{{cite journal | vauthors = Dölen G, Carpenter RL, Ocain TD, Bear MF | title = Mechanism-based approaches to treating fragile X | journal = Pharmacol Ther | volume = 127 | issue = 1 | pages = 78–93 | year = 2010 | pmid = 20303363 | doi = 10.1016/j.pharmthera.2010.02.008}}</ref>\n",
      "\n",
      "===Alternative medicine===\n",
      "Although many [[Alternative therapies for developmental and learning disabilities|alternative therapies and interventions]] are available, few are supported by scientific studies.<ref name=Sigman /><ref>Lack of support for interventions:\n",
      "*{{cite journal | vauthors = Francis K | title = Autism interventions: a critical update | journal = Dev Med Child Neurol | volume = 47 | issue = 7 | pages = 493–99 | year = 2005 | pmid = 15991872 | doi = 10.1017/S0012162205000952 | url = http://journals.cambridge.org/production/action/cjoGetFulltext?fulltextid=313204 | format = PDF}}\n",
      "*{{cite journal | vauthors = Levy SE, Hyman SL | title = Complementary and alternative medicine treatments for children with autism spectrum disorders | journal = Child Adolesc Psychiatr Clin N Am | volume = 17 | issue = 4 | pages = 803–20, ix | year = 2008 | pmid = 18775371 | pmc = 2597185 | doi = 10.1016/j.chc.2008.06.004}}\n",
      "*{{cite journal | vauthors = Rao PA, Beidel DC, Murray MJ | title = Social skills interventions for children with Asperger's syndrome or high-functioning autism: a review and recommendations | journal = J Autism Dev Disord | volume = 38 | issue = 2 | pages = 353–61 | year = 2008 | pmid = 17641962 | doi = 10.1007/s10803-007-0402-4}}\n",
      "</ref> Treatment approaches have little empirical support in [[Quality of life|quality-of-life]] contexts, and many programs focus on success measures that lack predictive validity and real-world relevance.<ref name=Burgess /> Some alternative treatments may place the child at risk. The preference that children with autism have for unconventional foods can lead to reduction in bone cortical thickness with this being greater in those on [[casein-free diet]]s, as a consequence of the low intake of [[calcium]] and [[vitamin D]]; however, suboptimal bone development in ASD has also been associated with lack of exercise and [[gastrointestinal disease|gastrointestinal disorders]].<ref name=\"TyeRunicles2018\">{{cite journal| vauthors=Tye C, Runicles AK, Whitehouse AJ, Alvares GA| title=Characterizing the Interplay Between Autism Spectrum Disorder and Comorbid Medical Conditions: An Integrative Review. | journal=Front Psychiatry | year= 2018 | volume= 9 | pages= 751 | pmid=30733689 | doi=10.3389/fpsyt.2018.00751 | pmc=6354568 | type= Review }}</ref> In 2005, botched [[chelation therapy]] killed a five-year-old child with autism.<ref name=\"pmid18775371\">{{cite journal| vauthors=Levy SE, Hyman SL| title=Complementary and alternative medicine treatments for children with autism spectrum disorders. | journal=Child Adolesc Psychiatr Clin N Am | year= 2008 | volume= 17 | issue= 4 | pages= 803–20, ix | pmid=18775371 | doi=10.1016/j.chc.2008.06.004 | pmc=2597185 | type= Review }}</ref><ref>{{cite journal | vauthors = Brown MJ, Willis T, Omalu B, Leiker R | title = Deaths resulting from hypocalcemia after administration of edetate disodium: 2003–2005 | journal = Pediatrics | volume = 118 | issue = 2 | pages = e534–36 | year = 2006 | pmid = 16882789 | doi = 10.1542/peds.2006-0858 | url = http://pediatrics.aappublications.org/cgi/content/full/118/2/e534 | archiveurl = https://web.archive.org/web/20090727080307/http://pediatrics.aappublications.org/cgi/content/full/118/2/e534 | archivedate = 27 July 2009}}</ref> Chelation is not recommended for people with ASD since the associated risks outweigh any potential benefits.<ref name=\"JamesStevenson2015\">{{cite journal| vauthors=James S, Stevenson SW, Silove N, Williams K| title=Chelation for autism spectrum disorder (ASD). | journal=Cochrane Database Syst Rev | year= 2015 | issue= 5 | pages= CD010766 | pmid=26106752 | doi=10.1002/14651858.CD010766 | type= Review}}</ref> Another alternative medicine practice with no evidence is [[CEASE therapy]], a mixture of [[homeopathy]], supplements, and 'vaccine detoxing'.<ref>{{cite news|url=https://www.theguardian.com/society/2018/apr/27/more-than-120-homeopaths-trying-to-cure-autism-in-uk|title=More than 120 homeopaths trying to 'cure' autism in UK|newspaper=The Guardian|date=27 April 2018|accessdate=13 July 2018|last1=Editor|first1=Sarah Boseley Health}}</ref><ref>{{cite web|url=http://www.cbc.ca/news/canada/british-columbia/homeopathy-for-autism-certainly-not-based-on-science-b-c-health-official-says-1.4677128|title=Homeopathy for autism 'certainly not based on science,' B.C. health official says|publisher=CBC News|date=25 May 2018|accessdate=13 July 2018}}</ref>\n",
      "\n",
      "Although popularly used as an [[complementary and alternative medicine|alternative treatment]] for people with autism, as of 2018 there is no good evidence to recommend a [[gluten-free, casein-free diet|gluten- and casein-free diet]] as a standard treatment.<ref name=\"GogouKolios2018\">{{cite journal| vauthors=Gogou M, Kolios G| title=Are therapeutic diets an emerging additional choice in autism spectrum disorder management? | journal=World J Pediatr | year= 2018 | volume= 14 | issue= 3 | pages= 215–223 | pmid=29846886 | doi=10.1007/s12519-018-0164-4 | type=Review | quote=Current literature knowledge provides evidence that ketogenic and casein/gluten-free diet may have their own place in our reserve for the therapeutic management of specific subsets of children with autism. (...) More clinical studies about the effect of gluten/caseinfree diet in these patients are available. However, available data arise from studies with small sample size and are still controversial. In general, despite encouraging data, no definite proof still exists. Under this view, the use of therapeutic diets in children with autism should be restricted to specific subgroups, such as children with autism and epilepsy or specific inborn errors of metabolism ''(ketogenic diet)'', children with known food intolerance/allergy or even children with food intolerance markers (''gluten- and casein-free diet''). Their implementation should always be guided by health care practitioners. }}</ref><ref name=\"MariBausetZazpe\">{{cite journal | vauthors = Marí-Bauset S, Zazpe I, Mari-Sanchis A, Llopis-González A, Morales-Suárez-Varela M| title = Evidence of the gluten-free and casein-free diet in autism spectrum disorders: a systematic review | journal = J Child Neurol | volume = 29| issue = 12| pages = 1718–27| date = December 2014| pmid = 24789114|doi = 10.1177/0883073814531330| hdl = 10171/37087| hdl-access = free}}</ref><ref name=\"Millward2008\">{{cite journal | vauthors = Millward C, Ferriter M, Calver S, Connell-Jones G | title = Gluten- and casein-free diets for autistic spectrum disorder | journal = The Cochrane Database of Systematic Reviews | issue = 2 | pages = CD003498 | date = April 2008 | pmid = 18425890 | pmc = 4164915 | doi = 10.1002/14651858.CD003498.pub3 | editor1-last = Ferriter | editor1-first = Michael | name-list-format = vanc | quote= Knivsberg 2002 \"monitoring of the compliance with diet was not carried out\" (...) \"several reports of children ‘sneaking food’ from siblings or classmates\" }}</ref> A 2018 review concluded that it may be a therapeutic option for specific groups of children with autism, such as those with known [[food intolerance]]s or [[food allergy|allergies]], or with food intolerance markers. The authors analyzed the prospective trials conducted to date that studied the efficacy of the gluten- and casein-free diet in children with ASD (4 in total). All of them compared gluten- and casein-free diet versus normal diet with a control group (2 double blind randomized controlled trials, 1 double blind crossover trial, 1 single blind trial). In two of the studies, whose duration was 12 and 24 months, a significant improvement in ASD symptoms (efficacy rate 50%) was identified. In the other two studies, whose duration was 3 months, no significant effect was observed.<ref name=\"GogouKolios2018\" /> The authors concluded that a longer duration of the diet may be necessary to achieve the improvement of the ASD symptoms.<ref name=\"GogouKolios2018\" /> Other problems documented in the trials carried out include transgressions of the diet, small sample size, the heterogeneity of the participants and the possibility of a placebo effect.<ref name = \"Millward2008\" /><ref name=\"HymanStewart2016\">{{cite journal| vauthors=Hyman SL, Stewart PA, Foley J, Cain U, Peck R, Morris DD | display-authors=etal | title=The Gluten-Free/Casein-Free Diet: A Double-Blind Challenge Trial in Children with Autism. | journal=J Autism Dev Disord | year= 2016 | volume= 46 | issue= 1 | pages= 205–220 | pmid=26343026 | doi=10.1007/s10803-015-2564-9 | quote= 20 natural challenges when parents reported that children by mistake consumed foods containing gluten or casein. }}</ref>\n",
      "\n",
      "In the subset of people who have [[non-celiac gluten sensitivity|gluten sensitivity]] there is limited evidence that suggests that a [[gluten-free diet]] may improve some autistic behaviors.<ref name=Buie>{{cite journal |vauthors=Buie T |title=The relationship of autism and gluten |journal=Clin Ther |volume=35 |issue=5 |pages=578–83 |year=2013 |pmid=23688532 |doi=10.1016/j.clinthera.2013.04.011 |type=Review |quote=At this time, the studies attempting to treat symptoms of autism with diet have not been sufficient to support the general institution of a gluten-free or other diet for all children with autism. There may be a subgroup of patients who might benefit from a gluten-free diet, but the symptom or testing profile of these candidates remains unclear. }}</ref><ref name=VoltaCaio>{{cite journal | vauthors = Volta U, Caio G, De Giorgio R, Henriksen C, Skodje G, Lundin KE| title = Non-celiac gluten sensitivity: a work-in-progress entity in the spectrum of wheat-related disorders | journal = Best Pract Res Clin Gastroenterol | volume = 29| issue = 3| pages = 477–91| date = June 2015| pmid = 26060112 | doi = 10.1016/j.bpg.2015.04.006 | quote= autism spectrum disorders (ASD) have been hypothesized to be associated with NCGS [47,48]. Notably, a gluten- and casein-free diet might have a positive effect in improving hyperactivity and mental confusion in some patients with ASD. This very exciting association between NCGS and ASD deserves further study before conclusions can be firmly drawn}}</ref><ref name=SanMauroGaricano>{{cite journal | vauthors =San Mauro I, Garicano E, Collado L, Ciudad MJ | title = ¿Es el gluten el gran agente etiopatogenico de enfermedad en el siglo XXI?|trans-title=Is gluten the great etiopathogenic agent of disease in the XXI century? |language=Spanish| journal = Nutr Hosp | volume = 30| issue = 6| pages = 1203–10| date = December 2014 | pmid =25433099 | doi = 10.3305/nh.2014.30.6.7866}}</ref>\n",
      "\n",
      "There is tentative evidence that [[music therapy]] may improve social interactions, verbal communication, and non-verbal communication skills.<ref name=Geretsegger2014>{{cite journal |vauthors=Geretsegger M, Elefant C, Mössler KA, Gold C |title=Music therapy for people with autism spectrum disorder |journal=The Cochrane Database of Systematic Reviews |volume= |issue=6 |pages=CD004381 |date=June 2014 |pmid=24936966 |doi=10.1002/14651858.CD004381.pub3 |url=http://vbn.aau.dk/ws/files/198848073/Geretsegger_Elefant_M_ssler_Gold_2014_CD004381_MT_for_people_with_ASD.pdf}}</ref> There has been early research looking at [[Hyperbaric medicine|hyperbaric treatment]]s in children with autism.<ref>{{cite journal | title = Therapies for Children With Autism Spectrum Disorders | page = 8 | date = April 2011 | pmid = 21834171 | quote = Hyperbaric therapy, in which oxygen is administered in special chambers that maintain a higher air pressure, has shown possible effects in other chronic neurologic conditions and has also undergone preliminary exploration in ASDs. | vauthors=Warren Z, Veenstra-VanderWeele J, Stone W, etal }}</ref>\n",
      "\n",
      "==Society and culture==\n",
      "{{Main|Societal and cultural aspects of autism}}\n",
      "The emergence of the [[autism rights movement]] has served as an attempt to encourage people to be more tolerant of those with autism.<ref>{{cite web| last = Trivedi| first = Bijal| title = Autistic and proud of it| website = New Scientist| access-date = 10 November 2015 | url = https://www.newscientist.com/article/mg18625041-500-autistic-and-proud-of-it/}}</ref> Through this movement, people hope to cause others to think of autism as a difference instead of a disease. Proponents of this movement wish to seek \"acceptance, not cures.\"<ref>{{cite web| last = Shapiro| first = Joseph| title = Autism Movement Seeks Acceptance, Not Cures| publisher = NPR| access-date = 10 November 2015 | date = 26 June 2006 | url = https://www.npr.org/templates/story/story.php?storyId=5488463}}</ref> There have also been many worldwide events promoting autism awareness such as [[World Autism Awareness Day]], [[Light It Up Blue]], [[Autism Sunday]], [[Autistic Pride Day]], [[Autreat]], and others.<ref>{{cite web| title = World Autism Awareness Day, 2 April| publisher = United Nations| access-date = 17 November 2015 | url = https://www.un.org/en/events/autismday/}}</ref><ref>{{cite web| title = What is LIUB| website = Autism Speaks| access-date = 17 November 2015| url = https://www.autismspeaks.org/liub/what-liub| deadurl = yes| archiveurl = https://web.archive.org/web/20151119205629/https://www.autismspeaks.org/liub/what-liub| archivedate = 19 November 2015| df = dmy-all}}</ref><ref>{{cite web| last = Bascom| first = Julia| title = Autistic Pride Day 2015: A Message to the Autistic Community| access-date = 18 November 2015 | date = 18 June 2015 | url = http://autisticadvocacy.org/2015/06/autistic-pride-day-2015-a-message-to-the-autistic-community/}}</ref><ref>{{cite web| title = Autism Sunday – Home| website = Autism Sunday| access-date = 17 November 2015| year = 2010| url = http://www.autismsunday.co.uk/| archive-url = https://web.archive.org/web/20100303043146/http://www.autismsunday.co.uk/| dead-url = yes| archive-date = 3 March 2010}}</ref><ref>{{cite web| title = About Autreat| publisher = Autreat.com| access-date = 17 November 2015 |year = 2013| url = http://www.autreat.com/autreat.html}}</ref> There have also been many organizations dedicated to increasing the awareness of autism and the effects that autism has on someone's life. These organizations include [[Autism Speaks]], [[Autism National Committee]], [[Autism Society of America]], and many others.<ref>{{cite web| title = Other Autism Organizations| website = Autism Speaks| access-date = 17 November 2015 | date = 25 July 2012| url = https://www.autismspeaks.org/family-services/resource-library/other-autism-organizations}}</ref> Social-science scholars have had an increased focused on studying those with autism in hopes to learn more about \"autism as a culture, transcultural comparisons... and research on social movements.\"<ref>{{cite journal|last1=Silverman|first1=Chloe|title=Fieldwork on Another Planet: Social Science Perspectives on the Autism Spectrum|journal=BioSocieties|volume=3|issue=3|year=2008|pages=325–341|issn=1745-8552|doi=10.1017/S1745855208006236}}</ref> Media has had an influence on how the public perceives those with autism. ''[[Rain Man]]'', a film that won 4 Oscars including Best Picture, depicts a character with autism who has incredible talents and abilities.<ref>{{cite web| title = Rain Man (1988) – IMDb| publisher = [[Internet Movie Database]]| access-date = 17 November 2015 | url = https://www.imdb.com/title/tt0095953/}}</ref> While many autistic individuals do not have these special abilities, some have been successful in their fields.<ref>{{cite web| title = American RadioWorks: Fast Food and Animal Rights – Kill Them With Kindness|page =1| website = American Public Media| access-date = 17 November 2015 | url = http://americanradioworks.publicradio.org/features/mcdonalds/grandin1.html}}</ref><ref>{{cite web| last = Page| first = Tim| title = Parallel Play| website = The New Yorker| access-date = 17 November 2015 | date = 20 August 2007 | url = http://www.newyorker.com/magazine/2007/08/20/parallel-play}}</ref><ref>{{cite web| title = Famous People With Autism Spectrum Disorder: Autistic Celebrities (List)| website = Mental Health Daily| access-date = 18 November 2015 | url = http://mentalhealthdaily.com/2015/09/19/famous-people-with-autism-spectrum-disorder-autistic-celebrities-list/| date = 2015-09-19}}</ref>\n",
      "\n",
      "===Cost===\n",
      "Treatment is expensive; indirect costs are more so. For someone born in 2000, a US study estimated an average lifetime cost of ${{Format price|{{inflation|US|3160384|2003}}}} ([[net present value]] in {{Inflation-year|US}} dollars, inflation-adjusted from 2003 estimate),{{inflation-fn|US}} with about 10% [[medical care]], 30% extra education and other care, and 60% lost economic productivity.<ref>{{cite journal | vauthors = Ganz ML | title = The lifetime distribution of the incremental societal costs of autism | journal = Arch Pediatr Adolesc Med | volume = 161 | issue = 4 | pages = 343–49 | year = 2007 | pmid = 17404130 | doi = 10.1001/archpedi.161.4.343 | laysummary = http://www.hsph.harvard.edu/news/press-releases/2006-releases/press04252006.html | laydate = 25 April 2006 | laysource = Harvard School of Public Health }}</ref> Publicly supported programs are often inadequate or inappropriate for a given child, and unreimbursed out-of-pocket medical or therapy expenses are associated with likelihood of family financial problems;<ref>{{cite journal |journal=J Fam Econ Iss |year=2007 |volume=28 |issue=2 |pages=247–64 |doi=10.1007/s10834-007-9059-6 |title=Financial issues associated with having a child with autism | vauthors = Sharpe DL, Baker DL |url=https://www.academia.edu/26042483}}</ref> one 2008 US study found a 14% average loss of annual income in families of children with ASD,<ref>{{cite journal | vauthors = Montes G, Halterman JS | title = Association of childhood autism spectrum disorders and loss of family income | journal = Pediatrics | volume = 121 | issue = 4 | pages = e821–26 | year = 2008 | pmid = 18381511 | doi = 10.1542/peds.2007-1594 | url = http://pediatrics.aappublications.org/cgi/content/full/121/4/e821 | archiveurl = https://web.archive.org/web/20100304071520/http://pediatrics.aappublications.org/cgi/content/full/121/4/e821 | archivedate = 4 March 2010}}</ref> and a related study found that ASD is associated with higher probability that [[child care]] problems will greatly affect parental employment.<ref>{{cite journal | vauthors = Montes G, Halterman JS | title = Child care problems and employment among families with preschool-aged children with autism in the United States | journal = Pediatrics | volume = 122 | issue = 1 | pages = e202–08 | year = 2008 | pmid = 18595965 | doi = 10.1542/peds.2007-3037 | url = http://pediatrics.aappublications.org/cgi/content/full/122/1/e202 | archiveurl = https://web.archive.org/web/20091206190622/http://pediatrics.aappublications.org/cgi/content/full/122/1/e202 | archivedate = 6 December 2009}}</ref> US states increasingly require private health insurance to cover autism services, shifting costs from publicly funded education programs to privately funded health insurance.<ref>{{cite journal | vauthors = Reinke T | title = States increasingly mandate special autism services | journal = Manag Care | volume = 17 | issue = 8 | pages = 35–36, 39 | year = 2008 | pmid = 18777788 | url = http://managedcaremag.com/archives/0808/0808.autism.html | archiveurl = https://web.archive.org/web/20140324083435/http://managedcaremag.com/archives/0808/0808.autism.html | archivedate = 24 March 2014}}</ref> After childhood, key treatment issues include residential care, job training and placement, sexuality, social skills, and [[estate planning]].<ref>{{cite journal | vauthors = Aman MG | title = Treatment planning for patients with autism spectrum disorders | journal = J Clin Psychiatry | volume = 66 | issue = Suppl 10 | pages = 38–45 | year = 2005 | pmid = 16401149}}</ref>\n",
      "\n",
      "==Prognosis==\n",
      "There is no known cure.<ref name=CCD2007 /><ref name=Lev2009 /> Children recover occasionally, so that they lose their diagnosis of ASD;<ref name=Helt2008 /> this occurs sometimes after intensive treatment and sometimes not. It is not known how often recovery happens;<ref name=Rogers /> reported rates in unselected samples have ranged from 3% to 25%.<ref name=Helt2008 /> Most children with autism acquire language by age five or younger, though a few have developed communication skills in later years.<ref>{{cite journal | vauthors = Pickett E, Pullara O, O'Grady J, Gordon B | title = Speech acquisition in older nonverbal individuals with autism: a review of features, methods, and prognosis | journal = Cogn Behav Neurol | volume = 22 | issue = 1 | pages = 1–21 | year = 2009 | pmid = 19372766 | doi = 10.1097/WNN.0b013e318190d185}}</ref> Most children with autism lack [[social support]], meaningful relationships, future employment opportunities or [[Self-determination theory|self-determination]].<ref name=\"Burgess\">{{cite journal|vauthors=Burgess AF, Gutstein SE |year=2007 |title=Quality of life for people with autism: raising the standard for evaluating successful outcomes |journal=Child Adolesc Ment Health |volume=12 |issue=2 |pages=80–6 |doi=10.1111/j.1475-3588.2006.00432.x |url=http://kingwoodpsychology.com/recent_publications/camh_432.pdf |archiveurl=https://www.webcitation.org/6M1hUAhUa?url=http://kingwoodpsychology.com/recent_publications/camh_432.pdf |archivedate=21 December 2013 |deadurl=no }}</ref> Although core difficulties tend to persist, symptoms often become less severe with age.<ref name=Rapin />\n",
      "\n",
      "Few high-quality studies address long-term [[prognosis]]. Some adults show modest improvement in communication skills, but a few decline; no study has focused on autism after midlife.<ref>{{cite journal | vauthors = Seltzer MM, Shattuck P, Abbeduto L, Greenberg JS | title = Trajectory of development in adolescents and adults with autism | journal = Ment Retard Dev Disabil Res Rev | volume = 10 | issue = 4 | pages = 234–47 | year = 2004 | pmid = 15666341 | doi = 10.1002/mrdd.20038}}</ref> Acquiring language before age six, having an [[IQ]] above 50, and having a marketable skill all predict better outcomes; [[independent living]] is unlikely with severe autism.<ref>{{cite journal | vauthors = Tidmarsh L, Volkmar FR | title = Diagnosis and epidemiology of autism spectrum disorders | journal = Can J Psychiatry | volume = 48 | issue = 8 | pages = 517–25 | year = 2003 | pmid = 14574827 | url = http://ww1.cpa-apc.org/Publications/Archives/CJP/2003/september/tidmarsh.asp| doi = 10.1177/070674370304800803}}</ref>\n",
      "\n",
      "Many individuals with autism face significant obstacles in transitioning to adulthood.<ref>{{cite journal | vauthors = Hendricks DR, Wehman P | title = Transition From School to Adulthood for Youth With Autism Spectrum Disorders: Review and Recommendations | journal = Focus on Autism and Other Developmental Disabilities | date = 24 March 2009 | volume = 24 | issue = 2 | pages = 77–88 | doi = 10.1177/1088357608329827}}</ref> Compared to the general population individuals with autism are more likely to be unemployed and to have never had a job. People in their 20s with autism have an employment rate of 58%.<ref>{{Cite web|url=https://webcache.googleusercontent.com/search?q=cache:sGExA64fQHIJ:https://drexel.edu/~/media/Files/autismoutcomes/publications/LCO%2520Fact%2520Sheet%2520Employment.ashx+&cd=12&hl=en&ct=clnk&gl=us|title=Employment Outcomes of Young Adults on the Autism Spectrum|website=webcache.googleusercontent.com|access-date=2019-03-11}}</ref>\n",
      "\n",
      "==Epidemiology==\n",
      "{{Main|Epidemiology of autism}}\n",
      "[[File:US-autism-6-17-1996-2007.png|thumb|left|alt=Bar chart versus time. The graph rises steadily from 1996 to 2007, from about 0.7 to about 5.3. The trend curves slightly upward.|Reports of autism cases per 1,000 children grew dramatically in the US from 1996 to 2007. It is unknown how much, if any, growth came from changes in rates of autism.]]\n",
      "\n",
      "Most recent [[review]]s tend to estimate a prevalence of 1–2 per 1,000 for autism and close to 6 per 1,000 for ASD,<ref name=News2007 /> and 11 per 1,000 children in the United States for ASD as of 2008;<ref name=\"MMWR2012\">{{cite journal | title = Prevalence of autism spectrum disorders&nbsp;– autism and developmental disabilities monitoring network, 14 sites, United States, 2008 | journal = MMWR Surveill Summ | volume = 61 | issue = 3 | pages = 1–19 | year = 2012 | pmid = 22456193 | url = https://www.cdc.gov/mmwr/preview/mmwrhtml/ss6103a1.htm | archivedate = 25 March 2014 | archiveurl = https://web.archive.org/web/20140325235639/http://www.cdc.gov/mmwr/preview/mmwrhtml/ss6103a1.htm| author1 = Autism Developmental Disabilities Monitoring Network Surveillance Year 2008 Principal Investigators | author2 = Centers for Disease Control Prevention }}</ref><ref name=Duchan >{{cite journal | vauthors = Duchan E, Patel DR | title = Epidemiology of autism spectrum disorders | journal = Pediatr. Clin. North Am. | volume = 59 | issue = 1 | pages = 27–43, ix–x | year = 2012 | pmid = 22284791 | doi = 10.1016/j.pcl.2011.10.003}}</ref> because of inadequate data, these numbers may underestimate ASD's true rate.<ref name=Caronna /> Globally, autism affects an estimated 24.8 million people {{as of|2015|lc=y}}, while Asperger syndrome affects a further 37.2 million.<ref name=GBD2015Pre /> In 2012, the [[National Health Service|NHS]] estimated that the overall prevalence of autism among adults aged 18 years and over in the UK was 1.1%.<ref name=NHSEstimating>{{cite web |website= The Information Centre for Health and Social Care |publisher= National Health Service, UK |url= http://www.hscic.gov.uk/catalogue/PUB05061/esti-prev-auti-ext-07-psyc-morb-surv-rep.pdf |vauthors= Brugha T, Cooper SA, McManus S |title= Estimating the prevalence of autism spectrum conditions in adults: extending the 2007 Adult Psychiatric Morbidity Survey |date= 31 January 2012 |access-date= 29 December 2014 |display-authors= etal |deadurl= yes |archiveurl= https://web.archive.org/web/20141230033423/http://www.hscic.gov.uk/catalogue/PUB05061/esti-prev-auti-ext-07-psyc-morb-surv-rep.pdf |archivedate= 30 December 2014 |df= dmy-all }}</ref> Rates of [[PDD-NOS]]'s has been estimated at 3.7 per 1,000, Asperger syndrome at roughly 0.6 per 1,000, and [[childhood disintegrative disorder]] at 0.02 per 1,000.<ref name=\"Fombonne-2009\">{{cite journal | vauthors = Fombonne E | title = Epidemiology of pervasive developmental disorders | journal = Pediatr Res | volume = 65 | issue = 6 | pages = 591–98 | year = 2009 | pmid = 19218885 | doi = 10.1203/PDR.0b013e31819e7203 | doi-access = free}}</ref> CDC estimates about 1 out of 59 (1.7%) for 2014, an increase from 1 out of every 68 children (1.5%) for 2010.<ref>{{cite web |title=Data and Statistics on Autism Spectrum Disorder {{!}} CDC |url=https://www.cdc.gov/ncbddd/autism/data.html |website=Centers for Disease Control and Prevention |accessdate=7 March 2019 |language=en-us |date=15 November 2018}}</ref>\n",
      "\n",
      "The number of reported cases of autism increased dramatically in the 1990s and early 2000s. This increase is largely attributable to changes in diagnostic practices, referral patterns, availability of services, age at diagnosis, and public awareness,<ref name=Fombonne-2009 /><ref>{{cite journal | vauthors = Wing L, Potter D | title = The epidemiology of autistic spectrum disorders: is the prevalence rising? | journal = Ment Retard Dev Disabil Res Rev | volume = 8 | issue = 3 | pages = 151–61 | year = 2002 | pmid = 12216059 | doi = 10.1002/mrdd.10029 }}</ref> though unidentified environmental risk factors cannot be ruled out.<ref name=Rut2005 />  The available evidence does not rule out the possibility that autism's true prevalence has increased;<ref name=Fombonne-2009 /> a real increase would suggest directing more attention and funding toward changing environmental factors instead of continuing to focus on genetics.<ref name=\"Szpir\">{{cite journal | vauthors = Szpir M | title = Tracing the origins of autism: a spectrum of new studies | journal = [[Environ Health Perspect]] | volume = 114 | issue = 7 | pages = A412–18 | year = 2006 | pmid = 16835042 | pmc = 1513312 | doi = 10.1289/ehp.114-a412}}</ref>\n",
      "\n",
      "Boys are at higher risk for ASD than girls. The sex ratio averages 4.3:1 and  is greatly modified by cognitive impairment: it may be close to 2:1 with intellectual disability and more than 5.5:1 without.<ref name=\"News2007\" /> Several theories about the higher prevalence in males have been investigated, but the cause of the difference is unconfirmed;<ref name=\"Chaste\">{{cite journal | vauthors = Chaste P, Leboyer M | title = Autism risk factors: genes, environment, and gene-environment interactions | journal = Dialogues Clin Neurosci | volume = 14 | issue = 3 | pages = 281–92 | year = 2012 | pmid = 23226953 | pmc = 3513682}}</ref> one theory is that females are underdiagnosed.<ref>{{cite journal|vauthors=Schaafsma SM, Pfaf DW |title=Etiologies underlying sex differences in Autism Spectrum Disorders|journal=Frontiers in Neuroendocrinology|date=August 2014|volume=35|issue=3|pages=255–71|pmid=24705124|doi=10.1016/j.yfrne.2014.03.006}}</ref>\n",
      "\n",
      "Although the evidence does not implicate any single pregnancy-related risk factor as a cause of autism, the risk of autism is associated with advanced age in either parent, and with diabetes, bleeding, and use of psychiatric drugs in the mother during pregnancy.<ref name=Chaste /><ref>{{cite journal | vauthors = Gardener H, Spiegelman D, Buka SL | title = Prenatal risk factors for autism: comprehensive meta-analysis | journal = Br J Psychiatry | volume = 195 | issue = 1 | pages = 7–14 | year = 2009 | pmid = 19567888 | pmc = 3712619 | doi = 10.1192/bjp.bp.108.051672}}</ref> The risk is greater with older fathers than with older mothers; two potential explanations are the known increase in mutation burden in older sperm, and the hypothesis that men marry later if they carry genetic liability and show some signs of autism.<ref name=\"Geschwind\">{{cite journal | vauthors = Geschwind DH | title = Autism: many genes, common pathways? | journal = Cell | volume = 135 | issue = 3 | pages = 391–95 | year = 2008 | pmid = 18984147 | pmc = 2756410 | doi = 10.1016/j.cell.2008.10.016 }}</ref> Most professionals believe that race, ethnicity, and socioeconomic background do not affect the occurrence of autism.<ref>{{cite journal | vauthors = Bertoglio K, Hendren RL | title = New developments in autism | journal = Psychiatr Clin North Am | volume = 32 | issue = 1 | pages = 1–14 | year = 2009 | pmid = 19248913 | doi = 10.1016/j.psc.2008.10.004 }}</ref>\n",
      "\n",
      "Several other conditions are common in children with autism.<ref name=Lev2009 /> They include:\n",
      "* '''[[Genetic disorder]]s'''. About 10–15% of autism cases have an identifiable [[Mendelian]] (single-gene) condition, [[chromosome abnormality]], or other genetic syndrome,<ref>{{cite journal | vauthors = Folstein SE, Rosen-Sheidley B | title = Genetics of autism: complex aetiology for a heterogeneous disorder | journal = Nature Reviews Genetics | volume = 2 | issue = 12 | pages = 943–55 | year = 2001 | pmid = 11733747 | doi = 10.1038/35103559}}</ref> and ASD is associated with several genetic disorders.<ref>{{cite journal | vauthors = Zafeiriou DI, Ververi A, Vargiami E | title = Childhood autism and associated comorbidities | journal = Brain Dev | volume = 29 | issue = 5 | pages = 257–72 | year = 2007 | pmid = 17084999 | doi = 10.1016/j.braindev.2006.09.003}}</ref>\n",
      "* '''[[Intellectual disability]]'''. The percentage of autistic individuals who also meet criteria for intellectual disability has been reported as anywhere from 25% to 70%, a wide variation illustrating the difficulty of [[Intelligence assessment|assessing]] [[Controversies in autism#Intelligence|intelligence]] of individuals on the autism spectrum.<ref>{{cite book |chapter=Learning in autism |vauthors=Dawson M, Mottron L, Gernsbacher MA |title=Learning and Memory: A Comprehensive Reference |volume=2 |pages=759–72 |veditors=Byrne JH, Roediger HL |publisher=[[Elsevier]] |year=2008 |doi=10.1016/B978-012370509-9.00152-2 |isbn=978-0-12-370504-4 |oclc=775005136 |chapterurl=http://psych.wisc.edu/lang/pdf/Dawson_AutisticLearning.pdf |access-date=26 July 2008 |archiveurl=https://web.archive.org/web/20120303191513/http://psych.wisc.edu/lang/pdf/Dawson_AutisticLearning.pdf |archivedate=3 March 2012}}</ref> In comparison, for PDD-NOS the association with intellectual disability is much weaker,<ref>{{cite journal | vauthors = Chakrabarti S, Fombonne E | title = Pervasive developmental disorders in preschool children | journal = JAMA | volume = 285 | issue = 24 | pages = 3093–99 | year = 2001 | pmid = 11427137 | doi = 10.1001/jama.285.24.3093 }}</ref> and by definition, the diagnosis of Asperger's excludes intellectual disability.<ref>{{vcite book | title=DSM-IV-TR Diagnostical and Statistical Manual of Mental Disorders Fourth edition text revision | publisher=American Psychiatric Association, Washington DC | year=2000 | page=80}}</ref>\n",
      "* '''[[Anxiety disorder]]s''' are common among children with ASD; there are no firm data, but studies have reported prevalences ranging from 11% to 84%. Many anxiety disorders have symptoms that are better explained by ASD itself, or are hard to distinguish from ASD's symptoms.<ref>{{cite journal | vauthors = White SW, Oswald D, Ollendick T, Scahill L | title = Anxiety in children and adolescents with autism spectrum disorders | journal = Clin Psychol Rev | volume = 29 | issue = 3 | pages = 216–29 | year = 2009 | pmid = 19223098 | pmc = 2692135 | doi = 10.1016/j.cpr.2009.01.003}}</ref>\n",
      "* '''[[Epilepsy]]''', with variations in risk of epilepsy due to age, cognitive level, and type of [[language disorder]].<ref>{{cite journal | vauthors = Spence SJ, Schneider MT | title = The role of epilepsy and epileptiform EEGs in autism spectrum disorders | journal = Pediatr Res | volume = 65 | issue = 6 | pages = 599–606 | year = 2009 | pmid = 19454962 | pmc = 2692092 | doi = 10.1203/PDR.0b013e31819e7168}}</ref>\n",
      "* Several '''[[metabolic defect]]s''', such as [[phenylketonuria]], are associated with autistic symptoms.<ref name=\"Manzi\">{{cite journal | vauthors = Manzi B, Loizzo AL, Giana G, Curatolo P | title = Autism and metabolic diseases | journal = J Child Neurol | volume = 23 | issue = 3 | pages = 307–14 | year = 2008 | pmid = 18079313 | doi = 10.1177/0883073807308698}}</ref>\n",
      "* '''[[Minor physical anomalies]]''' are significantly increased in the autistic population.<ref>{{cite journal | vauthors = Ozgen HM, Hop JW, Hox JJ, Beemer FA, van Engeland H | title = Minor physical anomalies in autism: a meta-analysis | journal = Mol Psychiatry | volume = 15 | issue = 3 | pages = 300–07 | year = 2010 | pmid = 18626481 | doi = 10.1038/mp.2008.75 | doi-access = free}}</ref>\n",
      "* '''Preempted diagnoses'''. Although the DSM-IV rules out concurrent diagnosis of many other conditions along with autism, the full criteria for [[Attention deficit hyperactivity disorder|Attention deficit hyperactivity disorder (ADHD)]], [[Tourette syndrome]], and other of these conditions are often present and these [[Conditions comorbid to autism spectrum disorders|comorbid diagnoses]] are increasingly accepted.<ref>{{cite journal | vauthors = Steyaert JG, De la Marche W | title = What's new in autism? | journal = Eur J Pediatr | volume = 167 | issue = 10 | pages = 1091–101 | year = 2008 | pmid = 18597114 | doi = 10.1007/s00431-008-0764-4 | url = https://www.academia.edu/24262348}}</ref>\n",
      "* '''Sleep problems''' affect about two-thirds of individuals with ASD at some point in childhood. These most commonly include symptoms of [[insomnia]] such as difficulty in falling asleep, frequent [[middle-of-the-night insomnia|nocturnal awakenings]], and early morning awakenings. Sleep problems are associated with difficult behaviors and family stress, and are often a focus of clinical attention over and above the primary ASD diagnosis.<ref>{{cite journal | vauthors = Richdale AL, Schreck KA | title = Sleep problems in autism spectrum disorders: prevalence, nature, & possible biopsychosocial aetiologies | journal = Sleep Med Rev | volume = 13 | issue = 6 | pages = 403–11 | year = 2009 | pmid = 19398354 | doi = 10.1016/j.smrv.2009.02.003}}</ref>\n",
      "\n",
      "==History==\n",
      "{{further|History of Asperger syndrome}}\n",
      "[[File:Victor of Aveyron, 1800.jpg|thumb|left|upright=0.8|Portrait of [[Victor of Aveyron]], a [[feral child]] caught in 1798 who displayed possible symptoms of autism<ref name=\"Wolff\"/>]]\n",
      "\n",
      "A few examples of autistic symptoms and treatments were described long before autism was named. The ''[[Table Talk (Luther)|Table Talk]]'' of [[Martin Luther]], compiled by his notetaker, Mathesius, contains the story of a 12-year-old boy who may have been severely autistic.<ref>{{cite journal |journal=Autism |volume=1 |issue=1 |pages=13–23 |year=1997 |doi=10.1177/1362361397011004 |title=The history of ideas on autism: legends, myths and reality | vauthors = Wing L | author-link1 = Lorna Wing}}</ref> Luther reportedly thought the boy was a soulless mass of flesh possessed by the devil, and suggested that he be suffocated, although a later critic has cast doubt on the veracity of this report.<ref>{{cite web | vauthors = Miles M |year=2005 |title=Martin Luther and childhood disability in 16th century Germany: what did he write? what did he say? |publisher=Independent Living Institute |url=http://www.independentliving.org/docs7/miles2005b.html |access-date=23 December 2008 |archiveurl=https://web.archive.org/web/20131103210840/http://www.independentliving.org/docs7/miles2005b.html |archivedate=3 November 2013}}</ref> The earliest well-documented case of autism is that of Hugh Blair of Borgue, as detailed in a 1747 court case in which his brother successfully petitioned to annul Blair's marriage to gain Blair's inheritance.<ref>{{cite book |vauthors=Houston RA, Frith U |title=Autism in History: The Case of Hugh Blair of Borgue |year=2000 |publisher=[[John Wiley & Sons]] |location=Oxford |isbn=978-0-631-22089-3 |oclc=231866075 |lccn=00036033}}</ref> The [[Wild Boy of Aveyron]], a [[feral child]] caught in 1798, showed several signs of autism; the medical student [[Jean Marc Gaspard Itard|Jean Itard]] treated him with a behavioral program designed to help him form social attachments and to induce speech via imitation.<ref name=\"Wolff\">{{cite journal | vauthors = Wolff S | title = The history of autism | journal = Eur Child Adolesc Psychiatry | volume = 13 | issue = 4 | pages = 201–08 | year = 2004 | pmid = 15365889 | doi = 10.1007/s00787-004-0363-5}}</ref>\n",
      "\n",
      "The [[New Latin]] word ''autismus'' (English translation ''autism'') was coined by the [[Swiss people|Swiss]] psychiatrist [[Eugen Bleuler]] in 1910 as he was defining symptoms of [[schizophrenia]]. He derived it from the Greek word ''autós'' (αὐτός, meaning \"self\"), and used it to mean morbid self-admiration, referring to \"autistic withdrawal of the patient to his fantasies, against which any influence from outside becomes an intolerable disturbance\".<ref>{{cite journal | vauthors = Kuhn R | title = Eugen Bleuler's concepts of psychopathology | journal = Hist Psychiatry | volume = 15 | issue = 3 | pages = 361–66 | year = 2004 | pmid = 15386868 | doi = 10.1177/0957154X04044603}} The quote is a translation of Bleuler's 1910 original.</ref>  A Soviet child psychiatrist, [[Grunya Sukhareva]], described a similar syndrome that was published in Russian in 1925, and in German in 1926.<ref>{{cite journal|vauthors=Manouilenko I, Bejerot S|title=Sukhareva—Prior to Asperger and Kanner|access-date=|journal=Nordic Journal of Psychiatry|type=Report|publication-date=31 March 2015|volume=69|issue=6|pages=1761–4|doi=10.3109/08039488.2015.1005022|issn=1502-4725|pmid=25826582|year=2015}}</ref>\n",
      "\n",
      "=== Clinical development and diagnoses ===\n",
      "[[File:Leo-Kanner.jpeg|thumb|upright|alt=Balding man in his early 60s in coat and tie, with a serious but slightly smiling expression|[[Leo Kanner]] introduced the label ''early infantile autism'' in 1943.]]\n",
      "\n",
      "The word ''autism'' first took its modern sense in 1938 when [[Hans Asperger]] of the [[Vienna General Hospital|Vienna University Hospital]] adopted Bleuler's terminology ''autistic psychopaths'' in a lecture in German about [[child psychology]].<ref>{{cite journal | journal=Wien Klin Wochenschr |year=1938 |volume=51 |pages=1314–17 | title = Das psychisch abnormale Kind |trans-title=The psychically abnormal child | vauthors = Asperger H | author-link1 = Hans Asperger | language=German}}</ref> Asperger was investigating an ASD now known as [[Asperger syndrome]], though for various reasons it was not widely recognized as a separate diagnosis until 1981.<ref name=\"Wolff\" /> [[Leo Kanner]] of the [[Johns Hopkins Hospital]] first used ''autism'' in its modern sense in English when he introduced the label ''early infantile autism'' in a 1943 report of 11 children with striking behavioral similarities.<ref name=\"Kanner1943\">{{cite journal | vauthors = Kanner L | author-link1 = Leo Kanner |title=Autistic disturbances of affective contact |journal=Nerv Child |volume=2 |pages=217–50 |year=1943}} Reprinted in {{cite journal | vauthors = Kanner L | title = Autistic disturbances of affective contact | journal = Acta Paedopsychiatr | volume = 35 | issue = 4 | pages = 100–36 | year = 1968 | pmid = 4880460}}</ref> Almost all the characteristics described in Kanner's first paper on the subject, notably \"autistic aloneness\" and \"insistence on sameness\", are still regarded as typical of the autistic spectrum of disorders.<ref name=\"HappeTime\" /> It is not known whether Kanner derived the term independently of Asperger.<ref name=\"Lyons\">{{cite journal | vauthors = Lyons V, Fitzgerald M | title = Asperger (1906–1980) and Kanner (1894–1981), the two pioneers of autism | journal = J Autism Dev Disord | volume = 37 | issue = 10 | pages = 2022–23 | year = 2007 | pmid = 17922179 | doi = 10.1007/s10803-007-0383-3}}</ref>\n",
      "\n",
      "[[Donald Triplett]] was the first person diagnosed with autism.<ref name=\"Britannica\" /> He was diagnosed by Kanner after being first examined in 1938, and was labeled as \"case 1\".<ref name=\"Britannica\">{{cite web|last1=Pallardy|first1=Richard|title=Donald Triplett|url=https://www.britannica.com/biography/Donald-Triplett|website=Encyclopædia Britannica|access-date=19 March 2017|language=en}}</ref> Triplett was noted for his savant abilities, particularly being able to name musical notes played on a piano and to mentally multiply numbers. His father, Oliver, described him as socially withdrawn but interested in number patterns, music notes, letters of the alphabet, and U.S. president pictures. By the age of 2, he had the ability to recite the 23rd Psalm and memorized 25 questions and answers from the Presbyterian catechism. He was also interested in creating musical chords.<ref name=\"Atlantic\">{{cite news|last1=Donvan|first1=John|last2=Zucker|first2=Caren | name-list-format = vanc |title=Autism's First Child|url=https://www.theatlantic.com/magazine/archive/2010/10/autisms-first-child/308227/|access-date=19 March 2017|work=The Atlantic}}</ref>\n",
      "\n",
      "Kanner's reuse of ''autism'' led to decades of confused terminology like ''infantile schizophrenia'', and child psychiatry's focus on maternal deprivation led to misconceptions of autism as an infant's response to \"[[refrigerator mother]]s\". Starting in the late 1960s autism was established as a separate syndrome.<ref>{{cite journal | vauthors = Fombonne E | title = Modern views of autism | journal = Can J Psychiatry | volume = 48 | issue = 8 | pages = 503–05 | year = 2003 | pmid = 14574825 | url = http://ww1.cpa-apc.org/Publications/Archives/CJP/2003/september/guesteditorial.asp| doi = 10.1177/070674370304800801}}</ref>\n",
      "\n",
      "=== Terminology and distinction from schizophrenia ===\n",
      "As late as the mid-1970s there was little evidence of a genetic role in autism; while in 2007 it was believed to be one of the most heritable psychiatric conditions.<ref>{{vcite book |chapter=Genetic epidemiology of autism spectrum disorders | vauthors = Szatmari P, Jones MB | author-link1 = Peter Szatmari | pages=157–78 |title=Autism and Pervasive Developmental Disorders |edition=2nd |editor=Volkmar FR |publisher=Cambridge University Press |year=2007 |isbn=978-0-521-54957-8}}</ref> Although the rise of parent organizations and the destigmatization of childhood ASD have affected how ASD is viewed,<ref name=\"Wolff\" /> parents continue to feel [[social stigma]] in situations where their child's autistic behavior is perceived negatively,<ref>{{cite journal | vauthors = Chambres P, Auxiette C, Vansingle C, Gil S | title = Adult attitudes toward behaviors of a six-year-old boy with autism | journal = J Autism Dev Disord | volume = 38 | issue = 7 | pages = 1320–27 | year = 2008 | pmid = 18297387 | doi = 10.1007/s10803-007-0519-5 | url = https://www.academia.edu/20027016}}</ref> and many [[primary care physician]]s and [[medical specialist]]s express some beliefs consistent with outdated autism research.<ref>{{cite journal | vauthors = Heidgerken AD, Geffken G, Modi A, Frakey L | title = A survey of autism knowledge in a health care setting | journal = J Autism Dev Disord | volume = 35 | issue = 3 | pages = 323–30 | year = 2005 | pmid = 16119473 | doi = 10.1007/s10803-005-3298-x }}</ref>\n",
      "\n",
      "It took until 1980 for the [[DSM-III]] to differentiate autism from childhood schizophrenia. In 1987, the [[DSM-III-R]] provided a checklist for diagnosing autism. In May 2013, the [[DSM-5]] was released, updating the classification for pervasive developmental disorders. The grouping of disorders, including [[PDD-NOS]], autism, [[Asperger syndrome]], [[Rett syndrome]], and [[Childhood disintegrative disorder|CDD]], has been removed and replaced with the general term of Autism Spectrum Disorders. The two categories that exist are impaired social communication and/or interaction, and restricted and/or repetitive behaviors.<ref>{{cite journal|last1=Baker|first1=Jeffrey P.|title=Autism at 70 – Redrawing the Boundaries|journal=New England Journal of Medicine|date=19 September 2013|volume=369|issue=12|pages=1089–91|doi=10.1056/NEJMp1306380|pmid=24047057}}</ref>\n",
      "\n",
      "The Internet has helped autistic individuals bypass nonverbal cues and emotional sharing that they find difficult to deal with, and has given them a way to form online communities and work remotely.<ref>{{cite journal | vauthors = Biever C | title = Web removes social barriers for those with autism |journal=New Scientist |issue=2610 |pages=26–27 |year=2007 |url=https://www.newscientist.com/article/mg19426106.100 |archiveurl=https://web.archive.org/web/20121020165135/http://www.newscientist.com/article/mg19426106.100 |archivedate=20 October 2012}}</ref> [[Societal and cultural aspects of autism]] have developed: some in the community seek a cure, while others believe that [[Neurodiversity|autism is simply another way of being]].<ref name=Sil2008 /><ref name=Frith2014 /><ref>{{cite news | vauthors = Harmon A |title=How about not 'curing' us, some autistics are pleading |date=20 December 2004 |work=The New York Times |url= https://www.nytimes.com/2004/12/20/health/20autism.html |archiveurl= https://web.archive.org/web/20130511002649/http://www.nytimes.com/2004/12/20/health/20autism.html |archivedate=11 May 2013}}</ref>\n",
      "\n",
      "== References ==\n",
      "{{reflist}}\n",
      "\n",
      "==External links==\n",
      "{{Medical resources\n",
      "| DiseasesDB      = 1142\n",
      "| ICD10           = {{ICD10|F|84|0|f|80}}\n",
      "| ICD9            = {{ICD9|299.00}}\n",
      "| OMIM            = 209850\n",
      "| MedlinePlus     = 001526\n",
      "| eMedicineSubj   = med\n",
      "| eMedicineTopic  = 3202\n",
      "| eMedicine_mult  = {{eMedicine2|ped|180}}\n",
      "| MeshID          = D001321\n",
      "| GeneReviewsNBK  = NBK1442\n",
      "| GeneReviewsName = Autism overview\n",
      "}}\n",
      "{{Wikiquote}}\n",
      "{{Sister project links|d=Q38404|s=no|n=Category:Autism|wikt=autism|species=no|voy=no|m=no|mw=no|q=no|v=no}}\n",
      "{{Library resources box |by=no |onlinebooks=no |others=yes lcheading=Autism}}\n",
      "* {{Curlie|Health/Mental_Health/Disorders/Neurodevelopmental/Autism_Spectrum}}\n",
      "* {{Portal-inline|size=tiny|Pervasive developmental disorders}}\n",
      "\n",
      "{{Pervasive developmental disorders}}\n",
      "{{Mental and behavioral disorders|selected = childhood}}\n",
      "{{Autism resources}}\n",
      "{{Autism films}}\n",
      "{{featured article}}\n",
      "\n",
      "[[Category:Autism| ]]\n",
      "[[Category:Articles containing video clips]]\n",
      "[[Category:Communication disorders]]\n",
      "[[Category:Mental and behavioural disorders]]\n",
      "[[Category:Neurological disorders]]\n",
      "[[Category:Neurological disorders in children]]\n",
      "[[Category:Pervasive developmental disorders]]\n",
      "[[Category:Psychiatric diagnosis]]\n",
      "[[Category:RTT]]\n"
     ]
    }
   ],
   "source": [
    "print(text_with_infobox[0])"
   ]
  },
  {
   "cell_type": "code",
   "execution_count": null,
   "metadata": {},
   "outputs": [],
   "source": [
    "class Page:\n",
    "    def __init__(self, text):\n",
    "        self.text = text\n",
    "    def get_infobox(self, type='all'):\n",
    "        pass"
   ]
  },
  {
   "cell_type": "code",
   "execution_count": null,
   "metadata": {},
   "outputs": [],
   "source": []
  },
  {
   "cell_type": "code",
   "execution_count": null,
   "metadata": {},
   "outputs": [],
   "source": []
  },
  {
   "cell_type": "code",
   "execution_count": 179,
   "metadata": {
    "collapsed": true
   },
   "outputs": [
    {
     "data": {
      "text/plain": [
       "['Infobox Buddha',\n",
       " 'Infobox Christian leader',\n",
       " 'Infobox clergy',\n",
       " 'Infobox Jewish leader',\n",
       " 'Infobox Latter Day Saint biography',\n",
       " 'Infobox rebbe',\n",
       " 'Infobox religious biography',\n",
       " 'Infobox saint',\n",
       " 'Infobox Egyptian dignitary',\n",
       " 'Infobox noble',\n",
       " 'Infobox peer',\n",
       " 'Infobox pharaoh',\n",
       " 'Infobox pretender',\n",
       " 'Infobox royalty',\n",
       " 'Infobox college football player',\n",
       " 'Infobox CFL biography',\n",
       " 'Infobox NFL biography',\n",
       " 'Infobox baseball biography',\n",
       " 'Infobox basketball biography',\n",
       " 'Infobox Champ Car driver',\n",
       " 'Infobox F1 driver',\n",
       " 'Infobox Le Mans driver',\n",
       " 'Infobox Motocross rider',\n",
       " 'Infobox motorcycle rider',\n",
       " 'Infobox NASCAR driver',\n",
       " 'Infobox racing driver',\n",
       " 'Infobox racing driver series section',\n",
       " 'Infobox speedway rider',\n",
       " 'Infobox WRC driver',\n",
       " 'Infobox sportsperson',\n",
       " 'Infobox biathlete',\n",
       " 'Infobox boxer (amateur)',\n",
       " 'Infobox climber',\n",
       " 'Infobox professional bowler',\n",
       " 'Infobox sailor',\n",
       " 'Infobox speed skater',\n",
       " 'Infobox sport wrestler',\n",
       " 'Infobox swimmer',\n",
       " 'Infobox bullfighting career',\n",
       " 'Infobox AFL biography',\n",
       " 'Infobox alpine ski racer',\n",
       " 'Infobox amateur wrestler',\n",
       " 'Infobox badminton player',\n",
       " 'Infobox bandy biography',\n",
       " 'Infobox bodybuilder',\n",
       " 'Infobox boxer',\n",
       " 'Infobox cricketer',\n",
       " 'Infobox curler',\n",
       " 'Infobox cyclist',\n",
       " 'Infobox equestrian',\n",
       " 'Infobox fencer',\n",
       " 'Infobox field hockey player',\n",
       " 'Infobox figure skater',\n",
       " 'Infobox football biography',\n",
       " 'Infobox football official',\n",
       " 'Infobox Gaelic Athletic Association player',\n",
       " 'Infobox golfer',\n",
       " 'Infobox gymnast',\n",
       " 'Infobox handball biography',\n",
       " 'Infobox horseracing personality',\n",
       " 'Infobox ice hockey player',\n",
       " 'Infobox lacrosse player',\n",
       " 'Infobox martial artist',\n",
       " 'Infobox mountaineer',\n",
       " 'Infobox NCAA athlete',\n",
       " 'Infobox netball biography',\n",
       " 'Infobox National Hockey League coach',\n",
       " 'Infobox pelotari',\n",
       " 'Infobox professional wrestler',\n",
       " 'Infobox rugby biography',\n",
       " 'Infobox rugby league biography',\n",
       " 'Infobox skier',\n",
       " 'Infobox sports announcer details',\n",
       " 'Infobox squash player',\n",
       " 'Infobox sumo wrestler',\n",
       " 'Infobox surfer',\n",
       " 'Infobox table tennis player',\n",
       " 'Infobox tennis biography',\n",
       " 'Infobox volleyball biography',\n",
       " 'Infobox person',\n",
       " 'Infobox academic',\n",
       " 'Infobox architect',\n",
       " 'Infobox artist',\n",
       " 'Infobox chef',\n",
       " 'Infobox clergy',\n",
       " 'Infobox classical composer',\n",
       " 'Infobox criminal',\n",
       " 'Infobox dancer',\n",
       " 'Infobox economist',\n",
       " 'Infobox engineer',\n",
       " 'Infobox engineering career',\n",
       " 'Infobox medical details',\n",
       " 'Infobox medical person',\n",
       " 'Infobox model',\n",
       " 'Infobox pageant titleholder',\n",
       " 'Infobox philosopher',\n",
       " 'Infobox pirate',\n",
       " 'Infobox police officer',\n",
       " 'Infobox presenter',\n",
       " 'Infobox scientist',\n",
       " 'Infobox sports announcer',\n",
       " 'Infobox spy',\n",
       " 'Infobox theologian',\n",
       " 'Infobox theological work',\n",
       " 'Infobox astronaut',\n",
       " 'Infobox aviator',\n",
       " 'Infobox chess biography',\n",
       " 'Infobox college coach',\n",
       " 'Infobox comedian',\n",
       " 'Infobox comics creator',\n",
       " 'Infobox darts player',\n",
       " 'Infobox FBI Ten Most Wanted',\n",
       " 'Infobox go player',\n",
       " 'Infobox gunpowder plotter',\n",
       " 'Infobox Magic: The Gathering player',\n",
       " 'Infobox member of the Knesset',\n",
       " 'Infobox military person',\n",
       " 'Infobox musical artist',\n",
       " 'Infobox Nahua officeholder',\n",
       " 'Infobox officeholder',\n",
       " 'Infobox Native American leader',\n",
       " 'Infobox Playboy Playmate',\n",
       " 'Infobox poker player',\n",
       " 'Infobox snooker player',\n",
       " 'Infobox video game player',\n",
       " 'Infobox War on Terror detainee',\n",
       " 'Infobox writer',\n",
       " 'Infobox YouTube personality']"
      ]
     },
     "execution_count": 179,
     "metadata": {},
     "output_type": "execute_result"
    }
   ],
   "source": [
    "df_infobox = pd.read_csv('infobox.csv')\n",
    "all_infobox_types = list(df_infobox.infobox_type)\n",
    "del df_infobox\n",
    "all_infobox_types"
   ]
  },
  {
   "cell_type": "code",
   "execution_count": 2,
   "metadata": {},
   "outputs": [
    {
     "name": "stdout",
     "output_type": "stream",
     "text": [
      "Wall time: 3.7 s\n"
     ]
    }
   ],
   "source": [
    "%%time\n",
    "\n",
    "# with open('test.xml', 'r', encoding='utf-8') as f:\n",
    "with open('enwiki-20190520-pages-articles-multistream1.xml', 'r', encoding='utf-8') as f:\n",
    "    lines = f.readlines()"
   ]
  },
  {
   "cell_type": "code",
   "execution_count": 3,
   "metadata": {
    "scrolled": true
   },
   "outputs": [
    {
     "data": {
      "text/plain": [
       "4597155"
      ]
     },
     "execution_count": 3,
     "metadata": {},
     "output_type": "execute_result"
    }
   ],
   "source": [
    "len(lines)"
   ]
  },
  {
   "cell_type": "code",
   "execution_count": 4,
   "metadata": {},
   "outputs": [
    {
     "data": {
      "text/plain": [
       "['<mediawiki xmlns=\"http://www.mediawiki.org/xml/export-0.10/\" xmlns:xsi=\"http://www.w3.org/2001/XMLSchema-instance\" xsi:schemaLocation=\"http://www.mediawiki.org/xml/export-0.10/ http://www.mediawiki.org/xml/export-0.10.xsd\" version=\"0.10\" xml:lang=\"en\">\\n',\n",
       " '  <siteinfo>\\n',\n",
       " '    <sitename>Wikipedia</sitename>\\n',\n",
       " '    <dbname>enwiki</dbname>\\n',\n",
       " '    <base>https://en.wikipedia.org/wiki/Main_Page</base>\\n',\n",
       " '    <generator>MediaWiki 1.34.0-wmf.5</generator>\\n',\n",
       " '    <case>first-letter</case>\\n',\n",
       " '    <namespaces>\\n',\n",
       " '      <namespace key=\"-2\" case=\"first-letter\">Media</namespace>\\n',\n",
       " '      <namespace key=\"-1\" case=\"first-letter\">Special</namespace>\\n']"
      ]
     },
     "execution_count": 4,
     "metadata": {},
     "output_type": "execute_result"
    }
   ],
   "source": [
    "lines[:10]"
   ]
  },
  {
   "cell_type": "code",
   "execution_count": null,
   "metadata": {},
   "outputs": [],
   "source": []
  },
  {
   "cell_type": "code",
   "execution_count": null,
   "metadata": {},
   "outputs": [],
   "source": []
  },
  {
   "cell_type": "code",
   "execution_count": 208,
   "metadata": {},
   "outputs": [],
   "source": [
    "# def get_content_within_paired(s, open_bracket='([{', close_bracket='}])'):\n",
    "    \n",
    "    \n",
    "def extract_infoboxes(lines):\n",
    "    infoboxes = []\n",
    "    infobox = []\n",
    "    bracket_stack = 0\n",
    "    cur_line_is_infobox = False\n",
    "    \n",
    "    for l in lines:\n",
    "        l = l.strip()\n",
    "        if not cur_line_is_infobox and l.strip()[:9] == '{{Infobox' and l[2:].strip() in all_infobox_types:\n",
    "            cur_line_is_infobox = True\n",
    "        if cur_line_is_infobox:\n",
    "            bracket_stack = bracket_stack + len(re.findall('{{', l)) - len(re.findall('}}', l))\n",
    "            infobox.append(l)\n",
    "            if bracket_stack <= 0:\n",
    "                cur_line_is_infobox = False\n",
    "                infoboxes.append(infobox)\n",
    "                infobox = []\n",
    "                bracket_stack = 0\n",
    "    return infoboxes"
   ]
  },
  {
   "cell_type": "code",
   "execution_count": 209,
   "metadata": {},
   "outputs": [
    {
     "name": "stdout",
     "output_type": "stream",
     "text": [
      "Wall time: 2.17 s\n"
     ]
    }
   ],
   "source": [
    "%%time\n",
    "infoboxes = extract_infoboxes(lines)"
   ]
  },
  {
   "cell_type": "code",
   "execution_count": 213,
   "metadata": {},
   "outputs": [],
   "source": [
    "test_line = lines[3976260:3976325]"
   ]
  },
  {
   "cell_type": "code",
   "execution_count": 214,
   "metadata": {},
   "outputs": [],
   "source": [
    "test_ifbs = extract_infoboxes(test_line)"
   ]
  },
  {
   "cell_type": "code",
   "execution_count": 216,
   "metadata": {},
   "outputs": [
    {
     "data": {
      "text/plain": [
       "[['{{Infobox religious biography',\n",
       "  '| title = [[Grand Ayatollah]]',\n",
       "  '| embed             = yes',\n",
       "  '| religion         = [[Islam]]',\n",
       "  '| denomination      = [[Twelver]] [[Shia Islam|Shīʿā]]&lt;ref&gt;{{cite book|editor1-last=Bowering|editor1-first=Gerhard|editor2-last=Crone|editor2-first=Patricia|editor3-last=Kadi|editor3-first=Wadad|editor4-last=Stewart|editor4-first=Devin J.|editor5-last=Zaman|editor5-first=Muhammad Qasim|editor6-last=Mirza|editor6-first=Mahan|title=The Princeton Encyclopedia of Islamic Political Thought|date=28 November 2012|publisher=Princeton University Press|isbn=9781400838554|page=518}}&lt;/ref&gt;&lt;ref&gt;{{cite book|author1=Malise Ruthven|title=Fundamentalism: The Search For Meaning: The Search For Meaning|date=8 April 2004|publisher=Oxford University Press|isbn=9780191517389|page=29|edition=reprint}}&lt;/ref&gt;&lt;ref&gt;{{cite book|editor1-last=Jebnoun|editor1-first=Noureddine|editor2-last=Kia|editor2-first=Mehrdad|editor3-last=Kirk|editor3-first=Mimi|title=Modern Middle East Authoritarianism: Roots, Ramifications, and Crisis|date=31 July 2013|publisher=Routledge|isbn=9781135007317|page=168}}&lt;/ref&gt;',\n",
       "  \"| jurisprudence     = [[Ja'fari jurisprudence|Ja'fari]]\",\n",
       "  '| creed             = [[Usuli]]',\n",
       "  '| main_interests    =',\n",
       "  '| notable_ideas     = [[Political thought and legacy of Ruhollah Khomeini#Governance|New advance]] of [[Guardianship of the Islamic Jurist|Guardianship]]',\n",
       "  '| notable_works     = [[Forty Hadith of Ruhullah Khomeini|Forty Hadith]], [[Kashf al-Asrar]], [[Tahrir al-Wasilah]], [[Islamic Government: Governance of the Jurist|Islamic Government]]',\n",
       "  '| alma_mater        = [[Qom Seminary]]',\n",
       "  '| teachers          = [[Ayatollah Seyyed Hossein Borujerdi]]',\n",
       "  '| students          =',\n",
       "  '| influences        =',\n",
       "  '| influenced        =',\n",
       "  '}}']]"
      ]
     },
     "execution_count": 216,
     "metadata": {},
     "output_type": "execute_result"
    }
   ],
   "source": [
    "test_ifbs"
   ]
  },
  {
   "cell_type": "markdown",
   "metadata": {},
   "source": [
    "# Conditions to handle\n",
    "- 1.\n",
    "\n",
    "```\n",
    "{{Infobox president\n",
    "| name          = Ruhollah Khomeini\n",
    "| native_name   = {{lang|fa|سید روح‌الله موسوی خمینی}}\n",
    "...\n",
    "| signature     = Ruhollah Khomeini signature.png\n",
    "| module        =\n",
    "    {{Infobox religious biography\n",
    "    | title = [[Grand Ayatollah]]\n",
    "    | embed             = yes\n",
    "    | religion         = [[Islam]]\n",
    "...\n",
    "```\n"
   ]
  },
  {
   "cell_type": "code",
   "execution_count": 194,
   "metadata": {},
   "outputs": [
    {
     "name": "stdout",
     "output_type": "stream",
     "text": [
      "Wall time: 2.15 s\n"
     ]
    }
   ],
   "source": [
    "%%time\n",
    "\n",
    "bios = []\n",
    "bio = []\n",
    "\n",
    "bracket_stack = 0\n",
    "cur_line_is_infobox = False\n",
    "for l in lines:\n",
    "    if not curl.strip()[:9] == '{{Infobox' and l.strip()[2:].strip() in all_infobox_types:\n",
    "        cur_line_is_infobox = True\n",
    "    if cur_line_is_infobox:\n",
    "        bracket_stack = bracket_stack + len(re.findall('{{', l)) - len(re.findall('}}', l))\n",
    "        bio.append(l.replace(' |', '|'))\n",
    "        if bracket_stack <= 0:\n",
    "            cur_line_is_infobox = False\n",
    "            bios.append(bio)\n",
    "            bio = []"
   ]
  },
  {
   "cell_type": "code",
   "execution_count": 196,
   "metadata": {},
   "outputs": [
    {
     "name": "stdout",
     "output_type": "stream",
     "text": [
      " {{Infobox writer \n",
      "\n",
      "  {{Infobox musical artist\n",
      "\n",
      "    {{Infobox religious biography\n",
      "\n"
     ]
    }
   ],
   "source": [
    "for l in lines:\n",
    "    if l.strip()[:9] == '{{Infobox' and l.strip()[2:].strip() in all_infobox_types and not l[2:].strip() in all_infobox_types:\n",
    "        print(l)"
   ]
  },
  {
   "cell_type": "code",
   "execution_count": 199,
   "metadata": {},
   "outputs": [
    {
     "name": "stdout",
     "output_type": "stream",
     "text": [
      "3976296     {{Infobox religious biography\n",
      "\n"
     ]
    }
   ],
   "source": [
    "for i, l in enumerate(lines):\n",
    "    if '{{Infobox religious biography' in l and l[:4] == '    ':\n",
    "        print(i, l)"
   ]
  },
  {
   "cell_type": "code",
   "execution_count": 217,
   "metadata": {
    "scrolled": true
   },
   "outputs": [
    {
     "name": "stdout",
     "output_type": "stream",
     "text": [
      "    <revision>\n",
      "      <id>898020855</id>\n",
      "      <parentid>898020756</parentid>\n",
      "      <timestamp>2019-05-20T21:20:23Z</timestamp>\n",
      "      <contributor>\n",
      "        <username>GeneralizationsAreBad</username>\n",
      "        <id>24080262</id>\n",
      "      </contributor>\n",
      "      <comment>Reverted 1 pending edit by [[Special:Contributions/67.226.221.181|67.226.221.181]] to revision 897942996 by HistoryofIran: Wrong place and not clear</comment>\n",
      "      <model>wikitext</model>\n",
      "      <format>text/x-wiki</format>\n",
      "      <text xml:space=\"preserve\">{{pp-pc|small=yes}}\n",
      "{{short description|20th-century Iranian religious leader and politician}}\n",
      "{{Distinguish|Ali Khamenei}}\n",
      "{{Other people|Khomeini|Khomeini (name)}}\n",
      "{{Use dmy dates|date=October 2012}}\n",
      "{{Infobox president\n",
      "| name          = Ruhollah Khomeini\n",
      "| native_name   = {{lang|fa|سید روح‌الله موسوی خمینی}}\n",
      "| honorific-prefix = [[Grand Ayatollah]]\n",
      "| image         = File:Ruhollah Khomeinii.jpg\n",
      "| caption       = \n",
      "| birth_date    = {{birth date|1902|9|24|df=y}}&lt;ref name=&quot;birth1&quot;&gt;{{harvnb|DeFronzo|2007|p=287}}. &quot;born 22 September 1901...&quot;&lt;/ref&gt;&lt;ref&gt;{{cite web|url=http://www.iranchamber.com/history/rkhomeini/ayatollah_khomeini.php |title=History Of Iran Ayatollah Khomeini – Iran Chamber Society |publisher=Iranchamber.com |date= |accessdate=5 January 2013}}&lt;/ref&gt;&lt;ref name=&quot;NYTimes books&quot;&gt;{{Cite news |title=Khomeini Life of the Ayatollah By BAQER MOIN |work=The New York Times|url=https://www.nytimes.com/books/first/m/moin-khomeini.html |accessdate=19 January 2012}}&lt;/ref&gt;&lt;ref name=&quot;Imama Khomeini International Portal&quot;&gt;{{cite web|url=http://www.harammotahar.ir/|title=Imam Khomeini Official Website &amp;#124; پرتال امام خمینی |publisher=harammotahar.ir|date= |accessdate=9 March 2012}}&lt;/ref&gt;&lt;ref&gt;{{harvnb|Karsh|2007|p=220}}. &quot;Born on 22 September 1901&lt;/ref&gt;\n",
      "| birth_place   = [[Khomeyn]], [[Sublime State of Persia|Persia]]\n",
      "| death_date    = {{Death date and age|1989|6|3|1902|9|24|df=y}}\n",
      "| death_place   = [[Tehran]], Iran\n",
      "| resting_place = [[Mausoleum of Ruhollah Khomeini]]\n",
      "| nationality   = [[Iranian peoples|Iranian]]\n",
      "| spouse        = {{marriage|[[Khadijeh Saqafi]]|1929}}\n",
      "| children      = [[Mostafa Khomeini|Mostafa]] &lt;br&gt; [[Zahra Mostafavi Khomeini|Zahra]] &lt;br&gt; Sadiqeh &lt;br&gt; [[Farideh Mostafavi Khomeini|Farideh]] &lt;br&gt; [[Ahmad Khomeini|Ahmad]]\n",
      "| office        = 1st [[Supreme Leader of Iran]]\n",
      "| term_start    = 3 December 1979\n",
      "| term_end      = 3 June 1989\n",
      "| president     = [[Abolhassan Banisadr]]&lt;br&gt;[[Mohammad-Ali Rajai]]&lt;br&gt;[[Ali Khamenei]]\n",
      "| primeminister = Mohammad-Ali Rajai&lt;br&gt;[[Mohammad-Javad Bahonar]]&lt;br&gt;[[Mohammad-Reza Mahdavi Kani|Mohammadreza Mahdavi Kani]]&lt;br&gt;[[Mir-Hossein Mousavi]]\n",
      "| predecessor   = ''office established''\n",
      "| successor     = [[Ali Khamenei]]\n",
      "| office1       = [[List of heads of state of Iran|Leader of the Revolution]]&lt;br&gt;{{small|Head of State of Iran}}\n",
      "| term_start1   = 11 February 1979\n",
      "| term_end1     = 3 December 1979\n",
      "| primeminister1= [[Mehdi Bazargan]]\n",
      "| predecessor1  = [[Mohammad Reza Pahlavi]]&lt;br&gt;{{small|as [[Shah of Iran]]}}\n",
      "| successor1    = himself&lt;br&gt;{{small|as [[Supreme Leader of Iran]]}}\n",
      "| website       = [http://www.imam-khomeini.ir www.imam-khomeini.ir]\n",
      "| signature     = Ruhollah Khomeini signature.png\n",
      "| module        =\n",
      "    {{Infobox religious biography\n",
      "    | title = [[Grand Ayatollah]]\n",
      "    | embed             = yes\n",
      "    | religion         = [[Islam]]\n",
      "    | denomination      = [[Twelver]] [[Shia Islam|Shīʿā]]&lt;ref&gt;{{cite book|editor1-last=Bowering|editor1-first=Gerhard|editor2-last=Crone|editor2-first=Patricia|editor3-last=Kadi|editor3-first=Wadad|editor4-last=Stewart|editor4-first=Devin J.|editor5-last=Zaman|editor5-first=Muhammad Qasim|editor6-last=Mirza|editor6-first=Mahan|title=The Princeton Encyclopedia of Islamic Political Thought|date=28 November 2012|publisher=Princeton University Press|isbn=9781400838554|page=518}}&lt;/ref&gt;&lt;ref&gt;{{cite book|author1=Malise Ruthven|title=Fundamentalism: The Search For Meaning: The Search For Meaning|date=8 April 2004|publisher=Oxford University Press|isbn=9780191517389|page=29|edition=reprint}}&lt;/ref&gt;&lt;ref&gt;{{cite book|editor1-last=Jebnoun|editor1-first=Noureddine|editor2-last=Kia|editor2-first=Mehrdad|editor3-last=Kirk|editor3-first=Mimi|title=Modern Middle East Authoritarianism: Roots, Ramifications, and Crisis|date=31 July 2013|publisher=Routledge|isbn=9781135007317|page=168}}&lt;/ref&gt;\n",
      "    | jurisprudence     = [[Ja'fari jurisprudence|Ja'fari]]\n",
      "    | creed             = [[Usuli]]\n",
      "    | main_interests    =\n",
      "    | notable_ideas     = [[Political thought and legacy of Ruhollah Khomeini#Governance|New advance]] of [[Guardianship of the Islamic Jurist|Guardianship]]\n",
      "    | notable_works     = [[Forty Hadith of Ruhullah Khomeini|Forty Hadith]], [[Kashf al-Asrar]], [[Tahrir al-Wasilah]], [[Islamic Government: Governance of the Jurist|Islamic Government]]\n",
      "    | alma_mater        = [[Qom Seminary]]\n",
      "    | teachers          = [[Ayatollah Seyyed Hossein Borujerdi]]\n",
      "    | students          =\n",
      "    | influences        =\n",
      "    | influenced        =\n",
      "    }}\n",
      "}}\n",
      "{{Infobox manner of address\n",
      "| name        = Ruhollah Khomeini\n",
      "| reference   = Eminent [[marja'|marji' al-taqlid]], [[Grand Ayatollah|Ayatullah al-Uzma]] Imam Khumayni&lt;ref&gt;{{Citation| title    =Constitution of the Islamic Republic of Iran, Chapter 1, Article 1| publisher = [[Constitution of the Islamic Republic of Iran]]| url =https://en.wikisource.org/wiki/Constitution_of_the_Islamic_Republic_of_Iran}}&lt;/ref&gt;\n",
      "| spoken      = Imam Khomeini&lt;ref name=&quot;a&quot;/&gt;\n",
      "| religious   = [[Grand Ayatollah|Ayatullah al-Uzma]] Ruhollah Khomeini&lt;ref name=&quot;a&quot;/&gt;\n",
      "| posthumous  =\n",
      "| alternative =\n",
      "}}\n",
      "\n",
      "'''[[Sayyid]] Ruhollah [[Al-Musawi|Mūsavi]] Khomeini''' ({{lang-fa|سید روح‌الله موسوی خمینی}} {{IPA-fa|ruːhoɫˈɫɑːhe χomeiˈniː||Fa-ir-khomeini_(1).ogg}}; 24 September 1902 – 3&amp;nbsp;June 1989), known in the [[Western world]] as '''[[Ayatollah]] Khomeini''',&lt;ref&gt;{{cite web|title=Ayatollah Khomeini (1900–1989)|url=http://www.bbc.co.uk/history/historic_figures/khomeini_ayatollah.shtml|publisher=BBC – History|accessdate=20 June 2013}}&lt;/ref&gt; was an Iranian politician and ''[[Marja'|marja]]''. He was the founder of the [[Islamic republic of Iran|Islamic Republic of Iran]] and the leader of the 1979 [[Iranian Revolution]] that saw the overthrow of the last [[Shah]] of Iran, [[Mohammad Reza Pahlavi]], and the end of [[Persian Empire|2,500 years of Persian monarchy]]. Following the revolution, Khomeini became the country's [[Supreme Leader of Iran|Supreme Leader]], a position created in the [[Constitution of the Islamic Republic of Iran|constitution]] of the Islamic Republic as the highest-ranking political and religious authority of the nation, which he held until his death. He was succeeded by [[Ali Khamenei]] on 4 June 1989.\n",
      "\n",
      "Khomeini was born in 1902 in [[Khomeyn]], in what is now Iran's [[Markazi Province]]. His father was murdered in 1903 when Khomeini was five months old.&lt;ref name=&quot;Reich&quot;&gt;{{cite book|last=Reich|first=Bernard|url=https://books.google.co.uk/books?id=3D5FulN2WqQC&amp;pg=PA310|title=Political Leaders of the Contemporary Middle East and North Africa: A Biographical Dictionary|location=Westport, CN|publisher=Greenwood Press|year=1990|page=310}}&lt;/ref&gt; He began studying the [[Quran]] and the [[Persian language]] from a young age and was assisted in his religious studies by his relatives, including his mother's cousin and older brother.\n",
      "\n"
     ]
    }
   ],
   "source": [
    "print(''.join(lines[3976250:3976325]))"
   ]
  },
  {
   "cell_type": "code",
   "execution_count": 195,
   "metadata": {},
   "outputs": [
    {
     "data": {
      "text/plain": [
       "1631"
      ]
     },
     "execution_count": 195,
     "metadata": {},
     "output_type": "execute_result"
    }
   ],
   "source": [
    "len(bios)"
   ]
  },
  {
   "cell_type": "code",
   "execution_count": 210,
   "metadata": {},
   "outputs": [
    {
     "data": {
      "text/plain": [
       "1631"
      ]
     },
     "execution_count": 210,
     "metadata": {},
     "output_type": "execute_result"
    }
   ],
   "source": [
    "len(infoboxes)"
   ]
  },
  {
   "cell_type": "code",
   "execution_count": 166,
   "metadata": {},
   "outputs": [],
   "source": [
    "import html"
   ]
  },
  {
   "cell_type": "code",
   "execution_count": 170,
   "metadata": {},
   "outputs": [],
   "source": [
    "s = 'Alberto de Acha &lt;br&gt;&lt;small&gt;(maternal grandfather)&lt;/small&gt;&lt;ref name=&quot;Arnaz&quot;&gt;Arnaz, Desi. ''A Book''. New York: William Morrow, 1976. {{ISBN|0688003427}}&lt;/ref&gt;'"
   ]
  },
  {
   "cell_type": "code",
   "execution_count": 171,
   "metadata": {},
   "outputs": [
    {
     "data": {
      "text/plain": [
       "'Alberto de Acha <br><small>(maternal grandfather)</small><ref name=\"Arnaz\">Arnaz, Desi. A Book. New York: William Morrow, 1976. {{ISBN|0688003427}}</ref>'"
      ]
     },
     "execution_count": 171,
     "metadata": {},
     "output_type": "execute_result"
    }
   ],
   "source": [
    "html.unescape(s)"
   ]
  },
  {
   "cell_type": "code",
   "execution_count": null,
   "metadata": {},
   "outputs": [],
   "source": []
  },
  {
   "cell_type": "code",
   "execution_count": null,
   "metadata": {},
   "outputs": [],
   "source": []
  },
  {
   "cell_type": "code",
   "execution_count": 14,
   "metadata": {},
   "outputs": [],
   "source": [
    "del lines"
   ]
  },
  {
   "cell_type": "code",
   "execution_count": 17,
   "metadata": {},
   "outputs": [
    {
     "name": "stdout",
     "output_type": "stream",
     "text": [
      "Wall time: 75.8 ms\n"
     ]
    }
   ],
   "source": [
    "%%time\n",
    "\n",
    "cleaned_bios = []\n",
    "for b in bios:\n",
    "    kvs = ''.join(b).split('\\n|')\n",
    "    kvs[0] = kvs[0].replace('{{', 'infobox_type = ')\n",
    "    kvs[-1] = kvs[-1].replace('}}', '')\n",
    "    cleaned_kvs = [kv.strip() for kv in kvs]\n",
    "    cleaned_bios.append(cleaned_kvs)"
   ]
  },
  {
   "cell_type": "code",
   "execution_count": 42,
   "metadata": {},
   "outputs": [],
   "source": [
    "_ = []\n",
    "for i, bio in enumerate(cleaned_bios):\n",
    "    for item in bio:\n",
    "        if \"Russell's theory of causal lines&lt;ref&gt;{{cite book|url\" in item:\n",
    "            _ = bio"
   ]
  },
  {
   "cell_type": "code",
   "execution_count": 43,
   "metadata": {},
   "outputs": [
    {
     "data": {
      "text/plain": [
       "['infobox_type = Infobox philosopher',\n",
       " 'name             = &lt;small&gt;[[The Right Honourable]]&lt;/small&gt;&lt;br /&gt;The Earl Russell',\n",
       " 'honorific_suffix = {{post-nominals|country=GBR|OM|FRS|size=100%}}',\n",
       " 'image            = Bertrand Russell transparent bg.png',\n",
       " 'birth_name       = Bertrand Arthur William Russell',\n",
       " 'birth_date       = {{birth date|df=yes|1872|5|18}}',\n",
       " \"birth_place      = [[Trellech]], [[Monmouthshire (historic)|Monmouthshire]], United Kingdom{{efn|Monmouthshire's Welsh status was  ambiguous at this time, and was considered by some to be part of England. See [[Monmouthshire (historic)#Ambiguity over status]].}}&lt;!--Whether Monmouthshire was in Wales in 1872 is debatable. Please leave this alone; this page is not the place for this debate--&gt;\",\n",
       " 'death_date       = {{Death date and age|df=yes|1970|2|2|1872|5|18}}',\n",
       " 'death_place      = [[Penrhyndeudraeth]], [[Caernarfonshire]], Wales, United Kingdom',\n",
       " 'nationality      = British &lt;!-- This is the consensus. Please do not change this without first reading the corresponding debate on the talk page and reaching the necessary consensus for making any change. The United Kingdom of Great Britain and Northern Ireland is made up of four constituent countries: England, Northern Ireland, Scotland and Wales. These four countries are an equal union, sharing a common British citizenship. In other words, its citizens are British.--&gt;',\n",
       " 'spouse           = {{unbulleted list| {{marriage|[[Alys Pearsall Smith]]|1894|1921|end=div}}| {{marriage|[[Dora Russell|Dora Black]]|1921|1935|end=div}}| {{marriage|[[Patricia Russell, Countess Russell|Patricia Spence]]|1936|1952|end=div}}&lt;ref&gt;{{cite book|url=https://plato.stanford.edu/archives/win2015/entries/russell/|title=Bertrand Russell – The Stanford Encyclopedia of Philosophy|first=Andrew David|last=Irvine|editor-first=Edward N.|editor-last=Zalta|date=1 January 2015|publisher=Metaphysics Research Lab, Stanford University|via=Stanford Encyclopedia of Philosophy}}&lt;/ref&gt;| {{marriage|[[Edith Finch Russell|Edith Finch]]|1952}}}}',\n",
       " 'education        = [[Trinity College, Cambridge]] (B.A., 1893)',\n",
       " 'awards           = {{unbulleted list| [[De Morgan Medal]] (1932)| [[Sylvester Medal]] (1934)| [[Nobel Prize in Literature]] (1950)| [[Kalinga Prize]] (1957)| [[Jerusalem Prize]] (1963)}}',\n",
       " 'era              = [[20th-century philosophy]]',\n",
       " 'region           = [[Western philosophy]]',\n",
       " \"school_tradition = {{unbulleted list| [[Analytic philosophy]]| [[Linguistic turn]]| [[Foundationalism]]&lt;ref&gt;Carlo Cellucci, ''Rethinking Knowledge: The Heuristic View'', Springer, 2017, p. 32.&lt;/ref&gt;| [[Logicism]]| [[Predicativism]]| [[Indirect realism]]&lt;ref&gt;[https://plato.stanford.edu/entries/perception-episprob/ The Problem of Perception (Stanford Encyclopedia of Philosophy)]: &quot;Paraphrasing David Hume (1739...; see also Locke 1690, Berkeley 1710, Russell 1912): nothing is ever directly present to the mind in perception except perceptual appearances.&quot;&lt;/ref&gt;| [[Correspondence theory of truth]]&lt;ref&gt;{{cite book|url=https://plato.stanford.edu/archives/fall2016/entriesruth-correspondence/|title=The Stanford Encyclopedia of Philosophy|first=Marian|last=David|editor-first=Edward N.|editor-last=Zalta|date=14 May 2019|publisher=Metaphysics Research Lab, Stanford University|accessdate=14 May 2019|via=Stanford Encyclopedia of Philosophy}}&lt;/ref&gt;| [[Utilitarianism]]}}\",\n",
       " 'institutions = [[Trinity College, Cambridge]], [[London School of Economics]]',\n",
       " 'main_interests = {{flatlist|\\n* [[Epistemology]]\\n* [[ethics]]\\n* [[logic]]\\n* [[mathematics]]\\n* [[metaphysics]]\\n* [[history of philosophy]]\\n* [[philosophy of language]]\\n* [[philosophy of logic]]\\n* [[philosophy of mathematics]]\\n* [[philosophy of mind]]\\n* [[philosophy of perception]]\\n* [[philosophy of religion]]\\n* [[philosophy of science]]\\n}}',\n",
       " 'notable_ideas = {{collapsible list',\n",
       " '[[Analytic philosophy]]',\n",
       " '[[Automated reasoning]]',\n",
       " '[[Automated theorem proving]]',\n",
       " '[[Axiom of reducibility]]',\n",
       " '[[Barber paradox]]',\n",
       " '[[Berry paradox]]',\n",
       " '[[Chicken (game)|Chicken]]',\n",
       " '[[Connective (logic)|Connective]]',\n",
       " 'Criticism of the [[coherence theory of truth]]',\n",
       " 'Criticism of the [[doctrine of internal relations]]/[[logical holism]]',\n",
       " '[[Definite description]]',\n",
       " '[[Descriptivist theory of names]]',\n",
       " \"[[Direct reference theory]]&lt;ref&gt;Howard Wettstein, &quot;[[Frege–Russell view|Frege-Russell Semantics?]]&quot;, ''Dialectica'' '''44'''(1–2), 1990, pp. 113–135, esp. 115: &quot;Russell maintains that when one is acquainted with something, say, a present sense datum or oneself, one can refer to it without the mediation of anything like a Fregean sense. One can refer to it, as we might say, ''directly''.&quot;&lt;/ref&gt;\",\n",
       " '[[Double negation]]',\n",
       " \"[[Epistemic structural realism]]&lt;ref&gt;[http://plato.stanford.edu/entries/structural-realism/#Rel &quot;Structural Realism&quot;]: entry by James Ladyman in the ''[[Stanford Encyclopedia of Philosophy]]''&lt;/ref&gt;\",\n",
       " '[[Existential fallacy]]',\n",
       " '[[Failure of reference]]',\n",
       " '[[Knowledge by acquaintance]] and [[knowledge by description]]',\n",
       " '[[Logical atomism]]',\n",
       " '[[Logical form]]',\n",
       " '[[Relation (logic)|Logical relation]]',\n",
       " '[[Mathematical beauty]]',\n",
       " '[[Mathematical logic]]',\n",
       " '[[Meaning (philosophy of language)|Meaning]]',\n",
       " '[[Metamathematics]]',\n",
       " '[[Philosophical logic]]',\n",
       " '[[Predicativism]]',\n",
       " '[[Propositional analysis]]',\n",
       " '[[Propositional calculus]]',\n",
       " '[[Naive set theory]]',\n",
       " '[[Neutral monism]]',\n",
       " '[[Paradoxes of set theory]]',\n",
       " '[[Peano–Russell notation]]',\n",
       " '[[Propositional formula]]',\n",
       " '[[Self-refuting idea]]',\n",
       " '[[Quantification (logic)|Quantification]]',\n",
       " \"[[Round square copula]]&lt;br&gt;[[Russell's conjugation]]\",\n",
       " '[[Russell-style universes]]',\n",
       " '[[Russellian change]]',\n",
       " \"[[Russell's paradox]]\",\n",
       " '[[Russellian propositions]]',\n",
       " \"[[Russell's teapot]]\",\n",
       " \"Russell's theory of causal lines&lt;ref&gt;{{cite book|url=https://plato.stanford.edu/entries/causation-process/|title=Causal Processes – The Stanford Encyclopedia of Philosophy|first=Phil|last=Dowe|editor-first=Edward N.|editor-last=Zalta|date=10 September 2007|publisher=Metaphysics Research Lab, Stanford University|via=Stanford Encyclopedia of Philosophy}}&lt;/ref&gt;\",\n",
       " '[[Set-theoretic definition of natural numbers]]',\n",
       " '[[Singleton (mathematics)|Singleton]]',\n",
       " '[[Theory of descriptions]]',\n",
       " '[[Type theory]]/[[ramified type theory]]',\n",
       " '[[Tensor product of graphs]]',\n",
       " '[[Unity of the proposition]]',\n",
       " 'title={{nbsp}}\\n}}',\n",
       " \"influences = {{flatlist|\\n* [[Euclid]]\\n* [[John Stuart Mill|Mill]]\\n* [[Giuseppe Peano|Peano]]\\n* [[George Boole|Boole]]&lt;ref&gt;{{cite book|title=The Development of Bertrand Russell's Philosophy, Volume 11|year=2002|publisher=Psychology Press|isbn=978-0-415-29545-1|pages=113–114|author=Ronald Jager}}&lt;/ref&gt;\\n* [[Augustus De Morgan|De Morgan]]&lt;ref&gt;{{cite book|title=The Cambridge Companion to Bertrand Russell|year=2003|publisher=Cambridge University Press|isbn=978-0-521-63634-6|page=85|editor=Nicholas Griffin}}&lt;/ref&gt;\\n* [[Gottlob Frege|Frege]]\\n* [[Georg Cantor|Cantor]]\\n* [[George Santayana|Santayana]]\\n* [[Alexius Meinong|Meinong]]\\n* [[Baruch Spinoza|Spinoza]]\\n* [[William James|James]]\\n* [[Ernst Mach|Mach]]&lt;ref&gt;{{cite book|title=Bertrand Russell Memorial Volume|year=2013|publisher=Routledge|isbn=978-1-317-83302-4|author=Roberts, George W.|page=311}}&lt;/ref&gt;\\n* [[David Hume|Hume]]&lt;ref&gt;{{cite book|title=Historical Dictionary of Bertrand Russell's Philosophy|year=2009|publisher=Scarecrow Press|isbn=978-0-8108-6292-0|page=94|author1=Rosalind Carey|author2=John Ongley }}&lt;/ref&gt;\\n* [[Gottfried Wilhelm Leibniz|Leibniz]]\\n* [[Ludwig Wittgenstein|Wittgenstein]]\\n* [[Alfred North Whitehead|Whitehead]]\\n* [[G.&amp;nbsp;E. Moore|Moore]]\\n* [[George Stout|Stout]]\\n* [[James Ward (psychologist)|Ward]]&lt;ref&gt;{{cite book|url=https://plato.stanford.edu/archives/fall2017/entries/james-ward/|title=The Stanford Encyclopedia of Philosophy|first=Pierfrancesco|last=Basile|editor-first=Edward N.|editor-last=Zalta|date=14 May 2019|publisher=Metaphysics Research Lab, Stanford University|accessdate=14 May 2019|via=Stanford Encyclopedia of Philosophy}}&lt;/ref&gt;\\n* [[Henry Sidgwick|Sidgwick]]&lt;ref&gt;Schultz, Bart. [http://plato.stanford.edu/entries/sidgwick/ &quot;Henry Sidgwick&quot;]. ''[[Stanford Encyclopedia of Philosophy]]''. 2015.&lt;/ref&gt;\\n* [[Percy Bysshe Shelley|Shelley]]\\n}}\",\n",
       " \"influenced = {{flatlist|\\n* [[Ludwig Wittgenstein]]\\n* [[A.&amp;nbsp;J. Ayer]]\\n* [[Rudolf Carnap]]&lt;ref&gt;{{cite book|title=Language, Truth and Knowledge: Contributions to the Philosophy of [[Rudolf Carnap]]|year=2003|publisher=Springer|isbn=978-1-4020-1206-8|page=2|author=Ilkka Niiniluoto|editor=Thomas Bonk}}&lt;/ref&gt;\\n* [[John von Neumann]]&lt;ref&gt;{{cite book|title=CONPAR 1986|year=1986|publisher=Springer|isbn=978-3-540-16811-9|page=15|author1=Wolfgang Händler|author-link1=Wolfgang Händler|author2=Dieter Haupt|author3=Rolf Jelitsch|author4=Wilfried Juling|author5=Otto Lange }}&lt;/ref&gt;\\n* [[Kurt Gödel]]&lt;ref&gt;{{cite book|title=Reflections on Kurt Gödel|year=1990|publisher=MIT Press|isbn=9780262730877|page=305|author=Hao Wang}}&lt;/ref&gt;\\n* [[Karl Popper]]&lt;ref&gt;{{cite book|title=Karl Popper|year=2013|publisher=C. Black|isbn=978-1-62356-733-0|author=Phil Parvin}}&lt;/ref&gt;\\n* [[W.&amp;nbsp;V. Quine]]&lt;ref&gt;{{cite book|title=The Cambridge Companion to Quine|year=2004|publisher=Cambridge University Press|isbn=9780521639491|page=2|editor=Roger F. Gibson}}&lt;/ref&gt;\\n* [[Noam Chomsky]]&lt;ref&gt;{{cite book|title=Noam Chomsky: A Life of Dissent|year=1998|publisher=MIT Press|isbn=978-0-262-52255-7|page=32|author=Robert F. Barsky}}&lt;/ref&gt;\\n* [[Hilary Putnam]]&lt;ref&gt;{{cite book|title=French Theory: How Foucault, Derrida, Deleuze, &amp; Co. Transformed the Intellectual Life of the United States|year=2008|publisher=University of Minnesota Press|isbn=978-0-8166-4732-3|page=97|author=François Cusset}}&lt;/ref&gt;\\n* [[Saul Kripke]]&lt;ref&gt;{{cite book|title=Saul Kripke|year=2011|publisher=Cambridge University Press|isbn=978-1-139-50066-1|editor=Alan Berger}}&lt;/ref&gt;\\n* [[Moritz Schlick]]&lt;ref&gt;{{cite book|title=General Philosophy of Science: Focal Issues: Focal Issues|year=2007|publisher=Elsevier|isbn=978-0-08-054854-8|page=432|author1=Dov M. Gabbay|author2=Paul Thagard|author3=John Woods|author4=Theo A.&amp;nbsp;F. Kuipers|chapter=The Logical Approach of the Vienna Circle and their Followers from the 1920s to the 1950s}}&lt;/ref&gt;\\n* [[Vienna Circle]]&lt;ref&gt;{{cite book|title=Husserl's Crisis of the European Sciences and Transcendental Phenomenology: An Introduction|year=2012|publisher=Cambridge University Press|isbn=9780521895361|page=204|author=Dermot Moran}}&lt;/ref&gt;\\n* [[J.&amp;nbsp;L. Austin]]\\n* [[G.&amp;nbsp;H. Hardy]]&lt;ref&gt;{{cite web|title=Russell and G.H. Hardy: A study of their Relationship|url=http://digitalcommons.mcmaster.ca/cgi/viewcontent.cgi?article=1352&amp;context=russelljournal|publisher=McMaster University Library Press|accessdate=3 January 2014|author=Grattan-Guinness}}&lt;/ref&gt;\\n* [[Alfred Tarski]]&lt;ref&gt;{{cite book|title=Alfred Tarski: Philosophy of Language and Logic|year=2012|publisher=Palgrave Macmillan|isbn=978-0-230-36722-7|author=Douglas Patterson}}&lt;/ref&gt;\\n* [[Norbert Wiener]]&lt;ref&gt;{{cite book|title=Historical Dictionary of Bertrand Russell's Philosophy|year=2009|publisher=Scarecrow Press|isbn=978-0-8108-6292-0|pages=15–16|author1=Rosalind Carey|author2=John Ongley }}&lt;/ref&gt;\\n* [[Robert Oppenheimer]]&lt;ref&gt;{{cite book|title=Robert Oppenheimer: A Life Inside the Center|year=2013|publisher=Random House|isbn=978-0-385-50413-3|author=Ray Monk}}&lt;/ref&gt;\\n* [[Leon Chwistek]]&lt;ref&gt;{{cite book|title=Alfred Tarski: Life and Logic|year=2004|publisher=Cambridge University Press|isbn=978-0-521-80240-6|page=67|author1=Anita Burdman Feferman|author2=Solomon Feferman }}&lt;/ref&gt;\\n* [[Alan Turing]]&lt;ref&gt;{{cite book|title=[[Alan Turing: The Enigma]]|year=2012|publisher=Princeton University Press|isbn=978-0-691-15564-7|page=81|author=Andrew Hodges| authorlink=Andrew Hodges}}&lt;/ref&gt;\\n* [[Jacob Bronowski]]&lt;ref&gt;{{cite book|title=The Origins of Knowledge and Imagination|year=2008|publisher=Yale University Press|isbn=978-0-300-15718-5|author=Jacob Bronowski}}&lt;/ref&gt;\\n* [[Frank P. Ramsey]]&lt;ref&gt;{{cite book|title=Russell vs. Meinong: The Legacy of &quot;On Denoting&quot;|year=2008|publisher=Taylor &amp; Francis|isbn=978-0-203-88802-5|page=4|editor1=Nicholas Griffin|editor2=Dale Jacquette }}&lt;/ref&gt;\\n* [[Jawaharlal Nehru]]&lt;ref&gt;{{cite book|title=Jawaharlal Nehru, a Biography|year=1993|publisher=Allied Publishers|isbn=978-81-7023-369-5|page=46|author=Sankar Ghose|chapter=V: Europe Revisited}}&lt;/ref&gt;\\n* [[Tariq Ali]]&lt;ref&gt;{{cite web|title=Street-Fighting Years: An Autobiography of the Sixties|url=http://tariqali.org/archives/250|publisher=Verso|page=2005}}&lt;/ref&gt;\\n* [[Michael Albert]]&lt;ref&gt;{{cite book|title=Remembering Tomorrow: From SDS to Life After Capitalism: A Memoir|year=2011|publisher=Seven Stories Press|isbn=978-1-60980-001-7|author=Michael Albert}}&lt;/ref&gt;\\n* [[Che Guevara]]&lt;ref&gt;{{cite book|title=Che Guevara: A Revolutionary Life|year=1997|publisher=Grove Press|isbn=978-0-8021-9725-2|page=38|author=Jon Lee Anderson}}&lt;/ref&gt;\\n* [[Bernard Williams]]\\n* [[Donald Davidson (philosopher)|Donald Davidson]]&lt;ref&gt;{{cite book|title=Donald Davidson|year=2004|publisher=McGill-Queen's Press&amp;nbsp;– MQUP|isbn=978-0-7735-2781-2|page=1|author=Marc Joseph|chapter=1: Introduction: Davidson's Philosophical Project}}&lt;/ref&gt;\\n* [[Thomas Kuhn]]&lt;ref&gt;{{cite book|title=Thomas Kuhn's Revolution: An Historical Philosophy of Science|year=2005|publisher=Continuum|isbn=978-1-84714-194-1|page=5|author=James A. Marcum|chapter=1: Who is Thomas Kuhn?}}&lt;/ref&gt;\\n* [[Nathan Salmon]]&lt;ref&gt;{{cite book|title=Content, Cognition, and Communication : Philosophical Papers II: Philosophical Papers II|year=2007|publisher=Oxford University Press|isbn=978-0-19-153610-6|page=xi|author=Nathan Salmon|chapter=Introduction to Volume II}}&lt;/ref&gt;\\n* [[Christopher Hitchens]]&lt;ref&gt;{{cite book|title=The Portable Atheist: Essential Readings for the Nonbeliever|year=2007|publisher=Da Capo Press|isbn=978-0-306-81608-6|editor=Christopher Hitchens}}&lt;/ref&gt;\\n* [[Richard Dawkins]]&lt;ref&gt;{{cite book|title=Russell|year=2010|publisher=Routledge|isbn=978-0-203-84649-0|page=444|author=Gregory Landini}}&lt;/ref&gt;\\n* [[Carl Sagan]]&lt;ref&gt;{{cite book|title=The Varieties of Scientific Experience: A Personal View of the Search for God|year=2006|publisher=Penguin|isbn=978-1-59420-107-3|author=Carl Sagan|editor=Ann Druyan}}&lt;/ref&gt;\\n* [[Isaiah Berlin]]&lt;ref&gt;{{cite book|title=Isaiah Berlin: Liberty, Pluralism and Liberalism|year=2004|publisher=Polity|isbn=978-0-7456-2477-8|page=15|author=George Crowder}}&lt;/ref&gt;\\n* [[Albert Ellis]]&lt;ref&gt;{{cite book|title=Theories of Counseling and Psychotherapy: An Integrative Approach: An Integrative Approach|year=2011|publisher=SAGE|isbn=978-1-4129-1004-0|page=142|author=Elsie Jones-Smith}}&lt;/ref&gt;\\n* [[Martin Gardner]]&lt;ref&gt;{{cite web|title=Interview with Martin Gardner|url=http://www.ams.org/notices/200506/fea-gardner.pdf|publisher=American Mathematical Society|accessdate=5 January 2014|page=603|date=June–July 2005}}&lt;/ref&gt;\\n* [[Daniel Dennett]]&lt;ref&gt;{{cite book|title=C S Lewis Vs The New Atheists|year=2013|publisher=Authentic Media|isbn=978-1-78078-093-1|author=Peter S. Williams}}&lt;/ref&gt;\\n* [[Buckminster Fuller]]&lt;ref&gt;{{cite book|title=Becoming Bucky Fuller|year=2009|publisher=MIT Press|isbn=978-0-262-12302-0|page=72|author1=Loretta Lorance|author2=Richard Buckminster Fuller }}&lt;/ref&gt;\\n* [[Pervez Hoodbhoy]]&lt;ref&gt;{{cite web|title=How Difficult it is to Help People Change their Thinking – Interview with Dr. Pervez Hoodbhoy|url=http://old.drsohail.com/Articals/Pervezhoodbhoy.htm|author=K. Sohail|date=February 2000|archive-url=https://archive.is/20120716211940/http://old.drsohail.com/Articals/Pervezhoodbhoy.htm|archive-date=16 July 2012|accessdate=31 December 2013}}&lt;/ref&gt;\\n* [[John Maynard Keynes]]&lt;ref&gt;{{cite book|title=The Return to Keynes|year=2010|publisher=Harvard University Press|isbn=978-0-674-05354-0|page=146|editor1=Bradley W. Bateman|editor2=Toshiaki Hirai|editor3=Maria Cristina Marcuzzo }}&lt;/ref&gt;\\n* [[Isaac Asimov]]&lt;ref&gt;{{cite book|title=I. Asimov: A Memoir|year=2009|publisher=Random House|isbn=978-0-307-57353-7|author=Isaac Asimov}}&lt;/ref&gt;\\n* [[Paul Kurtz]]&lt;ref&gt;{{cite book|title=Toward a New Enlightenment: The Philosophy of Paul Kurtz|year=1994|publisher=Transaction Publishers|isbn=978-1-4128-4017-0|page=233|author=Paul Kurtz|editor1=Vern L. Bullough|editor2=Tim Madigan }}&lt;/ref&gt;\\n* [[Aleksandr Solzhenitsyn]]\\n* [[James Joyce]]&lt;ref&gt;{{cite book|title=Finding Joy in Joyce: A Readers Guide to Ulysses|year=2000|publisher=Universal-Publishers|isbn=978-1-58112-762-1|page=580|author=John P. Anderson}}&lt;/ref&gt;\\n* [[Kurt Vonnegut]]&lt;ref&gt;{{cite book|title=Reading, Learning, Teaching Kurt Vonnegut|year=2006|publisher=Peter Lang|isbn=978-0-8204-6337-7|page=46|author=Paul Lee Thomas}}&lt;/ref&gt;\\n* [[Ray Kurzweil]]&lt;ref&gt;{{cite book|title=Electronic Monuments|year=2005|publisher=U of Minnesota Press|isbn=978-0-8166-4583-1|page=180|author=Gregory L. Ulmer}}&lt;/ref&gt;\\n* [[Marvin Minsky]]&lt;ref&gt;{{cite book|title=Number-Crunching: Taming Unruly Computational Problems from Mathematical Physics to Science Fiction|year=2011|publisher=Princeton University Press|isbn=978-1-4008-3958-2|page=332|author=Paul J. Nahin|authorlink=Paul J. Nahin|chapter=9}}&lt;/ref&gt;\\n* [[Herbert A. Simon]]&lt;ref&gt;{{cite book|title=Models of a Man: Essays in Memory of Herbert A. Simon|year=2004|publisher=MIT Press|isbn=978-0-262-01208-9|page=21|editor1=Mie Augier|editor2=Herbert Alex|editor3=er Simon|editor4=James G. March }}&lt;/ref&gt;\\n* [[B.&amp;nbsp;F. Skinner]]&lt;ref&gt;{{cite book|title=The Psychology of B F Skinner|year=2001|publisher=SAGE|isbn=978-0-7619-1759-5|page=19|author1=William O'Donohue|author2=Kyle E. Ferguson }}&lt;/ref&gt;\\n* [[John Searle]]&lt;ref&gt;{{cite book|title=Conversations with John Searle|year=2001|publisher=LibrosEnRed.com|isbn=978-987-1022-11-3|page=28|author=Gustavo Faigenbaum}}&lt;/ref&gt;\\n* [[Andrei Sakharov]]&lt;ref&gt;{{cite book|title=Without Force Or Lies: Voices from the Revolution of Central Europe in 1989–90|year=1990|publisher=Mercury House|isbn=978-0-916515-92-8|page=37|editor1=William M. Brinton|editor2=Alan Rinzler }}&lt;/ref&gt;\\n* [[Stephen Hawking]]&lt;ref&gt;{{cite book|title=God, Time and Stephen Hawking|year=2001|publisher=Kregel Publications|isbn=978-0-8254-6029-6|page=18|author=David Wilkinson}}&lt;/ref&gt;\\n* [[Joseph Rotblat]]&lt;ref&gt;{{cite book|title=Joseph Rotblat: Visionary for Peace|year=2007|publisher=John Wiley &amp; Sons|isbn=978-3-527-61127-0|editor1=Reiner Braun|editor2=Robert Hinde|editor3=David Krieger|editor4=Harold Kroto|editor5=Sally Milne }}&lt;/ref&gt;\\n* [[Edward Said]]&lt;ref&gt;{{cite book|title=Edward Said: The Legacy of a Public Intellectual|year=2007|publisher=Academic Monographs|isbn=978-0-522-85357-5|page=27|editor1=Ned Curthoys|editor2=Debjani Ganguly }}&lt;/ref&gt;\\n* [[Sidney Hook]]\\n* [[Frank Wilczek]]&lt;ref&gt;{{cite web|title=Frank Wilczek - Biographical|url=https://www.nobelprize.org/nobel_prizes/physics/laureates/2004/wilczek-bio.html|publisher=Nobel Media AB 2017|quote=Another thing that shaped my thinking was religious training. I was brought up as a Roman Catholic. I loved the idea that there was a great drama and a grand plan behind existence. Later, under the influence of Bertrand Russell's writings and my increasing awareness of scientific knowledge, I lost faith in conventional religion.}}&lt;/ref&gt;\\n* [[A.&amp;nbsp;C. Grayling]]\\n* [[Colin McGinn]]\\n* [[Txillardegi]]&lt;ref&gt;[[Joxe Azurmendi|Azurmendi, Joxe]] (1999): Txillardegiren saioa: hastapenen bila, ''[[Jakin (magazine)|Jakin]]'', 114: pp. 17–45. {{ISSN|0211-495X}}&lt;/ref&gt;\\n}}\",\n",
       " 'signature = Bertrand Russell signature.svg']"
      ]
     },
     "execution_count": 43,
     "metadata": {},
     "output_type": "execute_result"
    }
   ],
   "source": [
    "_"
   ]
  },
  {
   "cell_type": "code",
   "execution_count": 20,
   "metadata": {},
   "outputs": [
    {
     "data": {
      "text/plain": [
       "False"
      ]
     },
     "execution_count": 20,
     "metadata": {},
     "output_type": "execute_result"
    }
   ],
   "source": [
    "'|'.isalpha()"
   ]
  },
  {
   "cell_type": "code",
   "execution_count": 21,
   "metadata": {},
   "outputs": [
    {
     "data": {
      "text/plain": [
       "1629"
      ]
     },
     "execution_count": 21,
     "metadata": {},
     "output_type": "execute_result"
    }
   ],
   "source": [
    "len(cleaned_bios)"
   ]
  },
  {
   "cell_type": "code",
   "execution_count": 110,
   "metadata": {},
   "outputs": [
    {
     "name": "stdout",
     "output_type": "stream",
     "text": [
      "Wall time: 135 ms\n"
     ]
    }
   ],
   "source": [
    "%%time\n",
    "\n",
    "k = v = ''\n",
    "lst_dic = []\n",
    "for i, bio in enumerate(cleaned_bios):\n",
    "#     if i % 200 == 0:\n",
    "#         print(i)\n",
    "    dic = {}\n",
    "    for item in bio:\n",
    "        kv = item.split('=')\n",
    "        #certainly this can be done with just a simple regular expression, but that will use a lot more memory. I'm using a laptop...\n",
    "        if not item \\\n",
    "        or not item[0].isalpha() \\\n",
    "        or not '=' in item \\\n",
    "        or not kv[0].strip().replace('_', '').replace('-', '').replace(' ', '').isalpha():\n",
    "            v += item\n",
    "            dic[k] = v\n",
    "            continue\n",
    "        k, v = kv[0].strip(), kv[1].strip()\n",
    "        dic[k] = v\n",
    "    lst_dic.append(dic)"
   ]
  },
  {
   "cell_type": "code",
   "execution_count": 111,
   "metadata": {},
   "outputs": [
    {
     "data": {
      "text/plain": [
       "1629"
      ]
     },
     "execution_count": 111,
     "metadata": {},
     "output_type": "execute_result"
    }
   ],
   "source": [
    "len(lst_dic)"
   ]
  },
  {
   "cell_type": "code",
   "execution_count": 112,
   "metadata": {},
   "outputs": [],
   "source": [
    "all_keys = []\n",
    "for dic in lst_dic:\n",
    "    all_keys += list(dic.keys())"
   ]
  },
  {
   "cell_type": "code",
   "execution_count": 113,
   "metadata": {},
   "outputs": [],
   "source": [
    "all_keys_set = set(all_keys)"
   ]
  },
  {
   "cell_type": "code",
   "execution_count": 114,
   "metadata": {},
   "outputs": [
    {
     "data": {
      "text/plain": [
       "['type_species_authority',\n",
       " 'resting_place_coordinates',\n",
       " 'FrenchOpenDoublesresult',\n",
       " 'ru_sevensnationalteam',\n",
       " 'GDP_nominal_per_capita_rank',\n",
       " 'laurenceolivierawards',\n",
       " 'pushpin_label_position',\n",
       " 'afterburning thrust main',\n",
       " 'highestdoublesranking',\n",
       " 'along with the sultan',\n",
       " 'max takeoff weight alt',\n",
       " 'WTAChampionshipsDoublesresult',\n",
       " 'population_density_rank',\n",
       " 'significant_buildings',\n",
       " 'OlympicMixedDoublesresult',\n",
       " 'GDP_nominal_per_capita',\n",
       " 'currentdoublesranking',\n",
       " 'population_census_year',\n",
       " 'identification_symbol_label',\n",
       " 'elimination_half-life',\n",
       " 'AustralianOpenDoublesresult',\n",
       " 'WimbledonDoublesresult',\n",
       " 'GDP_PPP_per_capita_rank',\n",
       " 'goldenraspberryawards',\n",
       " 'identification_symbol',\n",
       " 'FrenchOpenMixedresult',\n",
       " 'grandparent_authority',\n",
       " 'CoachTournamentRecord',\n",
       " 'conventional_long_name',\n",
       " 'author_abbreviation_zoo',\n",
       " 'medaltemplates-expand',\n",
       " 'restingplacecoordinates',\n",
       " 'colonel_of_the_regiment',\n",
       " 'max takeoff weight main',\n",
       " 'population_density_sq_mi',\n",
       " 'never exceed speed main',\n",
       " 'first_flight_aircraft',\n",
       " 'latest release version',\n",
       " 'variants with their own articles',\n",
       " 'OthertournamentsDoubles',\n",
       " 'ru_sevensnationalcomp',\n",
       " 'achievements and awards',\n",
       " 'never exceed speed alt',\n",
       " 'WTAChampionshipsresult',\n",
       " 'OlympicsDoublesresult',\n",
       " 'AustralianOpenMixedresult',\n",
       " 'population_estimate_rank',\n",
       " 'afterburning thrust alt',\n",
       " 'highestsinglesranking',\n",
       " 'ru_sevensnationalyears',\n",
       " 'OthertournamentsMixedDoubles',\n",
       " 'placeofburial_coordinates',\n",
       " 'routes_of_administration',\n",
       " 'author_abbreviation_bot',\n",
       " 'population_estimate_year']"
      ]
     },
     "execution_count": 114,
     "metadata": {},
     "output_type": "execute_result"
    }
   ],
   "source": [
    "[_ for _ in all_keys_set if len(_) > 20]"
   ]
  },
  {
   "cell_type": "code",
   "execution_count": 115,
   "metadata": {},
   "outputs": [],
   "source": [
    "df = pd.DataFrame(lst_dic)"
   ]
  },
  {
   "cell_type": "code",
   "execution_count": 116,
   "metadata": {},
   "outputs": [
    {
     "data": {
      "text/plain": [
       "(1629, 1478)"
      ]
     },
     "execution_count": 116,
     "metadata": {},
     "output_type": "execute_result"
    }
   ],
   "source": [
    "df.shape"
   ]
  },
  {
   "cell_type": "code",
   "execution_count": 117,
   "metadata": {},
   "outputs": [],
   "source": [
    "df_origin = df.copy()"
   ]
  },
  {
   "cell_type": "code",
   "execution_count": 62,
   "metadata": {},
   "outputs": [],
   "source": [
    "df_origin.to_excel('tmp.xlsx', 'data', index=False)"
   ]
  },
  {
   "cell_type": "code",
   "execution_count": 118,
   "metadata": {},
   "outputs": [],
   "source": [
    "null_count = df.isnull().sum()\n",
    "dic_null_count = null_count.to_dict()"
   ]
  },
  {
   "cell_type": "code",
   "execution_count": 119,
   "metadata": {},
   "outputs": [],
   "source": [
    "limit_null_rate = .95\n",
    "limit_null_count = int(df.shape[0] * limit_null_rate)"
   ]
  },
  {
   "cell_type": "code",
   "execution_count": 120,
   "metadata": {},
   "outputs": [
    {
     "data": {
      "text/plain": [
       "1547"
      ]
     },
     "execution_count": 120,
     "metadata": {},
     "output_type": "execute_result"
    }
   ],
   "source": [
    "limit_null_count"
   ]
  },
  {
   "cell_type": "code",
   "execution_count": 121,
   "metadata": {},
   "outputs": [],
   "source": [
    "for k, v in dic_null_count.items():\n",
    "    if v > limit_null_count:\n",
    "        df.drop(k, axis=1, inplace=True)"
   ]
  },
  {
   "cell_type": "code",
   "execution_count": 122,
   "metadata": {},
   "outputs": [
    {
     "data": {
      "text/plain": [
       "(1629, 77)"
      ]
     },
     "execution_count": 122,
     "metadata": {},
     "output_type": "execute_result"
    }
   ],
   "source": [
    "df.shape"
   ]
  },
  {
   "cell_type": "code",
   "execution_count": 123,
   "metadata": {},
   "outputs": [],
   "source": [
    "df.to_excel('tmp1.xlsx', 'data', index=False)"
   ]
  },
  {
   "cell_type": "code",
   "execution_count": 125,
   "metadata": {},
   "outputs": [
    {
     "data": {
      "text/plain": [
       "{{Infobox musical artist|embed                                                                     20\n",
       "{{Infobox military person|embed                                                                    15\n",
       "{{Infobox musical artist| embed                                                                     6\n",
       "{{Infobox musical artist                                                                            6\n",
       "                                                                                                    6\n",
       "{{Infobox scientist| embed                                                                          3\n",
       "{{Infobox philosopher|embed                                                                         3\n",
       "{{Listen                                                                                            3\n",
       "{{Infobox football biography                                                                        2\n",
       "{{Infobox Arabic name|embed                                                                         2\n",
       "{{Infobox scientist                                                                                 2\n",
       "{{Listen|embed                                                                                      2\n",
       "{{Infobox military person                                                                           2\n",
       "{{Infobox military person| embed                                                                    2\n",
       "{{Infobox person|child                                                                              2\n",
       "&lt;center&gt;{{Listen|embed                                                                        1\n",
       "{{Infobox engineering career                                                                        1\n",
       "{{Infobox aviator \\n                      | child                                                   1\n",
       "&lt;!-- Sport --&gt;                                                                                1\n",
       "'''Signature'''\\n[[File:Signature of Scott Joplin.svg|frameless|x30px]]                             1\n",
       "{{Infobox commander                                                                                 1\n",
       "{{Infobox Chinese                                                                                   1\n",
       "&lt;!--Musical career embed infobox--&gt;{{Infobox musical artist                                   1\n",
       "{{Infobox comedian                                                                                  1\n",
       "{{Infobox musical artist\\n | embed                                                                  1\n",
       "{{Infobox musical artist &lt;!-- See Wikipedia:WikiProject_Musicians --&gt;                         1\n",
       "{{Infobox Chinese|child                                                                             1\n",
       "{{collapsed infobox section begin|Ministerial offices                                               1\n",
       "{{Infobox musical artist &lt;!-- See WP:WikiProject Musicians --&gt;|embed                          1\n",
       "{{Infobox person| child                                                                             1\n",
       "{{infobox scientist| embed                                                                          1\n",
       "{{Infobox musical artist\\n                      | embed                                             1\n",
       "{{Infobox astronaut| child                                                                          1\n",
       "{{infobox sports announcer details\\n   | genre                                                      1\n",
       "{{Infobox Korean name|child                                                                         1\n",
       "[[List of compositions by Philip Glass]]                                                            1\n",
       "{{Infobox economist|embed                                                                           1\n",
       "{{Infobox NFL biography                                                                             1\n",
       "{{Infobox writer &lt;!-- for more information see [[:Template:Infobox writer/doc]] --&gt;|embed     1\n",
       "{{collapsed infobox section begin|Diplomatic missions                                               1\n",
       "{{Infobox military person\\n                      | embed                                            1\n",
       "{{infobox military person                                                                           1\n",
       "{{Infobox cricketer                                                                                 1\n",
       "{{Infobox officeholder|embed                                                                        1\n",
       "{{Infobox astronaut|child                                                                           1\n",
       "{{Listen|pos                                                                                        1\n",
       "{{Infobox professional wrestler|child                                                               1\n",
       "{{Infobox writer|embed                                                                              1\n",
       "{{Listen| embed                                                                                     1\n",
       "Name: module, dtype: int64"
      ]
     },
     "execution_count": 125,
     "metadata": {},
     "output_type": "execute_result"
    }
   ],
   "source": [
    "df_origin.module.value_counts()"
   ]
  },
  {
   "cell_type": "code",
   "execution_count": null,
   "metadata": {},
   "outputs": [],
   "source": []
  }
 ],
 "metadata": {
  "kernelspec": {
   "display_name": "Python 3",
   "language": "python",
   "name": "python3"
  },
  "language_info": {
   "codemirror_mode": {
    "name": "ipython",
    "version": 3
   },
   "file_extension": ".py",
   "mimetype": "text/x-python",
   "name": "python",
   "nbconvert_exporter": "python",
   "pygments_lexer": "ipython3",
   "version": "3.7.0"
  }
 },
 "nbformat": 4,
 "nbformat_minor": 2
}
