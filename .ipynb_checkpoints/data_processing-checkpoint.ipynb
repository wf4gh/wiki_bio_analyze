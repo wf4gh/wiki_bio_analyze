{
 "cells": [
  {
   "cell_type": "code",
   "execution_count": 173,
   "metadata": {},
   "outputs": [],
   "source": [
    "import pandas as pd\n",
    "import re"
   ]
  },
  {
   "cell_type": "code",
   "execution_count": 179,
   "metadata": {
    "collapsed": true
   },
   "outputs": [
    {
     "data": {
      "text/plain": [
       "['Infobox Buddha',\n",
       " 'Infobox Christian leader',\n",
       " 'Infobox clergy',\n",
       " 'Infobox Jewish leader',\n",
       " 'Infobox Latter Day Saint biography',\n",
       " 'Infobox rebbe',\n",
       " 'Infobox religious biography',\n",
       " 'Infobox saint',\n",
       " 'Infobox Egyptian dignitary',\n",
       " 'Infobox noble',\n",
       " 'Infobox peer',\n",
       " 'Infobox pharaoh',\n",
       " 'Infobox pretender',\n",
       " 'Infobox royalty',\n",
       " 'Infobox college football player',\n",
       " 'Infobox CFL biography',\n",
       " 'Infobox NFL biography',\n",
       " 'Infobox baseball biography',\n",
       " 'Infobox basketball biography',\n",
       " 'Infobox Champ Car driver',\n",
       " 'Infobox F1 driver',\n",
       " 'Infobox Le Mans driver',\n",
       " 'Infobox Motocross rider',\n",
       " 'Infobox motorcycle rider',\n",
       " 'Infobox NASCAR driver',\n",
       " 'Infobox racing driver',\n",
       " 'Infobox racing driver series section',\n",
       " 'Infobox speedway rider',\n",
       " 'Infobox WRC driver',\n",
       " 'Infobox sportsperson',\n",
       " 'Infobox biathlete',\n",
       " 'Infobox boxer (amateur)',\n",
       " 'Infobox climber',\n",
       " 'Infobox professional bowler',\n",
       " 'Infobox sailor',\n",
       " 'Infobox speed skater',\n",
       " 'Infobox sport wrestler',\n",
       " 'Infobox swimmer',\n",
       " 'Infobox bullfighting career',\n",
       " 'Infobox AFL biography',\n",
       " 'Infobox alpine ski racer',\n",
       " 'Infobox amateur wrestler',\n",
       " 'Infobox badminton player',\n",
       " 'Infobox bandy biography',\n",
       " 'Infobox bodybuilder',\n",
       " 'Infobox boxer',\n",
       " 'Infobox cricketer',\n",
       " 'Infobox curler',\n",
       " 'Infobox cyclist',\n",
       " 'Infobox equestrian',\n",
       " 'Infobox fencer',\n",
       " 'Infobox field hockey player',\n",
       " 'Infobox figure skater',\n",
       " 'Infobox football biography',\n",
       " 'Infobox football official',\n",
       " 'Infobox Gaelic Athletic Association player',\n",
       " 'Infobox golfer',\n",
       " 'Infobox gymnast',\n",
       " 'Infobox handball biography',\n",
       " 'Infobox horseracing personality',\n",
       " 'Infobox ice hockey player',\n",
       " 'Infobox lacrosse player',\n",
       " 'Infobox martial artist',\n",
       " 'Infobox mountaineer',\n",
       " 'Infobox NCAA athlete',\n",
       " 'Infobox netball biography',\n",
       " 'Infobox National Hockey League coach',\n",
       " 'Infobox pelotari',\n",
       " 'Infobox professional wrestler',\n",
       " 'Infobox rugby biography',\n",
       " 'Infobox rugby league biography',\n",
       " 'Infobox skier',\n",
       " 'Infobox sports announcer details',\n",
       " 'Infobox squash player',\n",
       " 'Infobox sumo wrestler',\n",
       " 'Infobox surfer',\n",
       " 'Infobox table tennis player',\n",
       " 'Infobox tennis biography',\n",
       " 'Infobox volleyball biography',\n",
       " 'Infobox person',\n",
       " 'Infobox academic',\n",
       " 'Infobox architect',\n",
       " 'Infobox artist',\n",
       " 'Infobox chef',\n",
       " 'Infobox clergy',\n",
       " 'Infobox classical composer',\n",
       " 'Infobox criminal',\n",
       " 'Infobox dancer',\n",
       " 'Infobox economist',\n",
       " 'Infobox engineer',\n",
       " 'Infobox engineering career',\n",
       " 'Infobox medical details',\n",
       " 'Infobox medical person',\n",
       " 'Infobox model',\n",
       " 'Infobox pageant titleholder',\n",
       " 'Infobox philosopher',\n",
       " 'Infobox pirate',\n",
       " 'Infobox police officer',\n",
       " 'Infobox presenter',\n",
       " 'Infobox scientist',\n",
       " 'Infobox sports announcer',\n",
       " 'Infobox spy',\n",
       " 'Infobox theologian',\n",
       " 'Infobox theological work',\n",
       " 'Infobox astronaut',\n",
       " 'Infobox aviator',\n",
       " 'Infobox chess biography',\n",
       " 'Infobox college coach',\n",
       " 'Infobox comedian',\n",
       " 'Infobox comics creator',\n",
       " 'Infobox darts player',\n",
       " 'Infobox FBI Ten Most Wanted',\n",
       " 'Infobox go player',\n",
       " 'Infobox gunpowder plotter',\n",
       " 'Infobox Magic: The Gathering player',\n",
       " 'Infobox member of the Knesset',\n",
       " 'Infobox military person',\n",
       " 'Infobox musical artist',\n",
       " 'Infobox Nahua officeholder',\n",
       " 'Infobox officeholder',\n",
       " 'Infobox Native American leader',\n",
       " 'Infobox Playboy Playmate',\n",
       " 'Infobox poker player',\n",
       " 'Infobox snooker player',\n",
       " 'Infobox video game player',\n",
       " 'Infobox War on Terror detainee',\n",
       " 'Infobox writer',\n",
       " 'Infobox YouTube personality']"
      ]
     },
     "execution_count": 179,
     "metadata": {},
     "output_type": "execute_result"
    }
   ],
   "source": [
    "df_infobox = pd.read_csv('infobox.csv')\n",
    "all_infobox_types = list(df_infobox.infobox_type)\n",
    "del df_infobox\n",
    "all_infobox_types"
   ]
  },
  {
   "cell_type": "code",
   "execution_count": 175,
   "metadata": {},
   "outputs": [
    {
     "name": "stdout",
     "output_type": "stream",
     "text": [
      "Wall time: 5.09 s\n"
     ]
    }
   ],
   "source": [
    "%%time\n",
    "\n",
    "# with open('test.xml', 'r', encoding='utf-8') as f:\n",
    "with open('enwiki-20190520-pages-articles-multistream1.xml', 'r', encoding='utf-8') as f:\n",
    "    lines = f.readlines()"
   ]
  },
  {
   "cell_type": "code",
   "execution_count": 176,
   "metadata": {
    "scrolled": true
   },
   "outputs": [
    {
     "data": {
      "text/plain": [
       "4597155"
      ]
     },
     "execution_count": 176,
     "metadata": {},
     "output_type": "execute_result"
    }
   ],
   "source": [
    "len(lines)"
   ]
  },
  {
   "cell_type": "code",
   "execution_count": 208,
   "metadata": {},
   "outputs": [],
   "source": [
    "# def get_content_within_paired(s, open_bracket='([{', close_bracket='}])'):\n",
    "    \n",
    "    \n",
    "def extract_infoboxes(lines):\n",
    "    infoboxes = []\n",
    "    infobox = []\n",
    "    bracket_stack = 0\n",
    "    cur_line_is_infobox = False\n",
    "    \n",
    "    for l in lines:\n",
    "        l = l.strip()\n",
    "        if not cur_line_is_infobox and l.strip()[:9] == '{{Infobox' and l[2:].strip() in all_infobox_types:\n",
    "            cur_line_is_infobox = True\n",
    "        if cur_line_is_infobox:\n",
    "            bracket_stack = bracket_stack + len(re.findall('{{', l)) - len(re.findall('}}', l))\n",
    "            infobox.append(l)\n",
    "            if bracket_stack <= 0:\n",
    "                cur_line_is_infobox = False\n",
    "                infoboxes.append(infobox)\n",
    "                infobox = []\n",
    "                bracket_stack = 0\n",
    "    return infoboxes"
   ]
  },
  {
   "cell_type": "code",
   "execution_count": 209,
   "metadata": {},
   "outputs": [
    {
     "name": "stdout",
     "output_type": "stream",
     "text": [
      "Wall time: 2.17 s\n"
     ]
    }
   ],
   "source": [
    "%%time\n",
    "infoboxes = extract_infoboxes(lines)"
   ]
  },
  {
   "cell_type": "code",
   "execution_count": 213,
   "metadata": {},
   "outputs": [],
   "source": [
    "test_line = lines[3976260:3976325]"
   ]
  },
  {
   "cell_type": "code",
   "execution_count": 214,
   "metadata": {},
   "outputs": [],
   "source": [
    "test_ifbs = extract_infoboxes(test_line)"
   ]
  },
  {
   "cell_type": "code",
   "execution_count": 216,
   "metadata": {},
   "outputs": [
    {
     "data": {
      "text/plain": [
       "[['{{Infobox religious biography',\n",
       "  '| title = [[Grand Ayatollah]]',\n",
       "  '| embed             = yes',\n",
       "  '| religion         = [[Islam]]',\n",
       "  '| denomination      = [[Twelver]] [[Shia Islam|Shīʿā]]&lt;ref&gt;{{cite book|editor1-last=Bowering|editor1-first=Gerhard|editor2-last=Crone|editor2-first=Patricia|editor3-last=Kadi|editor3-first=Wadad|editor4-last=Stewart|editor4-first=Devin J.|editor5-last=Zaman|editor5-first=Muhammad Qasim|editor6-last=Mirza|editor6-first=Mahan|title=The Princeton Encyclopedia of Islamic Political Thought|date=28 November 2012|publisher=Princeton University Press|isbn=9781400838554|page=518}}&lt;/ref&gt;&lt;ref&gt;{{cite book|author1=Malise Ruthven|title=Fundamentalism: The Search For Meaning: The Search For Meaning|date=8 April 2004|publisher=Oxford University Press|isbn=9780191517389|page=29|edition=reprint}}&lt;/ref&gt;&lt;ref&gt;{{cite book|editor1-last=Jebnoun|editor1-first=Noureddine|editor2-last=Kia|editor2-first=Mehrdad|editor3-last=Kirk|editor3-first=Mimi|title=Modern Middle East Authoritarianism: Roots, Ramifications, and Crisis|date=31 July 2013|publisher=Routledge|isbn=9781135007317|page=168}}&lt;/ref&gt;',\n",
       "  \"| jurisprudence     = [[Ja'fari jurisprudence|Ja'fari]]\",\n",
       "  '| creed             = [[Usuli]]',\n",
       "  '| main_interests    =',\n",
       "  '| notable_ideas     = [[Political thought and legacy of Ruhollah Khomeini#Governance|New advance]] of [[Guardianship of the Islamic Jurist|Guardianship]]',\n",
       "  '| notable_works     = [[Forty Hadith of Ruhullah Khomeini|Forty Hadith]], [[Kashf al-Asrar]], [[Tahrir al-Wasilah]], [[Islamic Government: Governance of the Jurist|Islamic Government]]',\n",
       "  '| alma_mater        = [[Qom Seminary]]',\n",
       "  '| teachers          = [[Ayatollah Seyyed Hossein Borujerdi]]',\n",
       "  '| students          =',\n",
       "  '| influences        =',\n",
       "  '| influenced        =',\n",
       "  '}}']]"
      ]
     },
     "execution_count": 216,
     "metadata": {},
     "output_type": "execute_result"
    }
   ],
   "source": [
    "test_ifbs"
   ]
  },
  {
   "cell_type": "markdown",
   "metadata": {},
   "source": [
    "# Conditions to handle\n",
    "- 1.\n",
    "\n",
    "```\n",
    "{{Infobox president\n",
    "| name          = Ruhollah Khomeini\n",
    "| native_name   = {{lang|fa|سید روح‌الله موسوی خمینی}}\n",
    "...\n",
    "| signature     = Ruhollah Khomeini signature.png\n",
    "| module        =\n",
    "    {{Infobox religious biography\n",
    "    | title = [[Grand Ayatollah]]\n",
    "    | embed             = yes\n",
    "    | religion         = [[Islam]]\n",
    "...\n",
    "```\n"
   ]
  },
  {
   "cell_type": "code",
   "execution_count": 194,
   "metadata": {},
   "outputs": [
    {
     "name": "stdout",
     "output_type": "stream",
     "text": [
      "Wall time: 2.15 s\n"
     ]
    }
   ],
   "source": [
    "%%time\n",
    "\n",
    "bios = []\n",
    "bio = []\n",
    "\n",
    "bracket_stack = 0\n",
    "cur_line_is_infobox = False\n",
    "for l in lines:\n",
    "    if not curl.strip()[:9] == '{{Infobox' and l.strip()[2:].strip() in all_infobox_types:\n",
    "        cur_line_is_infobox = True\n",
    "    if cur_line_is_infobox:\n",
    "        bracket_stack = bracket_stack + len(re.findall('{{', l)) - len(re.findall('}}', l))\n",
    "        bio.append(l.replace(' |', '|'))\n",
    "        if bracket_stack <= 0:\n",
    "            cur_line_is_infobox = False\n",
    "            bios.append(bio)\n",
    "            bio = []"
   ]
  },
  {
   "cell_type": "code",
   "execution_count": 196,
   "metadata": {},
   "outputs": [
    {
     "name": "stdout",
     "output_type": "stream",
     "text": [
      " {{Infobox writer \n",
      "\n",
      "  {{Infobox musical artist\n",
      "\n",
      "    {{Infobox religious biography\n",
      "\n"
     ]
    }
   ],
   "source": [
    "for l in lines:\n",
    "    if l.strip()[:9] == '{{Infobox' and l.strip()[2:].strip() in all_infobox_types and not l[2:].strip() in all_infobox_types:\n",
    "        print(l)"
   ]
  },
  {
   "cell_type": "code",
   "execution_count": 199,
   "metadata": {},
   "outputs": [
    {
     "name": "stdout",
     "output_type": "stream",
     "text": [
      "3976296     {{Infobox religious biography\n",
      "\n"
     ]
    }
   ],
   "source": [
    "for i, l in enumerate(lines):\n",
    "    if '{{Infobox religious biography' in l and l[:4] == '    ':\n",
    "        print(i, l)"
   ]
  },
  {
   "cell_type": "code",
   "execution_count": 217,
   "metadata": {
    "scrolled": true
   },
   "outputs": [
    {
     "name": "stdout",
     "output_type": "stream",
     "text": [
      "    <revision>\n",
      "      <id>898020855</id>\n",
      "      <parentid>898020756</parentid>\n",
      "      <timestamp>2019-05-20T21:20:23Z</timestamp>\n",
      "      <contributor>\n",
      "        <username>GeneralizationsAreBad</username>\n",
      "        <id>24080262</id>\n",
      "      </contributor>\n",
      "      <comment>Reverted 1 pending edit by [[Special:Contributions/67.226.221.181|67.226.221.181]] to revision 897942996 by HistoryofIran: Wrong place and not clear</comment>\n",
      "      <model>wikitext</model>\n",
      "      <format>text/x-wiki</format>\n",
      "      <text xml:space=\"preserve\">{{pp-pc|small=yes}}\n",
      "{{short description|20th-century Iranian religious leader and politician}}\n",
      "{{Distinguish|Ali Khamenei}}\n",
      "{{Other people|Khomeini|Khomeini (name)}}\n",
      "{{Use dmy dates|date=October 2012}}\n",
      "{{Infobox president\n",
      "| name          = Ruhollah Khomeini\n",
      "| native_name   = {{lang|fa|سید روح‌الله موسوی خمینی}}\n",
      "| honorific-prefix = [[Grand Ayatollah]]\n",
      "| image         = File:Ruhollah Khomeinii.jpg\n",
      "| caption       = \n",
      "| birth_date    = {{birth date|1902|9|24|df=y}}&lt;ref name=&quot;birth1&quot;&gt;{{harvnb|DeFronzo|2007|p=287}}. &quot;born 22 September 1901...&quot;&lt;/ref&gt;&lt;ref&gt;{{cite web|url=http://www.iranchamber.com/history/rkhomeini/ayatollah_khomeini.php |title=History Of Iran Ayatollah Khomeini – Iran Chamber Society |publisher=Iranchamber.com |date= |accessdate=5 January 2013}}&lt;/ref&gt;&lt;ref name=&quot;NYTimes books&quot;&gt;{{Cite news |title=Khomeini Life of the Ayatollah By BAQER MOIN |work=The New York Times|url=https://www.nytimes.com/books/first/m/moin-khomeini.html |accessdate=19 January 2012}}&lt;/ref&gt;&lt;ref name=&quot;Imama Khomeini International Portal&quot;&gt;{{cite web|url=http://www.harammotahar.ir/|title=Imam Khomeini Official Website &amp;#124; پرتال امام خمینی |publisher=harammotahar.ir|date= |accessdate=9 March 2012}}&lt;/ref&gt;&lt;ref&gt;{{harvnb|Karsh|2007|p=220}}. &quot;Born on 22 September 1901&lt;/ref&gt;\n",
      "| birth_place   = [[Khomeyn]], [[Sublime State of Persia|Persia]]\n",
      "| death_date    = {{Death date and age|1989|6|3|1902|9|24|df=y}}\n",
      "| death_place   = [[Tehran]], Iran\n",
      "| resting_place = [[Mausoleum of Ruhollah Khomeini]]\n",
      "| nationality   = [[Iranian peoples|Iranian]]\n",
      "| spouse        = {{marriage|[[Khadijeh Saqafi]]|1929}}\n",
      "| children      = [[Mostafa Khomeini|Mostafa]] &lt;br&gt; [[Zahra Mostafavi Khomeini|Zahra]] &lt;br&gt; Sadiqeh &lt;br&gt; [[Farideh Mostafavi Khomeini|Farideh]] &lt;br&gt; [[Ahmad Khomeini|Ahmad]]\n",
      "| office        = 1st [[Supreme Leader of Iran]]\n",
      "| term_start    = 3 December 1979\n",
      "| term_end      = 3 June 1989\n",
      "| president     = [[Abolhassan Banisadr]]&lt;br&gt;[[Mohammad-Ali Rajai]]&lt;br&gt;[[Ali Khamenei]]\n",
      "| primeminister = Mohammad-Ali Rajai&lt;br&gt;[[Mohammad-Javad Bahonar]]&lt;br&gt;[[Mohammad-Reza Mahdavi Kani|Mohammadreza Mahdavi Kani]]&lt;br&gt;[[Mir-Hossein Mousavi]]\n",
      "| predecessor   = ''office established''\n",
      "| successor     = [[Ali Khamenei]]\n",
      "| office1       = [[List of heads of state of Iran|Leader of the Revolution]]&lt;br&gt;{{small|Head of State of Iran}}\n",
      "| term_start1   = 11 February 1979\n",
      "| term_end1     = 3 December 1979\n",
      "| primeminister1= [[Mehdi Bazargan]]\n",
      "| predecessor1  = [[Mohammad Reza Pahlavi]]&lt;br&gt;{{small|as [[Shah of Iran]]}}\n",
      "| successor1    = himself&lt;br&gt;{{small|as [[Supreme Leader of Iran]]}}\n",
      "| website       = [http://www.imam-khomeini.ir www.imam-khomeini.ir]\n",
      "| signature     = Ruhollah Khomeini signature.png\n",
      "| module        =\n",
      "    {{Infobox religious biography\n",
      "    | title = [[Grand Ayatollah]]\n",
      "    | embed             = yes\n",
      "    | religion         = [[Islam]]\n",
      "    | denomination      = [[Twelver]] [[Shia Islam|Shīʿā]]&lt;ref&gt;{{cite book|editor1-last=Bowering|editor1-first=Gerhard|editor2-last=Crone|editor2-first=Patricia|editor3-last=Kadi|editor3-first=Wadad|editor4-last=Stewart|editor4-first=Devin J.|editor5-last=Zaman|editor5-first=Muhammad Qasim|editor6-last=Mirza|editor6-first=Mahan|title=The Princeton Encyclopedia of Islamic Political Thought|date=28 November 2012|publisher=Princeton University Press|isbn=9781400838554|page=518}}&lt;/ref&gt;&lt;ref&gt;{{cite book|author1=Malise Ruthven|title=Fundamentalism: The Search For Meaning: The Search For Meaning|date=8 April 2004|publisher=Oxford University Press|isbn=9780191517389|page=29|edition=reprint}}&lt;/ref&gt;&lt;ref&gt;{{cite book|editor1-last=Jebnoun|editor1-first=Noureddine|editor2-last=Kia|editor2-first=Mehrdad|editor3-last=Kirk|editor3-first=Mimi|title=Modern Middle East Authoritarianism: Roots, Ramifications, and Crisis|date=31 July 2013|publisher=Routledge|isbn=9781135007317|page=168}}&lt;/ref&gt;\n",
      "    | jurisprudence     = [[Ja'fari jurisprudence|Ja'fari]]\n",
      "    | creed             = [[Usuli]]\n",
      "    | main_interests    =\n",
      "    | notable_ideas     = [[Political thought and legacy of Ruhollah Khomeini#Governance|New advance]] of [[Guardianship of the Islamic Jurist|Guardianship]]\n",
      "    | notable_works     = [[Forty Hadith of Ruhullah Khomeini|Forty Hadith]], [[Kashf al-Asrar]], [[Tahrir al-Wasilah]], [[Islamic Government: Governance of the Jurist|Islamic Government]]\n",
      "    | alma_mater        = [[Qom Seminary]]\n",
      "    | teachers          = [[Ayatollah Seyyed Hossein Borujerdi]]\n",
      "    | students          =\n",
      "    | influences        =\n",
      "    | influenced        =\n",
      "    }}\n",
      "}}\n",
      "{{Infobox manner of address\n",
      "| name        = Ruhollah Khomeini\n",
      "| reference   = Eminent [[marja'|marji' al-taqlid]], [[Grand Ayatollah|Ayatullah al-Uzma]] Imam Khumayni&lt;ref&gt;{{Citation| title    =Constitution of the Islamic Republic of Iran, Chapter 1, Article 1| publisher = [[Constitution of the Islamic Republic of Iran]]| url =https://en.wikisource.org/wiki/Constitution_of_the_Islamic_Republic_of_Iran}}&lt;/ref&gt;\n",
      "| spoken      = Imam Khomeini&lt;ref name=&quot;a&quot;/&gt;\n",
      "| religious   = [[Grand Ayatollah|Ayatullah al-Uzma]] Ruhollah Khomeini&lt;ref name=&quot;a&quot;/&gt;\n",
      "| posthumous  =\n",
      "| alternative =\n",
      "}}\n",
      "\n",
      "'''[[Sayyid]] Ruhollah [[Al-Musawi|Mūsavi]] Khomeini''' ({{lang-fa|سید روح‌الله موسوی خمینی}} {{IPA-fa|ruːhoɫˈɫɑːhe χomeiˈniː||Fa-ir-khomeini_(1).ogg}}; 24 September 1902 – 3&amp;nbsp;June 1989), known in the [[Western world]] as '''[[Ayatollah]] Khomeini''',&lt;ref&gt;{{cite web|title=Ayatollah Khomeini (1900–1989)|url=http://www.bbc.co.uk/history/historic_figures/khomeini_ayatollah.shtml|publisher=BBC – History|accessdate=20 June 2013}}&lt;/ref&gt; was an Iranian politician and ''[[Marja'|marja]]''. He was the founder of the [[Islamic republic of Iran|Islamic Republic of Iran]] and the leader of the 1979 [[Iranian Revolution]] that saw the overthrow of the last [[Shah]] of Iran, [[Mohammad Reza Pahlavi]], and the end of [[Persian Empire|2,500 years of Persian monarchy]]. Following the revolution, Khomeini became the country's [[Supreme Leader of Iran|Supreme Leader]], a position created in the [[Constitution of the Islamic Republic of Iran|constitution]] of the Islamic Republic as the highest-ranking political and religious authority of the nation, which he held until his death. He was succeeded by [[Ali Khamenei]] on 4 June 1989.\n",
      "\n",
      "Khomeini was born in 1902 in [[Khomeyn]], in what is now Iran's [[Markazi Province]]. His father was murdered in 1903 when Khomeini was five months old.&lt;ref name=&quot;Reich&quot;&gt;{{cite book|last=Reich|first=Bernard|url=https://books.google.co.uk/books?id=3D5FulN2WqQC&amp;pg=PA310|title=Political Leaders of the Contemporary Middle East and North Africa: A Biographical Dictionary|location=Westport, CN|publisher=Greenwood Press|year=1990|page=310}}&lt;/ref&gt; He began studying the [[Quran]] and the [[Persian language]] from a young age and was assisted in his religious studies by his relatives, including his mother's cousin and older brother.\n",
      "\n"
     ]
    }
   ],
   "source": [
    "print(''.join(lines[3976250:3976325]))"
   ]
  },
  {
   "cell_type": "code",
   "execution_count": 195,
   "metadata": {},
   "outputs": [
    {
     "data": {
      "text/plain": [
       "1631"
      ]
     },
     "execution_count": 195,
     "metadata": {},
     "output_type": "execute_result"
    }
   ],
   "source": [
    "len(bios)"
   ]
  },
  {
   "cell_type": "code",
   "execution_count": 210,
   "metadata": {},
   "outputs": [
    {
     "data": {
      "text/plain": [
       "1631"
      ]
     },
     "execution_count": 210,
     "metadata": {},
     "output_type": "execute_result"
    }
   ],
   "source": [
    "len(infoboxes)"
   ]
  },
  {
   "cell_type": "code",
   "execution_count": 166,
   "metadata": {},
   "outputs": [],
   "source": [
    "import html"
   ]
  },
  {
   "cell_type": "code",
   "execution_count": 170,
   "metadata": {},
   "outputs": [],
   "source": [
    "s = 'Alberto de Acha &lt;br&gt;&lt;small&gt;(maternal grandfather)&lt;/small&gt;&lt;ref name=&quot;Arnaz&quot;&gt;Arnaz, Desi. ''A Book''. New York: William Morrow, 1976. {{ISBN|0688003427}}&lt;/ref&gt;'"
   ]
  },
  {
   "cell_type": "code",
   "execution_count": 171,
   "metadata": {},
   "outputs": [
    {
     "data": {
      "text/plain": [
       "'Alberto de Acha <br><small>(maternal grandfather)</small><ref name=\"Arnaz\">Arnaz, Desi. A Book. New York: William Morrow, 1976. {{ISBN|0688003427}}</ref>'"
      ]
     },
     "execution_count": 171,
     "metadata": {},
     "output_type": "execute_result"
    }
   ],
   "source": [
    "html.unescape(s)"
   ]
  },
  {
   "cell_type": "code",
   "execution_count": null,
   "metadata": {},
   "outputs": [],
   "source": []
  },
  {
   "cell_type": "code",
   "execution_count": null,
   "metadata": {},
   "outputs": [],
   "source": []
  },
  {
   "cell_type": "code",
   "execution_count": 14,
   "metadata": {},
   "outputs": [],
   "source": [
    "del lines"
   ]
  },
  {
   "cell_type": "code",
   "execution_count": 17,
   "metadata": {},
   "outputs": [
    {
     "name": "stdout",
     "output_type": "stream",
     "text": [
      "Wall time: 75.8 ms\n"
     ]
    }
   ],
   "source": [
    "%%time\n",
    "\n",
    "cleaned_bios = []\n",
    "for b in bios:\n",
    "    kvs = ''.join(b).split('\\n|')\n",
    "    kvs[0] = kvs[0].replace('{{', 'infobox_type = ')\n",
    "    kvs[-1] = kvs[-1].replace('}}', '')\n",
    "    cleaned_kvs = [kv.strip() for kv in kvs]\n",
    "    cleaned_bios.append(cleaned_kvs)"
   ]
  },
  {
   "cell_type": "code",
   "execution_count": 42,
   "metadata": {},
   "outputs": [],
   "source": [
    "_ = []\n",
    "for i, bio in enumerate(cleaned_bios):\n",
    "    for item in bio:\n",
    "        if \"Russell's theory of causal lines&lt;ref&gt;{{cite book|url\" in item:\n",
    "            _ = bio"
   ]
  },
  {
   "cell_type": "code",
   "execution_count": 43,
   "metadata": {},
   "outputs": [
    {
     "data": {
      "text/plain": [
       "['infobox_type = Infobox philosopher',\n",
       " 'name             = &lt;small&gt;[[The Right Honourable]]&lt;/small&gt;&lt;br /&gt;The Earl Russell',\n",
       " 'honorific_suffix = {{post-nominals|country=GBR|OM|FRS|size=100%}}',\n",
       " 'image            = Bertrand Russell transparent bg.png',\n",
       " 'birth_name       = Bertrand Arthur William Russell',\n",
       " 'birth_date       = {{birth date|df=yes|1872|5|18}}',\n",
       " \"birth_place      = [[Trellech]], [[Monmouthshire (historic)|Monmouthshire]], United Kingdom{{efn|Monmouthshire's Welsh status was  ambiguous at this time, and was considered by some to be part of England. See [[Monmouthshire (historic)#Ambiguity over status]].}}&lt;!--Whether Monmouthshire was in Wales in 1872 is debatable. Please leave this alone; this page is not the place for this debate--&gt;\",\n",
       " 'death_date       = {{Death date and age|df=yes|1970|2|2|1872|5|18}}',\n",
       " 'death_place      = [[Penrhyndeudraeth]], [[Caernarfonshire]], Wales, United Kingdom',\n",
       " 'nationality      = British &lt;!-- This is the consensus. Please do not change this without first reading the corresponding debate on the talk page and reaching the necessary consensus for making any change. The United Kingdom of Great Britain and Northern Ireland is made up of four constituent countries: England, Northern Ireland, Scotland and Wales. These four countries are an equal union, sharing a common British citizenship. In other words, its citizens are British.--&gt;',\n",
       " 'spouse           = {{unbulleted list| {{marriage|[[Alys Pearsall Smith]]|1894|1921|end=div}}| {{marriage|[[Dora Russell|Dora Black]]|1921|1935|end=div}}| {{marriage|[[Patricia Russell, Countess Russell|Patricia Spence]]|1936|1952|end=div}}&lt;ref&gt;{{cite book|url=https://plato.stanford.edu/archives/win2015/entries/russell/|title=Bertrand Russell – The Stanford Encyclopedia of Philosophy|first=Andrew David|last=Irvine|editor-first=Edward N.|editor-last=Zalta|date=1 January 2015|publisher=Metaphysics Research Lab, Stanford University|via=Stanford Encyclopedia of Philosophy}}&lt;/ref&gt;| {{marriage|[[Edith Finch Russell|Edith Finch]]|1952}}}}',\n",
       " 'education        = [[Trinity College, Cambridge]] (B.A., 1893)',\n",
       " 'awards           = {{unbulleted list| [[De Morgan Medal]] (1932)| [[Sylvester Medal]] (1934)| [[Nobel Prize in Literature]] (1950)| [[Kalinga Prize]] (1957)| [[Jerusalem Prize]] (1963)}}',\n",
       " 'era              = [[20th-century philosophy]]',\n",
       " 'region           = [[Western philosophy]]',\n",
       " \"school_tradition = {{unbulleted list| [[Analytic philosophy]]| [[Linguistic turn]]| [[Foundationalism]]&lt;ref&gt;Carlo Cellucci, ''Rethinking Knowledge: The Heuristic View'', Springer, 2017, p. 32.&lt;/ref&gt;| [[Logicism]]| [[Predicativism]]| [[Indirect realism]]&lt;ref&gt;[https://plato.stanford.edu/entries/perception-episprob/ The Problem of Perception (Stanford Encyclopedia of Philosophy)]: &quot;Paraphrasing David Hume (1739...; see also Locke 1690, Berkeley 1710, Russell 1912): nothing is ever directly present to the mind in perception except perceptual appearances.&quot;&lt;/ref&gt;| [[Correspondence theory of truth]]&lt;ref&gt;{{cite book|url=https://plato.stanford.edu/archives/fall2016/entriesruth-correspondence/|title=The Stanford Encyclopedia of Philosophy|first=Marian|last=David|editor-first=Edward N.|editor-last=Zalta|date=14 May 2019|publisher=Metaphysics Research Lab, Stanford University|accessdate=14 May 2019|via=Stanford Encyclopedia of Philosophy}}&lt;/ref&gt;| [[Utilitarianism]]}}\",\n",
       " 'institutions = [[Trinity College, Cambridge]], [[London School of Economics]]',\n",
       " 'main_interests = {{flatlist|\\n* [[Epistemology]]\\n* [[ethics]]\\n* [[logic]]\\n* [[mathematics]]\\n* [[metaphysics]]\\n* [[history of philosophy]]\\n* [[philosophy of language]]\\n* [[philosophy of logic]]\\n* [[philosophy of mathematics]]\\n* [[philosophy of mind]]\\n* [[philosophy of perception]]\\n* [[philosophy of religion]]\\n* [[philosophy of science]]\\n}}',\n",
       " 'notable_ideas = {{collapsible list',\n",
       " '[[Analytic philosophy]]',\n",
       " '[[Automated reasoning]]',\n",
       " '[[Automated theorem proving]]',\n",
       " '[[Axiom of reducibility]]',\n",
       " '[[Barber paradox]]',\n",
       " '[[Berry paradox]]',\n",
       " '[[Chicken (game)|Chicken]]',\n",
       " '[[Connective (logic)|Connective]]',\n",
       " 'Criticism of the [[coherence theory of truth]]',\n",
       " 'Criticism of the [[doctrine of internal relations]]/[[logical holism]]',\n",
       " '[[Definite description]]',\n",
       " '[[Descriptivist theory of names]]',\n",
       " \"[[Direct reference theory]]&lt;ref&gt;Howard Wettstein, &quot;[[Frege–Russell view|Frege-Russell Semantics?]]&quot;, ''Dialectica'' '''44'''(1–2), 1990, pp. 113–135, esp. 115: &quot;Russell maintains that when one is acquainted with something, say, a present sense datum or oneself, one can refer to it without the mediation of anything like a Fregean sense. One can refer to it, as we might say, ''directly''.&quot;&lt;/ref&gt;\",\n",
       " '[[Double negation]]',\n",
       " \"[[Epistemic structural realism]]&lt;ref&gt;[http://plato.stanford.edu/entries/structural-realism/#Rel &quot;Structural Realism&quot;]: entry by James Ladyman in the ''[[Stanford Encyclopedia of Philosophy]]''&lt;/ref&gt;\",\n",
       " '[[Existential fallacy]]',\n",
       " '[[Failure of reference]]',\n",
       " '[[Knowledge by acquaintance]] and [[knowledge by description]]',\n",
       " '[[Logical atomism]]',\n",
       " '[[Logical form]]',\n",
       " '[[Relation (logic)|Logical relation]]',\n",
       " '[[Mathematical beauty]]',\n",
       " '[[Mathematical logic]]',\n",
       " '[[Meaning (philosophy of language)|Meaning]]',\n",
       " '[[Metamathematics]]',\n",
       " '[[Philosophical logic]]',\n",
       " '[[Predicativism]]',\n",
       " '[[Propositional analysis]]',\n",
       " '[[Propositional calculus]]',\n",
       " '[[Naive set theory]]',\n",
       " '[[Neutral monism]]',\n",
       " '[[Paradoxes of set theory]]',\n",
       " '[[Peano–Russell notation]]',\n",
       " '[[Propositional formula]]',\n",
       " '[[Self-refuting idea]]',\n",
       " '[[Quantification (logic)|Quantification]]',\n",
       " \"[[Round square copula]]&lt;br&gt;[[Russell's conjugation]]\",\n",
       " '[[Russell-style universes]]',\n",
       " '[[Russellian change]]',\n",
       " \"[[Russell's paradox]]\",\n",
       " '[[Russellian propositions]]',\n",
       " \"[[Russell's teapot]]\",\n",
       " \"Russell's theory of causal lines&lt;ref&gt;{{cite book|url=https://plato.stanford.edu/entries/causation-process/|title=Causal Processes – The Stanford Encyclopedia of Philosophy|first=Phil|last=Dowe|editor-first=Edward N.|editor-last=Zalta|date=10 September 2007|publisher=Metaphysics Research Lab, Stanford University|via=Stanford Encyclopedia of Philosophy}}&lt;/ref&gt;\",\n",
       " '[[Set-theoretic definition of natural numbers]]',\n",
       " '[[Singleton (mathematics)|Singleton]]',\n",
       " '[[Theory of descriptions]]',\n",
       " '[[Type theory]]/[[ramified type theory]]',\n",
       " '[[Tensor product of graphs]]',\n",
       " '[[Unity of the proposition]]',\n",
       " 'title={{nbsp}}\\n}}',\n",
       " \"influences = {{flatlist|\\n* [[Euclid]]\\n* [[John Stuart Mill|Mill]]\\n* [[Giuseppe Peano|Peano]]\\n* [[George Boole|Boole]]&lt;ref&gt;{{cite book|title=The Development of Bertrand Russell's Philosophy, Volume 11|year=2002|publisher=Psychology Press|isbn=978-0-415-29545-1|pages=113–114|author=Ronald Jager}}&lt;/ref&gt;\\n* [[Augustus De Morgan|De Morgan]]&lt;ref&gt;{{cite book|title=The Cambridge Companion to Bertrand Russell|year=2003|publisher=Cambridge University Press|isbn=978-0-521-63634-6|page=85|editor=Nicholas Griffin}}&lt;/ref&gt;\\n* [[Gottlob Frege|Frege]]\\n* [[Georg Cantor|Cantor]]\\n* [[George Santayana|Santayana]]\\n* [[Alexius Meinong|Meinong]]\\n* [[Baruch Spinoza|Spinoza]]\\n* [[William James|James]]\\n* [[Ernst Mach|Mach]]&lt;ref&gt;{{cite book|title=Bertrand Russell Memorial Volume|year=2013|publisher=Routledge|isbn=978-1-317-83302-4|author=Roberts, George W.|page=311}}&lt;/ref&gt;\\n* [[David Hume|Hume]]&lt;ref&gt;{{cite book|title=Historical Dictionary of Bertrand Russell's Philosophy|year=2009|publisher=Scarecrow Press|isbn=978-0-8108-6292-0|page=94|author1=Rosalind Carey|author2=John Ongley }}&lt;/ref&gt;\\n* [[Gottfried Wilhelm Leibniz|Leibniz]]\\n* [[Ludwig Wittgenstein|Wittgenstein]]\\n* [[Alfred North Whitehead|Whitehead]]\\n* [[G.&amp;nbsp;E. Moore|Moore]]\\n* [[George Stout|Stout]]\\n* [[James Ward (psychologist)|Ward]]&lt;ref&gt;{{cite book|url=https://plato.stanford.edu/archives/fall2017/entries/james-ward/|title=The Stanford Encyclopedia of Philosophy|first=Pierfrancesco|last=Basile|editor-first=Edward N.|editor-last=Zalta|date=14 May 2019|publisher=Metaphysics Research Lab, Stanford University|accessdate=14 May 2019|via=Stanford Encyclopedia of Philosophy}}&lt;/ref&gt;\\n* [[Henry Sidgwick|Sidgwick]]&lt;ref&gt;Schultz, Bart. [http://plato.stanford.edu/entries/sidgwick/ &quot;Henry Sidgwick&quot;]. ''[[Stanford Encyclopedia of Philosophy]]''. 2015.&lt;/ref&gt;\\n* [[Percy Bysshe Shelley|Shelley]]\\n}}\",\n",
       " \"influenced = {{flatlist|\\n* [[Ludwig Wittgenstein]]\\n* [[A.&amp;nbsp;J. Ayer]]\\n* [[Rudolf Carnap]]&lt;ref&gt;{{cite book|title=Language, Truth and Knowledge: Contributions to the Philosophy of [[Rudolf Carnap]]|year=2003|publisher=Springer|isbn=978-1-4020-1206-8|page=2|author=Ilkka Niiniluoto|editor=Thomas Bonk}}&lt;/ref&gt;\\n* [[John von Neumann]]&lt;ref&gt;{{cite book|title=CONPAR 1986|year=1986|publisher=Springer|isbn=978-3-540-16811-9|page=15|author1=Wolfgang Händler|author-link1=Wolfgang Händler|author2=Dieter Haupt|author3=Rolf Jelitsch|author4=Wilfried Juling|author5=Otto Lange }}&lt;/ref&gt;\\n* [[Kurt Gödel]]&lt;ref&gt;{{cite book|title=Reflections on Kurt Gödel|year=1990|publisher=MIT Press|isbn=9780262730877|page=305|author=Hao Wang}}&lt;/ref&gt;\\n* [[Karl Popper]]&lt;ref&gt;{{cite book|title=Karl Popper|year=2013|publisher=C. Black|isbn=978-1-62356-733-0|author=Phil Parvin}}&lt;/ref&gt;\\n* [[W.&amp;nbsp;V. Quine]]&lt;ref&gt;{{cite book|title=The Cambridge Companion to Quine|year=2004|publisher=Cambridge University Press|isbn=9780521639491|page=2|editor=Roger F. Gibson}}&lt;/ref&gt;\\n* [[Noam Chomsky]]&lt;ref&gt;{{cite book|title=Noam Chomsky: A Life of Dissent|year=1998|publisher=MIT Press|isbn=978-0-262-52255-7|page=32|author=Robert F. Barsky}}&lt;/ref&gt;\\n* [[Hilary Putnam]]&lt;ref&gt;{{cite book|title=French Theory: How Foucault, Derrida, Deleuze, &amp; Co. Transformed the Intellectual Life of the United States|year=2008|publisher=University of Minnesota Press|isbn=978-0-8166-4732-3|page=97|author=François Cusset}}&lt;/ref&gt;\\n* [[Saul Kripke]]&lt;ref&gt;{{cite book|title=Saul Kripke|year=2011|publisher=Cambridge University Press|isbn=978-1-139-50066-1|editor=Alan Berger}}&lt;/ref&gt;\\n* [[Moritz Schlick]]&lt;ref&gt;{{cite book|title=General Philosophy of Science: Focal Issues: Focal Issues|year=2007|publisher=Elsevier|isbn=978-0-08-054854-8|page=432|author1=Dov M. Gabbay|author2=Paul Thagard|author3=John Woods|author4=Theo A.&amp;nbsp;F. Kuipers|chapter=The Logical Approach of the Vienna Circle and their Followers from the 1920s to the 1950s}}&lt;/ref&gt;\\n* [[Vienna Circle]]&lt;ref&gt;{{cite book|title=Husserl's Crisis of the European Sciences and Transcendental Phenomenology: An Introduction|year=2012|publisher=Cambridge University Press|isbn=9780521895361|page=204|author=Dermot Moran}}&lt;/ref&gt;\\n* [[J.&amp;nbsp;L. Austin]]\\n* [[G.&amp;nbsp;H. Hardy]]&lt;ref&gt;{{cite web|title=Russell and G.H. Hardy: A study of their Relationship|url=http://digitalcommons.mcmaster.ca/cgi/viewcontent.cgi?article=1352&amp;context=russelljournal|publisher=McMaster University Library Press|accessdate=3 January 2014|author=Grattan-Guinness}}&lt;/ref&gt;\\n* [[Alfred Tarski]]&lt;ref&gt;{{cite book|title=Alfred Tarski: Philosophy of Language and Logic|year=2012|publisher=Palgrave Macmillan|isbn=978-0-230-36722-7|author=Douglas Patterson}}&lt;/ref&gt;\\n* [[Norbert Wiener]]&lt;ref&gt;{{cite book|title=Historical Dictionary of Bertrand Russell's Philosophy|year=2009|publisher=Scarecrow Press|isbn=978-0-8108-6292-0|pages=15–16|author1=Rosalind Carey|author2=John Ongley }}&lt;/ref&gt;\\n* [[Robert Oppenheimer]]&lt;ref&gt;{{cite book|title=Robert Oppenheimer: A Life Inside the Center|year=2013|publisher=Random House|isbn=978-0-385-50413-3|author=Ray Monk}}&lt;/ref&gt;\\n* [[Leon Chwistek]]&lt;ref&gt;{{cite book|title=Alfred Tarski: Life and Logic|year=2004|publisher=Cambridge University Press|isbn=978-0-521-80240-6|page=67|author1=Anita Burdman Feferman|author2=Solomon Feferman }}&lt;/ref&gt;\\n* [[Alan Turing]]&lt;ref&gt;{{cite book|title=[[Alan Turing: The Enigma]]|year=2012|publisher=Princeton University Press|isbn=978-0-691-15564-7|page=81|author=Andrew Hodges| authorlink=Andrew Hodges}}&lt;/ref&gt;\\n* [[Jacob Bronowski]]&lt;ref&gt;{{cite book|title=The Origins of Knowledge and Imagination|year=2008|publisher=Yale University Press|isbn=978-0-300-15718-5|author=Jacob Bronowski}}&lt;/ref&gt;\\n* [[Frank P. Ramsey]]&lt;ref&gt;{{cite book|title=Russell vs. Meinong: The Legacy of &quot;On Denoting&quot;|year=2008|publisher=Taylor &amp; Francis|isbn=978-0-203-88802-5|page=4|editor1=Nicholas Griffin|editor2=Dale Jacquette }}&lt;/ref&gt;\\n* [[Jawaharlal Nehru]]&lt;ref&gt;{{cite book|title=Jawaharlal Nehru, a Biography|year=1993|publisher=Allied Publishers|isbn=978-81-7023-369-5|page=46|author=Sankar Ghose|chapter=V: Europe Revisited}}&lt;/ref&gt;\\n* [[Tariq Ali]]&lt;ref&gt;{{cite web|title=Street-Fighting Years: An Autobiography of the Sixties|url=http://tariqali.org/archives/250|publisher=Verso|page=2005}}&lt;/ref&gt;\\n* [[Michael Albert]]&lt;ref&gt;{{cite book|title=Remembering Tomorrow: From SDS to Life After Capitalism: A Memoir|year=2011|publisher=Seven Stories Press|isbn=978-1-60980-001-7|author=Michael Albert}}&lt;/ref&gt;\\n* [[Che Guevara]]&lt;ref&gt;{{cite book|title=Che Guevara: A Revolutionary Life|year=1997|publisher=Grove Press|isbn=978-0-8021-9725-2|page=38|author=Jon Lee Anderson}}&lt;/ref&gt;\\n* [[Bernard Williams]]\\n* [[Donald Davidson (philosopher)|Donald Davidson]]&lt;ref&gt;{{cite book|title=Donald Davidson|year=2004|publisher=McGill-Queen's Press&amp;nbsp;– MQUP|isbn=978-0-7735-2781-2|page=1|author=Marc Joseph|chapter=1: Introduction: Davidson's Philosophical Project}}&lt;/ref&gt;\\n* [[Thomas Kuhn]]&lt;ref&gt;{{cite book|title=Thomas Kuhn's Revolution: An Historical Philosophy of Science|year=2005|publisher=Continuum|isbn=978-1-84714-194-1|page=5|author=James A. Marcum|chapter=1: Who is Thomas Kuhn?}}&lt;/ref&gt;\\n* [[Nathan Salmon]]&lt;ref&gt;{{cite book|title=Content, Cognition, and Communication : Philosophical Papers II: Philosophical Papers II|year=2007|publisher=Oxford University Press|isbn=978-0-19-153610-6|page=xi|author=Nathan Salmon|chapter=Introduction to Volume II}}&lt;/ref&gt;\\n* [[Christopher Hitchens]]&lt;ref&gt;{{cite book|title=The Portable Atheist: Essential Readings for the Nonbeliever|year=2007|publisher=Da Capo Press|isbn=978-0-306-81608-6|editor=Christopher Hitchens}}&lt;/ref&gt;\\n* [[Richard Dawkins]]&lt;ref&gt;{{cite book|title=Russell|year=2010|publisher=Routledge|isbn=978-0-203-84649-0|page=444|author=Gregory Landini}}&lt;/ref&gt;\\n* [[Carl Sagan]]&lt;ref&gt;{{cite book|title=The Varieties of Scientific Experience: A Personal View of the Search for God|year=2006|publisher=Penguin|isbn=978-1-59420-107-3|author=Carl Sagan|editor=Ann Druyan}}&lt;/ref&gt;\\n* [[Isaiah Berlin]]&lt;ref&gt;{{cite book|title=Isaiah Berlin: Liberty, Pluralism and Liberalism|year=2004|publisher=Polity|isbn=978-0-7456-2477-8|page=15|author=George Crowder}}&lt;/ref&gt;\\n* [[Albert Ellis]]&lt;ref&gt;{{cite book|title=Theories of Counseling and Psychotherapy: An Integrative Approach: An Integrative Approach|year=2011|publisher=SAGE|isbn=978-1-4129-1004-0|page=142|author=Elsie Jones-Smith}}&lt;/ref&gt;\\n* [[Martin Gardner]]&lt;ref&gt;{{cite web|title=Interview with Martin Gardner|url=http://www.ams.org/notices/200506/fea-gardner.pdf|publisher=American Mathematical Society|accessdate=5 January 2014|page=603|date=June–July 2005}}&lt;/ref&gt;\\n* [[Daniel Dennett]]&lt;ref&gt;{{cite book|title=C S Lewis Vs The New Atheists|year=2013|publisher=Authentic Media|isbn=978-1-78078-093-1|author=Peter S. Williams}}&lt;/ref&gt;\\n* [[Buckminster Fuller]]&lt;ref&gt;{{cite book|title=Becoming Bucky Fuller|year=2009|publisher=MIT Press|isbn=978-0-262-12302-0|page=72|author1=Loretta Lorance|author2=Richard Buckminster Fuller }}&lt;/ref&gt;\\n* [[Pervez Hoodbhoy]]&lt;ref&gt;{{cite web|title=How Difficult it is to Help People Change their Thinking – Interview with Dr. Pervez Hoodbhoy|url=http://old.drsohail.com/Articals/Pervezhoodbhoy.htm|author=K. Sohail|date=February 2000|archive-url=https://archive.is/20120716211940/http://old.drsohail.com/Articals/Pervezhoodbhoy.htm|archive-date=16 July 2012|accessdate=31 December 2013}}&lt;/ref&gt;\\n* [[John Maynard Keynes]]&lt;ref&gt;{{cite book|title=The Return to Keynes|year=2010|publisher=Harvard University Press|isbn=978-0-674-05354-0|page=146|editor1=Bradley W. Bateman|editor2=Toshiaki Hirai|editor3=Maria Cristina Marcuzzo }}&lt;/ref&gt;\\n* [[Isaac Asimov]]&lt;ref&gt;{{cite book|title=I. Asimov: A Memoir|year=2009|publisher=Random House|isbn=978-0-307-57353-7|author=Isaac Asimov}}&lt;/ref&gt;\\n* [[Paul Kurtz]]&lt;ref&gt;{{cite book|title=Toward a New Enlightenment: The Philosophy of Paul Kurtz|year=1994|publisher=Transaction Publishers|isbn=978-1-4128-4017-0|page=233|author=Paul Kurtz|editor1=Vern L. Bullough|editor2=Tim Madigan }}&lt;/ref&gt;\\n* [[Aleksandr Solzhenitsyn]]\\n* [[James Joyce]]&lt;ref&gt;{{cite book|title=Finding Joy in Joyce: A Readers Guide to Ulysses|year=2000|publisher=Universal-Publishers|isbn=978-1-58112-762-1|page=580|author=John P. Anderson}}&lt;/ref&gt;\\n* [[Kurt Vonnegut]]&lt;ref&gt;{{cite book|title=Reading, Learning, Teaching Kurt Vonnegut|year=2006|publisher=Peter Lang|isbn=978-0-8204-6337-7|page=46|author=Paul Lee Thomas}}&lt;/ref&gt;\\n* [[Ray Kurzweil]]&lt;ref&gt;{{cite book|title=Electronic Monuments|year=2005|publisher=U of Minnesota Press|isbn=978-0-8166-4583-1|page=180|author=Gregory L. Ulmer}}&lt;/ref&gt;\\n* [[Marvin Minsky]]&lt;ref&gt;{{cite book|title=Number-Crunching: Taming Unruly Computational Problems from Mathematical Physics to Science Fiction|year=2011|publisher=Princeton University Press|isbn=978-1-4008-3958-2|page=332|author=Paul J. Nahin|authorlink=Paul J. Nahin|chapter=9}}&lt;/ref&gt;\\n* [[Herbert A. Simon]]&lt;ref&gt;{{cite book|title=Models of a Man: Essays in Memory of Herbert A. Simon|year=2004|publisher=MIT Press|isbn=978-0-262-01208-9|page=21|editor1=Mie Augier|editor2=Herbert Alex|editor3=er Simon|editor4=James G. March }}&lt;/ref&gt;\\n* [[B.&amp;nbsp;F. Skinner]]&lt;ref&gt;{{cite book|title=The Psychology of B F Skinner|year=2001|publisher=SAGE|isbn=978-0-7619-1759-5|page=19|author1=William O'Donohue|author2=Kyle E. Ferguson }}&lt;/ref&gt;\\n* [[John Searle]]&lt;ref&gt;{{cite book|title=Conversations with John Searle|year=2001|publisher=LibrosEnRed.com|isbn=978-987-1022-11-3|page=28|author=Gustavo Faigenbaum}}&lt;/ref&gt;\\n* [[Andrei Sakharov]]&lt;ref&gt;{{cite book|title=Without Force Or Lies: Voices from the Revolution of Central Europe in 1989–90|year=1990|publisher=Mercury House|isbn=978-0-916515-92-8|page=37|editor1=William M. Brinton|editor2=Alan Rinzler }}&lt;/ref&gt;\\n* [[Stephen Hawking]]&lt;ref&gt;{{cite book|title=God, Time and Stephen Hawking|year=2001|publisher=Kregel Publications|isbn=978-0-8254-6029-6|page=18|author=David Wilkinson}}&lt;/ref&gt;\\n* [[Joseph Rotblat]]&lt;ref&gt;{{cite book|title=Joseph Rotblat: Visionary for Peace|year=2007|publisher=John Wiley &amp; Sons|isbn=978-3-527-61127-0|editor1=Reiner Braun|editor2=Robert Hinde|editor3=David Krieger|editor4=Harold Kroto|editor5=Sally Milne }}&lt;/ref&gt;\\n* [[Edward Said]]&lt;ref&gt;{{cite book|title=Edward Said: The Legacy of a Public Intellectual|year=2007|publisher=Academic Monographs|isbn=978-0-522-85357-5|page=27|editor1=Ned Curthoys|editor2=Debjani Ganguly }}&lt;/ref&gt;\\n* [[Sidney Hook]]\\n* [[Frank Wilczek]]&lt;ref&gt;{{cite web|title=Frank Wilczek - Biographical|url=https://www.nobelprize.org/nobel_prizes/physics/laureates/2004/wilczek-bio.html|publisher=Nobel Media AB 2017|quote=Another thing that shaped my thinking was religious training. I was brought up as a Roman Catholic. I loved the idea that there was a great drama and a grand plan behind existence. Later, under the influence of Bertrand Russell's writings and my increasing awareness of scientific knowledge, I lost faith in conventional religion.}}&lt;/ref&gt;\\n* [[A.&amp;nbsp;C. Grayling]]\\n* [[Colin McGinn]]\\n* [[Txillardegi]]&lt;ref&gt;[[Joxe Azurmendi|Azurmendi, Joxe]] (1999): Txillardegiren saioa: hastapenen bila, ''[[Jakin (magazine)|Jakin]]'', 114: pp. 17–45. {{ISSN|0211-495X}}&lt;/ref&gt;\\n}}\",\n",
       " 'signature = Bertrand Russell signature.svg']"
      ]
     },
     "execution_count": 43,
     "metadata": {},
     "output_type": "execute_result"
    }
   ],
   "source": [
    "_"
   ]
  },
  {
   "cell_type": "code",
   "execution_count": 20,
   "metadata": {},
   "outputs": [
    {
     "data": {
      "text/plain": [
       "False"
      ]
     },
     "execution_count": 20,
     "metadata": {},
     "output_type": "execute_result"
    }
   ],
   "source": [
    "'|'.isalpha()"
   ]
  },
  {
   "cell_type": "code",
   "execution_count": 21,
   "metadata": {},
   "outputs": [
    {
     "data": {
      "text/plain": [
       "1629"
      ]
     },
     "execution_count": 21,
     "metadata": {},
     "output_type": "execute_result"
    }
   ],
   "source": [
    "len(cleaned_bios)"
   ]
  },
  {
   "cell_type": "code",
   "execution_count": 110,
   "metadata": {},
   "outputs": [
    {
     "name": "stdout",
     "output_type": "stream",
     "text": [
      "Wall time: 135 ms\n"
     ]
    }
   ],
   "source": [
    "%%time\n",
    "\n",
    "k = v = ''\n",
    "lst_dic = []\n",
    "for i, bio in enumerate(cleaned_bios):\n",
    "#     if i % 200 == 0:\n",
    "#         print(i)\n",
    "    dic = {}\n",
    "    for item in bio:\n",
    "        kv = item.split('=')\n",
    "        #certainly this can be done with just a simple regular expression, but that will use a lot more memory. I'm using a laptop...\n",
    "        if not item \\\n",
    "        or not item[0].isalpha() \\\n",
    "        or not '=' in item \\\n",
    "        or not kv[0].strip().replace('_', '').replace('-', '').replace(' ', '').isalpha():\n",
    "            v += item\n",
    "            dic[k] = v\n",
    "            continue\n",
    "        k, v = kv[0].strip(), kv[1].strip()\n",
    "        dic[k] = v\n",
    "    lst_dic.append(dic)"
   ]
  },
  {
   "cell_type": "code",
   "execution_count": 111,
   "metadata": {},
   "outputs": [
    {
     "data": {
      "text/plain": [
       "1629"
      ]
     },
     "execution_count": 111,
     "metadata": {},
     "output_type": "execute_result"
    }
   ],
   "source": [
    "len(lst_dic)"
   ]
  },
  {
   "cell_type": "code",
   "execution_count": 112,
   "metadata": {},
   "outputs": [],
   "source": [
    "all_keys = []\n",
    "for dic in lst_dic:\n",
    "    all_keys += list(dic.keys())"
   ]
  },
  {
   "cell_type": "code",
   "execution_count": 113,
   "metadata": {},
   "outputs": [],
   "source": [
    "all_keys_set = set(all_keys)"
   ]
  },
  {
   "cell_type": "code",
   "execution_count": 114,
   "metadata": {},
   "outputs": [
    {
     "data": {
      "text/plain": [
       "['type_species_authority',\n",
       " 'resting_place_coordinates',\n",
       " 'FrenchOpenDoublesresult',\n",
       " 'ru_sevensnationalteam',\n",
       " 'GDP_nominal_per_capita_rank',\n",
       " 'laurenceolivierawards',\n",
       " 'pushpin_label_position',\n",
       " 'afterburning thrust main',\n",
       " 'highestdoublesranking',\n",
       " 'along with the sultan',\n",
       " 'max takeoff weight alt',\n",
       " 'WTAChampionshipsDoublesresult',\n",
       " 'population_density_rank',\n",
       " 'significant_buildings',\n",
       " 'OlympicMixedDoublesresult',\n",
       " 'GDP_nominal_per_capita',\n",
       " 'currentdoublesranking',\n",
       " 'population_census_year',\n",
       " 'identification_symbol_label',\n",
       " 'elimination_half-life',\n",
       " 'AustralianOpenDoublesresult',\n",
       " 'WimbledonDoublesresult',\n",
       " 'GDP_PPP_per_capita_rank',\n",
       " 'goldenraspberryawards',\n",
       " 'identification_symbol',\n",
       " 'FrenchOpenMixedresult',\n",
       " 'grandparent_authority',\n",
       " 'CoachTournamentRecord',\n",
       " 'conventional_long_name',\n",
       " 'author_abbreviation_zoo',\n",
       " 'medaltemplates-expand',\n",
       " 'restingplacecoordinates',\n",
       " 'colonel_of_the_regiment',\n",
       " 'max takeoff weight main',\n",
       " 'population_density_sq_mi',\n",
       " 'never exceed speed main',\n",
       " 'first_flight_aircraft',\n",
       " 'latest release version',\n",
       " 'variants with their own articles',\n",
       " 'OthertournamentsDoubles',\n",
       " 'ru_sevensnationalcomp',\n",
       " 'achievements and awards',\n",
       " 'never exceed speed alt',\n",
       " 'WTAChampionshipsresult',\n",
       " 'OlympicsDoublesresult',\n",
       " 'AustralianOpenMixedresult',\n",
       " 'population_estimate_rank',\n",
       " 'afterburning thrust alt',\n",
       " 'highestsinglesranking',\n",
       " 'ru_sevensnationalyears',\n",
       " 'OthertournamentsMixedDoubles',\n",
       " 'placeofburial_coordinates',\n",
       " 'routes_of_administration',\n",
       " 'author_abbreviation_bot',\n",
       " 'population_estimate_year']"
      ]
     },
     "execution_count": 114,
     "metadata": {},
     "output_type": "execute_result"
    }
   ],
   "source": [
    "[_ for _ in all_keys_set if len(_) > 20]"
   ]
  },
  {
   "cell_type": "code",
   "execution_count": 115,
   "metadata": {},
   "outputs": [],
   "source": [
    "df = pd.DataFrame(lst_dic)"
   ]
  },
  {
   "cell_type": "code",
   "execution_count": 116,
   "metadata": {},
   "outputs": [
    {
     "data": {
      "text/plain": [
       "(1629, 1478)"
      ]
     },
     "execution_count": 116,
     "metadata": {},
     "output_type": "execute_result"
    }
   ],
   "source": [
    "df.shape"
   ]
  },
  {
   "cell_type": "code",
   "execution_count": 117,
   "metadata": {},
   "outputs": [],
   "source": [
    "df_origin = df.copy()"
   ]
  },
  {
   "cell_type": "code",
   "execution_count": 62,
   "metadata": {},
   "outputs": [],
   "source": [
    "df_origin.to_excel('tmp.xlsx', 'data', index=False)"
   ]
  },
  {
   "cell_type": "code",
   "execution_count": 118,
   "metadata": {},
   "outputs": [],
   "source": [
    "null_count = df.isnull().sum()\n",
    "dic_null_count = null_count.to_dict()"
   ]
  },
  {
   "cell_type": "code",
   "execution_count": 119,
   "metadata": {},
   "outputs": [],
   "source": [
    "limit_null_rate = .95\n",
    "limit_null_count = int(df.shape[0] * limit_null_rate)"
   ]
  },
  {
   "cell_type": "code",
   "execution_count": 120,
   "metadata": {},
   "outputs": [
    {
     "data": {
      "text/plain": [
       "1547"
      ]
     },
     "execution_count": 120,
     "metadata": {},
     "output_type": "execute_result"
    }
   ],
   "source": [
    "limit_null_count"
   ]
  },
  {
   "cell_type": "code",
   "execution_count": 121,
   "metadata": {},
   "outputs": [],
   "source": [
    "for k, v in dic_null_count.items():\n",
    "    if v > limit_null_count:\n",
    "        df.drop(k, axis=1, inplace=True)"
   ]
  },
  {
   "cell_type": "code",
   "execution_count": 122,
   "metadata": {},
   "outputs": [
    {
     "data": {
      "text/plain": [
       "(1629, 77)"
      ]
     },
     "execution_count": 122,
     "metadata": {},
     "output_type": "execute_result"
    }
   ],
   "source": [
    "df.shape"
   ]
  },
  {
   "cell_type": "code",
   "execution_count": 123,
   "metadata": {},
   "outputs": [],
   "source": [
    "df.to_excel('tmp1.xlsx', 'data', index=False)"
   ]
  },
  {
   "cell_type": "code",
   "execution_count": 125,
   "metadata": {},
   "outputs": [
    {
     "data": {
      "text/plain": [
       "{{Infobox musical artist|embed                                                                     20\n",
       "{{Infobox military person|embed                                                                    15\n",
       "{{Infobox musical artist| embed                                                                     6\n",
       "{{Infobox musical artist                                                                            6\n",
       "                                                                                                    6\n",
       "{{Infobox scientist| embed                                                                          3\n",
       "{{Infobox philosopher|embed                                                                         3\n",
       "{{Listen                                                                                            3\n",
       "{{Infobox football biography                                                                        2\n",
       "{{Infobox Arabic name|embed                                                                         2\n",
       "{{Infobox scientist                                                                                 2\n",
       "{{Listen|embed                                                                                      2\n",
       "{{Infobox military person                                                                           2\n",
       "{{Infobox military person| embed                                                                    2\n",
       "{{Infobox person|child                                                                              2\n",
       "&lt;center&gt;{{Listen|embed                                                                        1\n",
       "{{Infobox engineering career                                                                        1\n",
       "{{Infobox aviator \\n                      | child                                                   1\n",
       "&lt;!-- Sport --&gt;                                                                                1\n",
       "'''Signature'''\\n[[File:Signature of Scott Joplin.svg|frameless|x30px]]                             1\n",
       "{{Infobox commander                                                                                 1\n",
       "{{Infobox Chinese                                                                                   1\n",
       "&lt;!--Musical career embed infobox--&gt;{{Infobox musical artist                                   1\n",
       "{{Infobox comedian                                                                                  1\n",
       "{{Infobox musical artist\\n | embed                                                                  1\n",
       "{{Infobox musical artist &lt;!-- See Wikipedia:WikiProject_Musicians --&gt;                         1\n",
       "{{Infobox Chinese|child                                                                             1\n",
       "{{collapsed infobox section begin|Ministerial offices                                               1\n",
       "{{Infobox musical artist &lt;!-- See WP:WikiProject Musicians --&gt;|embed                          1\n",
       "{{Infobox person| child                                                                             1\n",
       "{{infobox scientist| embed                                                                          1\n",
       "{{Infobox musical artist\\n                      | embed                                             1\n",
       "{{Infobox astronaut| child                                                                          1\n",
       "{{infobox sports announcer details\\n   | genre                                                      1\n",
       "{{Infobox Korean name|child                                                                         1\n",
       "[[List of compositions by Philip Glass]]                                                            1\n",
       "{{Infobox economist|embed                                                                           1\n",
       "{{Infobox NFL biography                                                                             1\n",
       "{{Infobox writer &lt;!-- for more information see [[:Template:Infobox writer/doc]] --&gt;|embed     1\n",
       "{{collapsed infobox section begin|Diplomatic missions                                               1\n",
       "{{Infobox military person\\n                      | embed                                            1\n",
       "{{infobox military person                                                                           1\n",
       "{{Infobox cricketer                                                                                 1\n",
       "{{Infobox officeholder|embed                                                                        1\n",
       "{{Infobox astronaut|child                                                                           1\n",
       "{{Listen|pos                                                                                        1\n",
       "{{Infobox professional wrestler|child                                                               1\n",
       "{{Infobox writer|embed                                                                              1\n",
       "{{Listen| embed                                                                                     1\n",
       "Name: module, dtype: int64"
      ]
     },
     "execution_count": 125,
     "metadata": {},
     "output_type": "execute_result"
    }
   ],
   "source": [
    "df_origin.module.value_counts()"
   ]
  },
  {
   "cell_type": "code",
   "execution_count": null,
   "metadata": {},
   "outputs": [],
   "source": []
  }
 ],
 "metadata": {
  "kernelspec": {
   "display_name": "Python 3",
   "language": "python",
   "name": "python3"
  },
  "language_info": {
   "codemirror_mode": {
    "name": "ipython",
    "version": 3
   },
   "file_extension": ".py",
   "mimetype": "text/x-python",
   "name": "python",
   "nbconvert_exporter": "python",
   "pygments_lexer": "ipython3",
   "version": "3.7.0"
  }
 },
 "nbformat": 4,
 "nbformat_minor": 2
}
