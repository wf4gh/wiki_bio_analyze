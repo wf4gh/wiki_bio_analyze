{
 "cells": [
  {
   "cell_type": "code",
   "execution_count": 43,
   "metadata": {
    "scrolled": false
   },
   "outputs": [
    {
     "name": "stdout",
     "output_type": "stream",
     "text": [
      " 驱动器 E 中的卷是 Documents\n",
      " 卷的序列号是 0725-5DFE\n",
      "\n",
      " E:\\Projects\\wiki_bio_analyze 的目录\n",
      "\n",
      "2019/06/04  08:53    <DIR>          .\n",
      "2019/06/04  08:53    <DIR>          ..\n",
      "2019/06/03  17:28               789 .gitignore\n",
      "2019/06/03  17:27    <DIR>          .ipynb_checkpoints\n",
      "2019/06/04  08:53            13,971 data_processing.ipynb\n",
      "2019/05/23  17:56       645,952,975 enwiki-20190520-pages-articles-multistream1.xml\n",
      "2019/05/31  17:26             7,565 infobox.csv\n",
      "2019/05/31  17:27            24,480 infobox_clean.ipynb\n",
      "2019/06/03  15:22               208 README.md\n",
      "2019/05/30  09:26           177,050 test.xml\n",
      "2019/05/31  15:16             8,776 wiki_infobox_person.txt\n",
      "               8 个文件    646,185,814 字节\n",
      "               3 个目录 43,403,710,464 可用字节\n"
     ]
    }
   ],
   "source": [
    "ls"
   ]
  },
  {
   "cell_type": "code",
   "execution_count": 44,
   "metadata": {},
   "outputs": [],
   "source": [
    "import mwparserfromhell\n",
    "import pandas as pd\n",
    "from time import time, sleep\n",
    "import re"
   ]
  },
  {
   "cell_type": "code",
   "execution_count": 45,
   "metadata": {},
   "outputs": [
    {
     "data": {
      "text/plain": [
       "['Infobox Buddha',\n",
       " 'Infobox Christian leader',\n",
       " 'Infobox clergy',\n",
       " 'Infobox Jewish leader',\n",
       " 'Infobox Latter Day Saint biography',\n",
       " 'Infobox rebbe',\n",
       " 'Infobox religious biography',\n",
       " 'Infobox saint',\n",
       " 'Infobox Egyptian dignitary',\n",
       " 'Infobox noble',\n",
       " 'Infobox peer',\n",
       " 'Infobox pharaoh',\n",
       " 'Infobox pretender',\n",
       " 'Infobox royalty',\n",
       " 'Infobox college football player',\n",
       " 'Infobox CFL biography',\n",
       " 'Infobox NFL biography',\n",
       " 'Infobox baseball biography',\n",
       " 'Infobox basketball biography',\n",
       " 'Infobox Champ Car driver',\n",
       " 'Infobox F1 driver',\n",
       " 'Infobox Le Mans driver',\n",
       " 'Infobox Motocross rider',\n",
       " 'Infobox motorcycle rider',\n",
       " 'Infobox NASCAR driver',\n",
       " 'Infobox racing driver',\n",
       " 'Infobox racing driver series section',\n",
       " 'Infobox speedway rider',\n",
       " 'Infobox WRC driver',\n",
       " 'Infobox sportsperson',\n",
       " 'Infobox biathlete',\n",
       " 'Infobox boxer (amateur)',\n",
       " 'Infobox climber',\n",
       " 'Infobox professional bowler',\n",
       " 'Infobox sailor',\n",
       " 'Infobox speed skater',\n",
       " 'Infobox sport wrestler',\n",
       " 'Infobox swimmer',\n",
       " 'Infobox bullfighting career',\n",
       " 'Infobox AFL biography',\n",
       " 'Infobox alpine ski racer',\n",
       " 'Infobox amateur wrestler',\n",
       " 'Infobox badminton player',\n",
       " 'Infobox bandy biography',\n",
       " 'Infobox bodybuilder',\n",
       " 'Infobox boxer',\n",
       " 'Infobox cricketer',\n",
       " 'Infobox curler',\n",
       " 'Infobox cyclist',\n",
       " 'Infobox equestrian',\n",
       " 'Infobox fencer',\n",
       " 'Infobox field hockey player',\n",
       " 'Infobox figure skater',\n",
       " 'Infobox football biography',\n",
       " 'Infobox football official',\n",
       " 'Infobox Gaelic Athletic Association player',\n",
       " 'Infobox golfer',\n",
       " 'Infobox gymnast',\n",
       " 'Infobox handball biography',\n",
       " 'Infobox horseracing personality',\n",
       " 'Infobox ice hockey player',\n",
       " 'Infobox lacrosse player',\n",
       " 'Infobox martial artist',\n",
       " 'Infobox mountaineer',\n",
       " 'Infobox NCAA athlete',\n",
       " 'Infobox netball biography',\n",
       " 'Infobox National Hockey League coach',\n",
       " 'Infobox pelotari',\n",
       " 'Infobox professional wrestler',\n",
       " 'Infobox rugby biography',\n",
       " 'Infobox rugby league biography',\n",
       " 'Infobox skier',\n",
       " 'Infobox sports announcer details',\n",
       " 'Infobox squash player',\n",
       " 'Infobox sumo wrestler',\n",
       " 'Infobox surfer',\n",
       " 'Infobox table tennis player',\n",
       " 'Infobox tennis biography',\n",
       " 'Infobox volleyball biography',\n",
       " 'Infobox person',\n",
       " 'Infobox academic',\n",
       " 'Infobox architect',\n",
       " 'Infobox artist',\n",
       " 'Infobox chef',\n",
       " 'Infobox clergy',\n",
       " 'Infobox classical composer',\n",
       " 'Infobox criminal',\n",
       " 'Infobox dancer',\n",
       " 'Infobox economist',\n",
       " 'Infobox engineer',\n",
       " 'Infobox engineering career',\n",
       " 'Infobox medical details',\n",
       " 'Infobox medical person',\n",
       " 'Infobox model',\n",
       " 'Infobox pageant titleholder',\n",
       " 'Infobox philosopher',\n",
       " 'Infobox pirate',\n",
       " 'Infobox police officer',\n",
       " 'Infobox presenter',\n",
       " 'Infobox scientist',\n",
       " 'Infobox sports announcer',\n",
       " 'Infobox spy',\n",
       " 'Infobox theologian',\n",
       " 'Infobox theological work',\n",
       " 'Infobox astronaut',\n",
       " 'Infobox aviator',\n",
       " 'Infobox chess biography',\n",
       " 'Infobox college coach',\n",
       " 'Infobox comedian',\n",
       " 'Infobox comics creator',\n",
       " 'Infobox darts player',\n",
       " 'Infobox FBI Ten Most Wanted',\n",
       " 'Infobox go player',\n",
       " 'Infobox gunpowder plotter',\n",
       " 'Infobox Magic: The Gathering player',\n",
       " 'Infobox member of the Knesset',\n",
       " 'Infobox military person',\n",
       " 'Infobox musical artist',\n",
       " 'Infobox Nahua officeholder',\n",
       " 'Infobox officeholder',\n",
       " 'Infobox Native American leader',\n",
       " 'Infobox Playboy Playmate',\n",
       " 'Infobox poker player',\n",
       " 'Infobox snooker player',\n",
       " 'Infobox video game player',\n",
       " 'Infobox War on Terror detainee',\n",
       " 'Infobox writer',\n",
       " 'Infobox YouTube personality']"
      ]
     },
     "execution_count": 45,
     "metadata": {},
     "output_type": "execute_result"
    }
   ],
   "source": [
    "df_infobox = pd.read_csv('infobox.csv')\n",
    "all_infobox_types = list(df_infobox.infobox_type)\n",
    "all_infobox_types"
   ]
  },
  {
   "cell_type": "code",
   "execution_count": 47,
   "metadata": {},
   "outputs": [
    {
     "name": "stdout",
     "output_type": "stream",
     "text": [
      "0.7759215831756592\n"
     ]
    }
   ],
   "source": [
    "start = time()\n",
    "\n",
    "with open('test.xml', 'r', encoding='utf-8') as f:\n",
    "# with open('enwiki-20190520-pages-articles-multistream1.xml', 'r', encoding='utf-8') as f:\n",
    "    lines = f.readlines()\n",
    "\n",
    "print(time() - start)"
   ]
  },
  {
   "cell_type": "code",
   "execution_count": 48,
   "metadata": {},
   "outputs": [
    {
     "data": {
      "text/plain": [
       "816"
      ]
     },
     "execution_count": 48,
     "metadata": {},
     "output_type": "execute_result"
    }
   ],
   "source": [
    "len(lines)"
   ]
  },
  {
   "cell_type": "code",
   "execution_count": 49,
   "metadata": {},
   "outputs": [
    {
     "ename": "IndentationError",
     "evalue": "expected an indented block (<ipython-input-49-6598c65d94c2>, line 11)",
     "output_type": "error",
     "traceback": [
      "\u001b[1;36m  File \u001b[1;32m\"<ipython-input-49-6598c65d94c2>\"\u001b[1;36m, line \u001b[1;32m11\u001b[0m\n\u001b[1;33m    print(infobox_count)\u001b[0m\n\u001b[1;37m                        ^\u001b[0m\n\u001b[1;31mIndentationError\u001b[0m\u001b[1;31m:\u001b[0m expected an indented block\n"
     ]
    }
   ],
   "source": [
    "infobox_count = 0\n",
    "infobox_biography = []\n",
    "lst_infobox = []\n",
    "bracket_stack = 0\n",
    "cur_line_is_infobox = False\n",
    "for l in lines:\n",
    "    if l[:9] == '{{Infobox' and l[2:].strip() in all_infobox_types:\n",
    "        cur_line_is_infobox = True\n",
    "        infobox_count += 1\n",
    "    if bracket_stack > 0:\n",
    "        #process this line\n",
    "print(infobox_count)"
   ]
  },
  {
   "cell_type": "code",
   "execution_count": 34,
   "metadata": {},
   "outputs": [
    {
     "data": {
      "text/plain": [
       "True"
      ]
     },
     "execution_count": 34,
     "metadata": {},
     "output_type": "execute_result"
    }
   ],
   "source": [
    "bool(-1)"
   ]
  },
  {
   "cell_type": "code",
   "execution_count": 31,
   "metadata": {},
   "outputs": [
    {
     "data": {
      "text/plain": [
       "52"
      ]
     },
     "execution_count": 31,
     "metadata": {},
     "output_type": "execute_result"
    }
   ],
   "source": [
    "len(set(infobox_biography))"
   ]
  },
  {
   "cell_type": "code",
   "execution_count": 32,
   "metadata": {},
   "outputs": [
    {
     "data": {
      "text/plain": [
       "128"
      ]
     },
     "execution_count": 32,
     "metadata": {},
     "output_type": "execute_result"
    }
   ],
   "source": [
    "len(all_infobox_types)"
   ]
  },
  {
   "cell_type": "code",
   "execution_count": null,
   "metadata": {},
   "outputs": [],
   "source": [
    "start = time()\n",
    "\n",
    "wikicode = mwparserfromhell.parse(text)\n",
    "\n",
    "print(time() - start)"
   ]
  },
  {
   "cell_type": "code",
   "execution_count": 54,
   "metadata": {},
   "outputs": [],
   "source": [
    "infobox_text = wikicode.filter_templates(matches=lambda s: s[:9] == '{{Infobox')"
   ]
  },
  {
   "cell_type": "code",
   "execution_count": 63,
   "metadata": {},
   "outputs": [],
   "source": [
    "tmp = infobox_text[0].split('\\n|')"
   ]
  },
  {
   "cell_type": "code",
   "execution_count": 65,
   "metadata": {},
   "outputs": [],
   "source": [
    "tmp[0] = tmp[0].replace('{{', '')\n",
    "tmp[-1] = tmp[-1].replace('}}', '')"
   ]
  },
  {
   "cell_type": "code",
   "execution_count": 66,
   "metadata": {},
   "outputs": [
    {
     "data": {
      "text/plain": [
       "['Infobox officeholder',\n",
       " ' name = Abraham Lincoln',\n",
       " ' image = Abraham Lincoln O-77 matte collodion print.jpg',\n",
       " ' alt = An iconic photograph of a bearded Abraham Lincoln showing his head and shoulders.',\n",
       " ' office = 16th [[President of the United States]]',\n",
       " ' vicepresident = [[Hannibal Hamlin]]&lt;br/&gt;(1861–1865)&lt;br/&gt;Andrew Johnson&lt;br/&gt;(Mar–Apr. 1865)',\n",
       " ' term_start = March 4, 1861',\n",
       " ' term_end = April 15, 1865',\n",
       " ' predecessor = [[James Buchanan]]',\n",
       " ' successor = [[Andrew Johnson]]',\n",
       " ' state1 = [[Illinois]]',\n",
       " ' district1 = {{ushr|IL|7|7th}}',\n",
       " ' term_start1 = March 4, 1847',\n",
       " ' term_end1 = March 3, 1849',\n",
       " ' predecessor1 = [[John Henry (representative)|John Henry]]',\n",
       " ' successor1 = [[Thomas L. Harris]]',\n",
       " ' office2 = Member of the&lt;br/&gt;[[Illinois House of Representatives]]&lt;br/&gt;from [[Sangamon County]]',\n",
       " ' term_start2 = December 1, 1834',\n",
       " ' term_end2 = December 4, 1842',\n",
       " ' birth_date = {{birth date|1809|2|12}}',\n",
       " ' birth_place = [[Abraham Lincoln Birthplace National Historical Park|Sinking Spring Farm]], [[Kentucky]], U.S.',\n",
       " ' death_date = {{death date and age|1865|4|15|1809|2|12}}',\n",
       " ' death_place = [[Washington, D.C.]], U.S.',\n",
       " ' death_cause = [[Assassination of Abraham Lincoln|Assassination]] (gun shot)',\n",
       " ' restingplace = [[Lincoln Tomb]]',\n",
       " ' height = 6 ft 4 in&lt;ref name=\"LincolnHeight\"&gt;{{cite book|last=Carpenter|first=Francis B.|title=Six Months in the White House: The Story of a Picture|year=1866|publisher=Hurd and Houghton.|page=217}}&lt;/ref&gt;',\n",
       " ' party = [[Whig Party (United States)|Whig]] (Before 1854)&lt;br/&gt;[[Republican Party (United States)|Republican]] (1854–1864)&lt;br/&gt;[[National Union Party (United States)|National Union]] (1864–1865)',\n",
       " ' spouse = {{marriage|[[Mary Todd Lincoln|Mary Todd]]|November 4, 1842}}',\n",
       " ' children = {{hlist|[[Robert Todd Lincoln|Robert]]|[[Edward Baker Lincoln|Edward]]|[[William Wallace Lincoln|Willie]]|[[Tad Lincoln|Tad]]}}',\n",
       " ' relatives = [[Thomas Lincoln]] (father)&lt;br/&gt;[[Nancy Hanks Lincoln|Nancy Hanks]] (mother)',\n",
       " ' signature = Abraham Lincoln 1862 signature.svg',\n",
       " ' signature_alt = Cursive signature in ink',\n",
       " ' allegiance = United States&lt;br&gt;[[Illinois]]',\n",
       " ' branch = [[Illinois Militia]]',\n",
       " ' serviceyears = 1832',\n",
       " ' rank = [[Captain (US Army)|Captain]]{{Efn|name=\"Ranks\"|Discharged from command-rank of Captain and re-enlisted at rank of Private.}}&lt;br/&gt;[[Private (United States)|Private]]{{Efn|name=\"Ranks\"}}',\n",
       " ' battles = [[American Indian Wars]]&lt;br /&gt;\\n* [[Black Hawk War]]\\n']"
      ]
     },
     "execution_count": 66,
     "metadata": {},
     "output_type": "execute_result"
    }
   ],
   "source": [
    "tmp"
   ]
  },
  {
   "cell_type": "code",
   "execution_count": 40,
   "metadata": {},
   "outputs": [],
   "source": [
    "s = 'children = {{hlist|[[Robert Tod{{d Lincoln|Robert]]|[[Edward Baker Lincoln|Edward]]|[[William Wallace Lincoln|Willie]]|[[Tad Lincoln|Tad]]}}'"
   ]
  },
  {
   "cell_type": "code",
   "execution_count": 41,
   "metadata": {},
   "outputs": [
    {
     "data": {
      "text/plain": [
       "2"
      ]
     },
     "execution_count": 41,
     "metadata": {},
     "output_type": "execute_result"
    }
   ],
   "source": [
    "len(re.findall('{{', s))"
   ]
  },
  {
   "cell_type": "code",
   "execution_count": null,
   "metadata": {},
   "outputs": [],
   "source": []
  }
 ],
 "metadata": {
  "kernelspec": {
   "display_name": "Python 3",
   "language": "python",
   "name": "python3"
  }
 },
 "nbformat": 4,
 "nbformat_minor": 2
}
